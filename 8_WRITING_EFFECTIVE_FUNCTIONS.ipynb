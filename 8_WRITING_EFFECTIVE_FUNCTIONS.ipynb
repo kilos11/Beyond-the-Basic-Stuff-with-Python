{
  "nbformat": 4,
  "nbformat_minor": 0,
  "metadata": {
    "colab": {
      "provenance": [],
      "authorship_tag": "ABX9TyPfSUl3xkzOg0avVWmlwuzO",
      "include_colab_link": true
    },
    "kernelspec": {
      "name": "python3",
      "display_name": "Python 3"
    },
    "language_info": {
      "name": "python"
    }
  },
  "cells": [
    {
      "cell_type": "markdown",
      "metadata": {
        "id": "view-in-github",
        "colab_type": "text"
      },
      "source": [
        "<a href=\"https://colab.research.google.com/github/kilos11/Beyond-the-Basic-Stuff-with-Python/blob/main/8_WRITING_EFFECTIVE_FUNCTIONS.ipynb\" target=\"_parent\"><img src=\"https://colab.research.google.com/assets/colab-badge.svg\" alt=\"Open In Colab\"/></a>"
      ]
    },
    {
      "cell_type": "markdown",
      "source": [
        "#**Function Size Trade-Offs**#\n",
        "##Some programmers say that functions should be as short as possible and no longer than what can fit on a single screen. A function that is only a dozen lines long is relatively easy to understand, at least compared to one that is hundreds of lines long. But making functions shorter by splitting up their code into multiple smaller functions can also have its downsides. Let’s look at some of the advantages of small functions:\n",
        "\n",
        "##*The function’s code is easier to understand.*\n",
        "##*The function likely requires fewer parameters.*\n",
        "##*The function is less likely to have side effects, as described in “Functional Programming”.*\n",
        "##*The function is easier to test and debug.*\n",
        "##*The function likely raises fewer different kinds of exceptions.*\n",
        "##**But there are also some disadvantages to short functions:\n",
        "\n",
        "#*Writing short functions often means a larger number of functions in the program.*\n",
        "##*Having more functions means the program is more complicated.*\n",
        "##*Having more functions also means having to come up with additional descriptive, accurate names, which is a difficult task.*\n",
        "##*Using more functions requires you to write more documentation.*\n",
        "##*The relationships between functions become more complicated.*\n",
        "##*Some people take the guideline “the shorter, the better” to an extreme and claim that all functions should be three or four lines of code at most.*"
      ],
      "metadata": {
        "id": "x3uEzgUqdubd"
      }
    },
    {
      "cell_type": "code",
      "execution_count": null,
      "metadata": {
        "id": "_agrlOr3NYfU",
        "colab": {
          "base_uri": "https://localhost:8080/",
          "height": 384
        },
        "outputId": "8710859b-36c6-43f6-db71-b659d2d5a0b9"
      },
      "outputs": [
        {
          "name": "stdout",
          "output_type": "stream",
          "text": [
            "Enter the letters of \"from\" and \"to\" towers, or QUIT.\n",
            "(e.g. AB to moves a disk from tower A to tower B.)\n",
            "\n",
            "> AB\n"
          ]
        },
        {
          "output_type": "error",
          "ename": "NameError",
          "evalue": "name 'towers' is not defined",
          "traceback": [
            "\u001b[0;31m---------------------------------------------------------------------------\u001b[0m",
            "\u001b[0;31mNameError\u001b[0m                                 Traceback (most recent call last)",
            "\u001b[0;32m<ipython-input-4-e595454d6ba7>\u001b[0m in \u001b[0;36m<cell line: 35>\u001b[0;34m()\u001b[0m\n\u001b[1;32m     33\u001b[0m             \u001b[0;32mreturn\u001b[0m \u001b[0mfromTower\u001b[0m\u001b[0;34m,\u001b[0m \u001b[0mtoTower\u001b[0m\u001b[0;34m\u001b[0m\u001b[0;34m\u001b[0m\u001b[0m\n\u001b[1;32m     34\u001b[0m \u001b[0;34m\u001b[0m\u001b[0m\n\u001b[0;32m---> 35\u001b[0;31m \u001b[0mgetPlayerMove\u001b[0m\u001b[0;34m(\u001b[0m\u001b[0;34m'AB'\u001b[0m\u001b[0;34m)\u001b[0m\u001b[0;34m\u001b[0m\u001b[0;34m\u001b[0m\u001b[0m\n\u001b[0m\u001b[1;32m     36\u001b[0m \u001b[0;34m\u001b[0m\u001b[0m\n",
            "\u001b[0;32m<ipython-input-4-e595454d6ba7>\u001b[0m in \u001b[0;36mgetPlayerMove\u001b[0;34m(tower)\u001b[0m\n\u001b[1;32m     19\u001b[0m         \u001b[0mfromTower\u001b[0m\u001b[0;34m,\u001b[0m \u001b[0mtoTower\u001b[0m \u001b[0;34m=\u001b[0m \u001b[0mresponse\u001b[0m\u001b[0;34m[\u001b[0m\u001b[0;36m0\u001b[0m\u001b[0;34m]\u001b[0m\u001b[0;34m,\u001b[0m \u001b[0mresponse\u001b[0m\u001b[0;34m[\u001b[0m\u001b[0;36m1\u001b[0m\u001b[0;34m]\u001b[0m\u001b[0;34m\u001b[0m\u001b[0;34m\u001b[0m\u001b[0m\n\u001b[1;32m     20\u001b[0m \u001b[0;34m\u001b[0m\u001b[0m\n\u001b[0;32m---> 21\u001b[0;31m         \u001b[0;32mif\u001b[0m \u001b[0mlen\u001b[0m\u001b[0;34m(\u001b[0m\u001b[0mtowers\u001b[0m\u001b[0;34m[\u001b[0m\u001b[0mfromTower\u001b[0m\u001b[0;34m]\u001b[0m\u001b[0;34m)\u001b[0m \u001b[0;34m==\u001b[0m \u001b[0;36m0\u001b[0m\u001b[0;34m:\u001b[0m\u001b[0;34m\u001b[0m\u001b[0;34m\u001b[0m\u001b[0m\n\u001b[0m\u001b[1;32m     22\u001b[0m             \u001b[0;31m# The \"from\" tower cannot be an empty tower:\u001b[0m\u001b[0;34m\u001b[0m\u001b[0;34m\u001b[0m\u001b[0m\n\u001b[1;32m     23\u001b[0m             \u001b[0mprint\u001b[0m\u001b[0;34m(\u001b[0m\u001b[0;34m\"You selected a tower with no disks.\"\u001b[0m\u001b[0;34m)\u001b[0m\u001b[0;34m\u001b[0m\u001b[0;34m\u001b[0m\u001b[0m\n",
            "\u001b[0;31mNameError\u001b[0m: name 'towers' is not defined"
          ]
        }
      ],
      "source": [
        "def getPlayerMove(tower):\n",
        "    \"\"\"Asks the player for a move. Returns (fromTower, toTower).\"\"\"\n",
        "    while True:# Keep asking player until they enter a valid move.\n",
        "        print('Enter the letters of \"from\" and \"to\" towers, or QUIT.')\n",
        "        print(\"(e.g. AB to moves a disk from tower A to tower B.)\")\n",
        "        print()\n",
        "        response = input(\"> \").upper().strip()\n",
        "\n",
        "        if response == \"QUII\":\n",
        "            print(\"Thanks for playing!\")\n",
        "            sys.exit()\n",
        "\n",
        "        # Make sure the user entered valid tower letters:\n",
        "        if response not in (\"AB\", \"AC\", \"BA\", \"BC\", \"CA\", \"CB\"):\n",
        "            print(\"Enter one of AB, AC, BA, BC, CA, or CB.\")\n",
        "            continue  # Ask player again for their move.\n",
        "\n",
        "        # Use more descriptive variable names:\n",
        "        fromTower, toTower = response[0], response[1]\n",
        "\n",
        "        if len(towers[fromTower]) == 0:\n",
        "            # The \"from\" tower cannot be an empty tower:\n",
        "            print(\"You selected a tower with no disks.\")\n",
        "            continue  # Ask player again for their move.\n",
        "        elif len(towers[toTower]) == 0:\n",
        "            # Any disk can be moved onto an empty \"to\" tower:\n",
        "            return fromTower, toTower\n",
        "        elif towers[toTower][-1] < towers[fromTower][-1]:\n",
        "            print(\"Can't put larger disks on top of smaller ones.\")\n",
        "            continue  # Ask player again for their move.\n",
        "        else:\n",
        "            # This is a valid move, so return the selected towers:\n",
        "            return fromTower, toTower\n",
        "\n",
        "getPlayerMove('AB')\n",
        "\n"
      ]
    },
    {
      "cell_type": "markdown",
      "source": [
        "##This function is 34 lines long. Although it covers multiple tasks, including allowing the player to enter a move, checking whether this move is valid, and asking the player again to enter a move if the move is invalid, these tasks all fall under the umbrella of getting the player’s move. On the other hand, if we were devoted to writing short functions, we could break the code in getPlayerMove() into smaller functions, like this:"
      ],
      "metadata": {
        "id": "eQxVRUaljEXa"
      }
    },
    {
      "source": [
        "def getPlayerMove(towers):\n",
        "    \"\"\"Asks the player for a move. Returns (fromTower, toTower).\"\"\"\n",
        "\n",
        "    while True:  # Keep asking player until they enter a valid move.\n",
        "        response = askForPlayerMove()\n",
        "        terminateIfResponseIsQuit(response)\n",
        "        if not isValidTowerLetters(response):\n",
        "            continue  # Ask player again for their move.\n",
        "\n",
        "        # Use more descriptive variable names:\n",
        "        fromTower, toTower = response[0], response[1]\n",
        "\n",
        "        if towerWithNoDisksSelected(towers, fromTower):\n",
        "            continue  # Ask player again for their move.\n",
        "        elif len(towers[toTower]) == 0:\n",
        "            # Any disk can be moved onto an empty \"to\" tower:\n",
        "            return fromTower, toTower\n",
        "        elif largerDiskIsOnSmallerDisk(towers, fromTower, toTower):\n",
        "            continue  # Ask player again for their move.\n",
        "        else:\n",
        "            # This is a valid move, so return the selected towers:\n",
        "            return fromTower, toTower\n",
        "\n",
        "    def askForPlayerMove():\n",
        "        \"\"\"Prompt the player, and return which towers they select.\"\"\"\n",
        "        print('Enter the letters of \"from\" and \"to\" towers, or QUIT.')\n",
        "        print(\"(e.g. AB to moves a disk from tower A to tower B.)\")\n",
        "        print()\n",
        "        return input(\"> \").upper().strip()\n",
        "\n",
        "    def terminateIfResponseIsQuit(response):\n",
        "        \"\"\"Terminate the program if response is 'QUIT'\"\"\"\n",
        "        if response == \"QUIT\":\n",
        "            print(\"Thanks for playing!\")\n",
        "            sys.exit()\n",
        "\n",
        "    def isValidTowerLetters(towerLetters):\n",
        "        \"\"\"Return True if `towerLetters` is valid.\"\"\"\n",
        "        if towerLetters not in (\"AB\", \"AC\", \"BA\", \"BC\", \"CA\", \"CB\"):\n",
        "            print(\"Enter one of AB, AC, BA, BC, CA, or CB.\")\n",
        "            return False\n",
        "        return"
      ],
      "cell_type": "code",
      "metadata": {
        "id": "zQcuu3yci5z3"
      },
      "execution_count": null,
      "outputs": []
    },
    {
      "cell_type": "markdown",
      "source": [
        "#**Default Arguments**#\n",
        "##One way to reduce the complexity of your function’s parameters is by providing default arguments for your parameters. A default argument is a value used as an argument if the function call doesn’t specify one. If the majority of function calls use a particular parameter value, we can make that value a default argument to avoid having to enter it repeatedly in the function call.\n",
        "\n",
        "##*We specify a default argument in the def statement, following the parameter name and an equal sign. For example, in this introduction() function, a parameter named greeting has the value 'Hello' if the function call doesn’t specify it:"
      ],
      "metadata": {
        "id": "wothbMdNkDQt"
      }
    },
    {
      "cell_type": "code",
      "source": [
        "def introduction(name,greeting=\"Hello\"):\n",
        "    print(greeting + ', ' + name)\n",
        "\n",
        "introduction('Alice')\n",
        "introduction('Hiro', 'Ohiyo gozaimasu')"
      ],
      "metadata": {
        "colab": {
          "base_uri": "https://localhost:8080/"
        },
        "id": "yFbcC42Skfkl",
        "outputId": "3e2c2a7b-00ac-481a-fbd5-8f6b21dc8584"
      },
      "execution_count": null,
      "outputs": [
        {
          "output_type": "stream",
          "name": "stdout",
          "text": [
            "Hello, Alice\n",
            "Ohiyo gozaimasu, Hiro\n"
          ]
        }
      ]
    },
    {
      "cell_type": "markdown",
      "source": [
        "#**Using * and ** to Pass Arguments to Functions**#\n",
        "##You can use the * and ** syntax (often pronounced as star and star star) to pass groups of arguments to functions separately. The * syntax allows you to pass in the items in an iterable object (such as a list or tuple). The ** syntax allows you to pass in the key-value pairs in a mapping object (such as a dictionary) as individual arguments.\n",
        "\n",
        "##For example, the print() function can take multiple arguments. It places a space in between them by default,"
      ],
      "metadata": {
        "id": "KInTDNgeml4g"
      }
    },
    {
      "cell_type": "code",
      "source": [
        "print('cat', 'dog', 'moose')"
      ],
      "metadata": {
        "colab": {
          "base_uri": "https://localhost:8080/"
        },
        "id": "gHUNu0QNmyf2",
        "outputId": "7df9a2ba-e329-4fc4-e4e6-1acb7c43f9a3"
      },
      "execution_count": null,
      "outputs": [
        {
          "output_type": "stream",
          "name": "stdout",
          "text": [
            "cat dog moose\n"
          ]
        }
      ]
    },
    {
      "cell_type": "markdown",
      "source": [
        "##These arguments are called positional arguments, because their position in the function call determines which argument is assigned to which parameter. But if you stored these strings in a list and tried to pass the list, the print() function would think you were trying to print the list as a single value:"
      ],
      "metadata": {
        "id": "32h1pVIinoMi"
      }
    },
    {
      "cell_type": "code",
      "source": [
        "args = ['cat', 'dog', 'moose']\n",
        "print(args)"
      ],
      "metadata": {
        "colab": {
          "base_uri": "https://localhost:8080/"
        },
        "id": "yweS2pIEnwpo",
        "outputId": "ca48cfb9-733a-4092-f678-2c73fad37919"
      },
      "execution_count": null,
      "outputs": [
        {
          "output_type": "stream",
          "name": "stdout",
          "text": [
            "['cat', 'dog', 'moose']\n"
          ]
        }
      ]
    },
    {
      "cell_type": "markdown",
      "source": [
        "##Passing the list to print() displays the list, including brackets, quotes, and comma characters.\n",
        "\n",
        "##One way to print the individual items in the list would be to split the list into multiple arguments by passing each item’s index to the function individually, resulting in code that is harder to read:"
      ],
      "metadata": {
        "id": "1GwsLpyqn-2y"
      }
    },
    {
      "cell_type": "code",
      "source": [
        "# An example of less readable code:\n",
        "args = ['cat', 'dog', 'moose']\n",
        "print(args[0], args[1], args[2])"
      ],
      "metadata": {
        "colab": {
          "base_uri": "https://localhost:8080/"
        },
        "id": "GEpwikDHoIUb",
        "outputId": "402673a7-d4b3-4bc3-f97e-949513b2a962"
      },
      "execution_count": null,
      "outputs": [
        {
          "output_type": "stream",
          "name": "stdout",
          "text": [
            "cat dog moose\n"
          ]
        }
      ]
    },
    {
      "cell_type": "markdown",
      "source": [
        "##The * syntax allows you pass the list items to a function individually, no matter how many items are in the list.\n",
        "\n",
        "##You can use the ** syntax to pass mapping data types (such as dictionaries) as individual keyword arguments. Keyword arguments are preceded by a parameter name and equal sign. For example, the print() function has a sep keyword argument that specifies a string to put in between the arguments it displays. It’s set to a single space string ' ' by default. You can assign a keyword argument to a different value using either an assignment statement or the ** syntax."
      ],
      "metadata": {
        "id": "1roiGkmyo0--"
      }
    },
    {
      "cell_type": "code",
      "source": [
        "print('cat', 'dog', 'moose', sep='♤')\n",
        "kwargsForPrint = {'sep': '-'}\n",
        "print('cat', 'dog', 'moose', **kwargsForPrint)"
      ],
      "metadata": {
        "colab": {
          "base_uri": "https://localhost:8080/"
        },
        "id": "0pgQ67oipbpU",
        "outputId": "53cf316a-ca66-4317-cd73-f83e4dd89881"
      },
      "execution_count": null,
      "outputs": [
        {
          "output_type": "stream",
          "name": "stdout",
          "text": [
            "cat♤dog♤moose\n",
            "cat-dog-moose\n"
          ]
        }
      ]
    },
    {
      "cell_type": "markdown",
      "source": [
        "#**Using * to Create Variadic Functions**#\n",
        "##You can also use the * syntax in def statements to create variadic or varargs functions that receive a varying number of positional arguments. For instance, print() is a variadic function, because you can pass any number of strings to it: print('Hello!') or print('My name is', name), for example. Note that although we used the * syntax in function calls in the previous section, we use the * syntax in function definitions in this section.\n",
        "\n",
        "##Let’s look at an example by creating a product() function that takes any number of arguments and multiplies them together:"
      ],
      "metadata": {
        "id": "8pgovJ4Lqa-3"
      }
    },
    {
      "cell_type": "code",
      "source": [
        "def product(*args):\n",
        "    result = 1\n",
        "    for num in args:\n",
        "        result *= num\n",
        "    return result\n",
        "\n",
        "product(3,3)\n",
        "product(2, 1, 2, 3)"
      ],
      "metadata": {
        "colab": {
          "base_uri": "https://localhost:8080/"
        },
        "id": "gwwzBKTOq6vj",
        "outputId": "68514289-3b5d-435f-d375-638838d13399"
      },
      "execution_count": null,
      "outputs": [
        {
          "output_type": "execute_result",
          "data": {
            "text/plain": [
              "12"
            ]
          },
          "metadata": {},
          "execution_count": 19
        }
      ]
    },
    {
      "cell_type": "markdown",
      "source": [
        "##Inside the function, args is just a regular Python tuple containing all the positional arguments. Technically, you can name this parameter anything, as long as it begins with the star (*), but it’s usually named args by convention.\n",
        "\n",
        "##Knowing when to use the * takes some thought. After all, the alternative to making a variadic function is to have a single parameter that accepts a list (or other iterable data type), which contains a varying number of items. This is what the built-in sum() function does:"
      ],
      "metadata": {
        "id": "kKmQH9ySsc9s"
      }
    },
    {
      "cell_type": "code",
      "source": [
        "sum([2, 1, 2, 3])"
      ],
      "metadata": {
        "colab": {
          "base_uri": "https://localhost:8080/"
        },
        "id": "IYdFcePRsoBf",
        "outputId": "9ed27799-fab5-4ff7-eb21-3c4da303a928"
      },
      "execution_count": null,
      "outputs": [
        {
          "output_type": "execute_result",
          "data": {
            "text/plain": [
              "8"
            ]
          },
          "metadata": {},
          "execution_count": 20
        }
      ]
    },
    {
      "cell_type": "markdown",
      "source": [
        "##Meanwhile, the built-in min() and max() functions, which find the minimum or maximum value of several values, accept a single iterable argument or multiple separate arguments:"
      ],
      "metadata": {
        "id": "rKxFZ3COs36D"
      }
    },
    {
      "cell_type": "code",
      "source": [
        "min([2, 1, 3, 5, 8])\n",
        "min(2, 1, 3, 5, 8)\n",
        "max([2, 1, 3, 5, 8])\n",
        "max(2, 1, 3, 5, 8)"
      ],
      "metadata": {
        "colab": {
          "base_uri": "https://localhost:8080/"
        },
        "id": "o6FuNu3vs-Vp",
        "outputId": "24a5ea9c-2551-44a5-c941-f5b841d40c61"
      },
      "execution_count": null,
      "outputs": [
        {
          "output_type": "execute_result",
          "data": {
            "text/plain": [
              "8"
            ]
          },
          "metadata": {},
          "execution_count": 21
        }
      ]
    },
    {
      "cell_type": "markdown",
      "source": [
        "##All of these functions take a varying number of arguments, so why are their parameters designed differently? And when should we design functions to take a single iterable argument or multiple separate arguments using the * syntax?\n",
        "\n",
        "##How we design our parameters depends on how we predict a programmer will use our code. The print() function takes multiple arguments because programmers more often pass a series of strings, or variables that contain strings, to it, as in print('My name is', name). It isn’t as common to collect these strings into a list over several steps and then pass the list to print(). Also, if you passed a list to print(), the function would print that list value in its entirety, so you can’t use it to print the individual values in the list.\n",
        "\n",
        "##There’s no reason to call sum() with separate arguments because Python already uses the + operator for that. Because you can write code like 2 + 4 + 8, you don’t need to be able to write code like sum(2, 4, 8). It makes sense that you must pass the varying number of arguments only as a list to sum().\n",
        "\n",
        "##The min() and max() functions allow both styles. If the programmer passes one argument, the function assumes it’s a list or tuple of values to inspect. If the programmer passes multiple arguments, it assumes these are the values to inspect. These two functions commonly handle lists of values while the program is running, as in the function call min(allExpenses). They also deal with separate arguments the programmer selects while writing the code, such as in max(0, someNumber). Therefore, the functions are designed to accept both kinds of arguments. The following myMinFunction(), which is my own implementation of the min() function, demonstrates this:"
      ],
      "metadata": {
        "id": "tYjtIaSZZBfC"
      }
    },
    {
      "source": [
        "def myMinFunction(*args):\n",
        "    if len(args) == 1:\n",
        "        values = args[0]\n",
        "    else:\n",
        "        values = args\n",
        "\n",
        "    if len(values) == 0:\n",
        "        raise ValueError('myMinFunction() args is an empty sequence')\n",
        "\n",
        "    smallestValue = None\n",
        "    for i, value in enumerate(values):\n",
        "        if i == 0 or value < smallestValue:\n",
        "            smallestValue = value\n",
        "\n",
        "    return smallestValue"
      ],
      "cell_type": "code",
      "metadata": {
        "id": "BCk611s5cPuW"
      },
      "execution_count": null,
      "outputs": []
    },
    {
      "cell_type": "markdown",
      "source": [
        "#**Using ** to Create Variadic Functions**#\n",
        "##Variadic functions can use the ** syntax, too. Although the * syntax in def statements represents a varying number of positional arguments, the ** syntax represents a varying number of optional keyword arguments.\n",
        "\n",
        "##If you define a function that could take numerous optional keyword arguments without using the ** syntax, your def statement could become unwieldy. Consider a hypothetical formMolecule() function, which has parameters for all 118 known elements:"
      ],
      "metadata": {
        "id": "wN1U0NvgdaPU"
      }
    },
    {
      "cell_type": "code",
      "source": [
        "def formMolecule(hydrogen, helium, lithium, beryllium, boron):\n",
        "    pass"
      ],
      "metadata": {
        "id": "DDTVMOx6d6G6"
      },
      "execution_count": null,
      "outputs": []
    },
    {
      "cell_type": "markdown",
      "source": [
        "##Passing 2 for the hydrogen parameter and 1 for the oxygen parameter to return 'water' would also be burdensome and unreadable, because you’d have to set all of the irrelevant elements to zero:"
      ],
      "metadata": {
        "id": "iUYwalKTettf"
      }
    },
    {
      "cell_type": "code",
      "source": [
        "formMolecule(2, 0, 0, 0, 0, 0, 0, 1, 0, 0, 0, 0, 0, 0, 0, 0, 0)"
      ],
      "metadata": {
        "colab": {
          "base_uri": "https://localhost:8080/",
          "height": 141
        },
        "id": "O0ovqqc8e_Nu",
        "outputId": "0668bdf1-0674-4a62-d2c8-56ad1e086037"
      },
      "execution_count": null,
      "outputs": [
        {
          "output_type": "error",
          "ename": "TypeError",
          "evalue": "formMolecule() takes 5 positional arguments but 17 were given",
          "traceback": [
            "\u001b[0;31m---------------------------------------------------------------------------\u001b[0m",
            "\u001b[0;31mTypeError\u001b[0m                                 Traceback (most recent call last)",
            "\u001b[0;32m<ipython-input-12-049ef49e43ba>\u001b[0m in \u001b[0;36m<cell line: 1>\u001b[0;34m()\u001b[0m\n\u001b[0;32m----> 1\u001b[0;31m \u001b[0mformMolecule\u001b[0m\u001b[0;34m(\u001b[0m\u001b[0;36m2\u001b[0m\u001b[0;34m,\u001b[0m \u001b[0;36m0\u001b[0m\u001b[0;34m,\u001b[0m \u001b[0;36m0\u001b[0m\u001b[0;34m,\u001b[0m \u001b[0;36m0\u001b[0m\u001b[0;34m,\u001b[0m \u001b[0;36m0\u001b[0m\u001b[0;34m,\u001b[0m \u001b[0;36m0\u001b[0m\u001b[0;34m,\u001b[0m \u001b[0;36m0\u001b[0m\u001b[0;34m,\u001b[0m \u001b[0;36m1\u001b[0m\u001b[0;34m,\u001b[0m \u001b[0;36m0\u001b[0m\u001b[0;34m,\u001b[0m \u001b[0;36m0\u001b[0m\u001b[0;34m,\u001b[0m \u001b[0;36m0\u001b[0m\u001b[0;34m,\u001b[0m \u001b[0;36m0\u001b[0m\u001b[0;34m,\u001b[0m \u001b[0;36m0\u001b[0m\u001b[0;34m,\u001b[0m \u001b[0;36m0\u001b[0m\u001b[0;34m,\u001b[0m \u001b[0;36m0\u001b[0m\u001b[0;34m,\u001b[0m \u001b[0;36m0\u001b[0m\u001b[0;34m,\u001b[0m \u001b[0;36m0\u001b[0m\u001b[0;34m)\u001b[0m\u001b[0;34m\u001b[0m\u001b[0;34m\u001b[0m\u001b[0m\n\u001b[0m",
            "\u001b[0;31mTypeError\u001b[0m: formMolecule() takes 5 positional arguments but 17 were given"
          ]
        }
      ]
    },
    {
      "cell_type": "markdown",
      "source": [
        "##For example, this def statement has default arguments of 0 for each of the keyword parameters:"
      ],
      "metadata": {
        "id": "av_GlRg5fHXW"
      }
    },
    {
      "cell_type": "code",
      "source": [
        "def formMolecule(hydrogen=0, helium=0, lithium=0, beryllium=0):\n",
        "    pass"
      ],
      "metadata": {
        "id": "J9MongS8fRcN"
      },
      "execution_count": null,
      "outputs": []
    },
    {
      "cell_type": "markdown",
      "source": [
        "##This makes calling formMolecule() easier, because you only need to specify arguments for parameters that have a different value than the default argument. You can also specify the keyword arguments in any order:"
      ],
      "metadata": {
        "id": "P4IdM0jIfZIg"
      }
    },
    {
      "cell_type": "code",
      "source": [
        "formMolecule(hydrogen=2, oxygen=1)\n",
        "formMolecule(oxygen=1, hydrogen=2)\n",
        "formMolecule(carbon=8, hydrogen=10, nitrogen=4, oxygen=2)"
      ],
      "metadata": {
        "id": "dqQh3LTcf3Pj"
      },
      "execution_count": null,
      "outputs": []
    },
    {
      "cell_type": "markdown",
      "source": [
        "##But you still have an unwieldy def statement with 118 parameter names. And what if new elements were discovered? You’d have to update the function’s def statement along with any documentation of the function’s parameters.\n",
        "\n",
        "##Instead, you can collect all the parameters and their arguments as key-value pairs in a dictionary using the ** syntax for keyword arguments. Technically, you can name the ** parameter anything, but it’s usually named kwargs by convention:\n",
        "\n"
      ],
      "metadata": {
        "id": "hMwcIakwgKua"
      }
    },
    {
      "cell_type": "code",
      "source": [
        "def forMolecules(**kwargs):\n",
        "    if len(kwargs) == 2 and kwargs[\"hydrogen\"] == 2 and kwargs[\"oxygen\"] == 1:\n",
        "        return \" water\"\n",
        "formMolecules(hydrogen=2, oxygen=1)"
      ],
      "metadata": {
        "id": "EA9m6bmdgWso"
      },
      "execution_count": null,
      "outputs": []
    },
    {
      "cell_type": "markdown",
      "source": [
        "#**Using * and ** to Create Wrapper Functions**#\n",
        "##A common use case for the * and ** syntax in def statements is to create wrapper functions, which pass on arguments to another function and return that function’s return value. You can use the * and ** syntax to forward any and all arguments to the wrapped function. For example, we can create a printLowercase() function that wraps the built-in print() function. It relies on print() to do the real work but converts the string arguments to lowercase first:"
      ],
      "metadata": {
        "id": "Krc6Kp8Bp48Y"
      }
    },
    {
      "cell_type": "code",
      "source": [
        "def printLower(*args, **kwargs):\n",
        "    args = list(args)\n",
        "    for i, value in enumerate(args):\n",
        "        args[i] = str(value).lower()\n",
        "    return print(*args, **kwargs)\n",
        "\n",
        "name = 'Albert'\n",
        "printLower('Hello,', name)\n",
        "printLower('DOG', 'CAT', 'MOOSE', sep=', ')\n"
      ],
      "metadata": {
        "colab": {
          "base_uri": "https://localhost:8080/"
        },
        "id": "hLDgXMtEqDoW",
        "outputId": "cc6e0175-7f31-44fa-d76b-419b8e8429ff"
      },
      "execution_count": 3,
      "outputs": [
        {
          "output_type": "stream",
          "name": "stdout",
          "text": [
            "hello, albert\n",
            "dog, cat, moose\n"
          ]
        }
      ]
    }
  ]
}