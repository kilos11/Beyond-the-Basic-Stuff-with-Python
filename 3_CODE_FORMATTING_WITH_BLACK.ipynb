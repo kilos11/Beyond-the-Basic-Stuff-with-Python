{
  "nbformat": 4,
  "nbformat_minor": 0,
  "metadata": {
    "colab": {
      "provenance": [],
      "authorship_tag": "ABX9TyPOaDMPePGNff1N1ZEL75Vj",
      "include_colab_link": true
    },
    "kernelspec": {
      "name": "python3",
      "display_name": "Python 3"
    },
    "language_info": {
      "name": "python"
    }
  },
  "cells": [
    {
      "cell_type": "markdown",
      "metadata": {
        "id": "view-in-github",
        "colab_type": "text"
      },
      "source": [
        "<a href=\"https://colab.research.google.com/github/kilos11/Beyond-the-Basic-Stuff-with-Python/blob/main/3_CODE_FORMATTING_WITH_BLACK.ipynb\" target=\"_parent\"><img src=\"https://colab.research.google.com/assets/colab-badge.svg\" alt=\"Open In Colab\"/></a>"
      ]
    },
    {
      "cell_type": "markdown",
      "source": [
        "#**Use Space Characters for Indentation**#\n",
        "##Indentation is the whitespace at the beginning of a code line. You can use one of two whitespace characters, a space or a tab, to indent your code. Although either character works, the best practice is to use spaces instead of tabs for indentation.\n",
        "\n",
        "##The reason is that these two characters behave differently. A space character is always rendered on the screen as a string value with a single space, like this ' '. But a tab character, which is rendered as a string value containing an escape character, or '\\t', is more ambiguous. Tabs often, but not always, render as a variable amount of spacing so the following text begins at the next tab stop. The tab stop are positioned every eight spaces across the width of a text file. You can see this variation in the following interactive shell example, which first separates words with space characters and then with tab characters:"
      ],
      "metadata": {
        "id": "awk_iJyXKUHA"
      }
    },
    {
      "cell_type": "code",
      "execution_count": null,
      "metadata": {
        "colab": {
          "base_uri": "https://localhost:8080/"
        },
        "id": "w6tE5JXrI00S",
        "outputId": "5492492a-fa72-40f6-ab93-8a33b0a654f7"
      },
      "outputs": [
        {
          "output_type": "stream",
          "name": "stdout",
          "text": [
            "Hello there, friend!\n",
            "How are you?\n",
            "Hello\tthere,\tfriend!\n",
            "How\tare\tyou?\n"
          ]
        }
      ],
      "source": [
        "print('Hello there, friend!\\nHow are you?')\n",
        "print('Hello\\tthere,\\tfriend!\\nHow\\tare\\tyou?')"
      ]
    },
    {
      "cell_type": "markdown",
      "source": [
        "##Because tabs represent a varying width of whitespace, you should avoid using them in your source code. Most code editors and IDEs will automatically insert four or eight space characters when you press the TAB key instead of one tab character.\n",
        "\n",
        "##You also can’t use tabs and spaces for indentation in the same block of code. Using both for indentation was such a source of tedious bugs in earlier Python programs that Python 3 won’t even run code indented like this; it raises a TabError: inconsistent use of tabs and spaces in indentation exception instead. Black automatically converts any tab characters you use for indentation into four space characters.\n",
        "\n",
        "##As for the length of each indentation level, the common practice in Python code is four spaces per level of indentation. The space characters in the following example have been marked with periods to make them visible:"
      ],
      "metadata": {
        "id": "C8o6wUVyLTcq"
      }
    },
    {
      "cell_type": "code",
      "source": [
        "def getCatAmount():\n",
        "    numCats = input('How many cats do you have?')\n",
        "\n",
        "    if int(numCats) < 6:\n",
        "        print('You should get more cats.')"
      ],
      "metadata": {
        "id": "Yf6t9r4tLl5e"
      },
      "execution_count": null,
      "outputs": []
    },
    {
      "cell_type": "markdown",
      "source": [
        "#**Spacing Within a Line**#\n",
        "##Horizontal spacing has more to it than just the indentation. Spaces are important for making different parts of a code line appear visually distinct. If you never use space characters, your line can end up dense and hard to parse. The following subsections provide some spacing rules to follow.\n",
        "\n",
        "##Put a Single Space Between Operators and Identifiers\n",
        "##If you don’t leave spaces between operators and identifiers, your code will appear to run together. For example, this line has spaces separating operators and variables:"
      ],
      "metadata": {
        "id": "db0LIo9xNNTO"
      }
    },
    {
      "cell_type": "code",
      "source": [
        "#YES:\n",
        "blanks = blanks[:i] + secretWord[i] + blanks[i + 1 :]\n",
        "#NO:\n",
        "blanks=blanks[:i]+secretWord[i]+blanks[i+1:]"
      ],
      "metadata": {
        "id": "QuFPbq4fNldI"
      },
      "execution_count": null,
      "outputs": []
    },
    {
      "cell_type": "markdown",
      "source": [
        "#**Put No Spaces Before Separators and a Single Space After Separators**#\n",
        "##We separate the items lists and dictionaries, as well as the parameters in function def statements, using comma characters. You should place no spaces before these commas and a single space after them, as in this example:"
      ],
      "metadata": {
        "id": "1ymJQlm6OWGJ"
      }
    },
    {
      "cell_type": "code",
      "source": [
        "#YES\n",
        "def spam(eggs, bacon, ham):\n",
        "    weights = [42.0, 3.1415, 2.718]\n",
        "\n",
        "#NO\n",
        "def spam(eggs,bacon,ham):\n",
        "    weights = [42.0,3.1415,2.718]\n",
        "\n",
        "#NO\n",
        "def spam(eggs , bacon , ham):\n",
        "    weights = [42.0 , 3.1415 , 2.718]"
      ],
      "metadata": {
        "id": "LkPuV2BkOk3k"
      },
      "execution_count": null,
      "outputs": []
    },
    {
      "cell_type": "markdown",
      "source": [
        "#**Don’t Put Spaces Before or After Periods**#\n",
        "##Python allows you to insert spaces before and after the periods marking the beginning of a Python attribute, but you should avoid doing so. By not placing spaces there, you emphasize the connection between the object and its attribute, as in this example:"
      ],
      "metadata": {
        "id": "cDqHYVX-RE8I"
      }
    },
    {
      "cell_type": "code",
      "source": [
        "#YES:\n",
        "'Hello, world'.upper()\n",
        "\n",
        "#NO:\n",
        "'Hello, world' . upper()"
      ],
      "metadata": {
        "id": "dL1bQF-xRSxO"
      },
      "execution_count": null,
      "outputs": []
    },
    {
      "cell_type": "markdown",
      "source": [
        "#**Don’t Put Spaces After a Function, Method, or Container Name**#\n",
        "##We can readily identify function and method names because they’re followed by a set of parentheses, so don’t put a space between the name and the opening parenthesis. We would normally write a function call like this:"
      ],
      "metadata": {
        "id": "09CHiM-XR2NI"
      }
    },
    {
      "cell_type": "code",
      "source": [
        "#YES:\n",
        "print('Hello, world!')\n",
        "\n",
        "#NO:\n",
        "print ('Hello, world!')"
      ],
      "metadata": {
        "id": "53HblUv0SDrk"
      },
      "execution_count": null,
      "outputs": []
    },
    {
      "cell_type": "markdown",
      "source": [
        "##Similarly, don’t put spaces before the opening square bracket for an index, slice, or key. We normally access items inside a container type (such as a list, dictionary, or tuple) without adding spaces between the variable name and opening square bracket, like this:"
      ],
      "metadata": {
        "id": "VDw0cth4SlTm"
      }
    },
    {
      "cell_type": "code",
      "source": [
        "#YES\n",
        "spam[2]\n",
        "spam[0:3]\n",
        "pet['name']\n",
        "\n",
        "#NO\n",
        "spam [2]\n",
        "spam    [0:3]\n",
        "pet ['name']"
      ],
      "metadata": {
        "id": "xpaxi6GUStDC"
      },
      "execution_count": null,
      "outputs": []
    },
    {
      "cell_type": "markdown",
      "source": [
        "#**Don’t Put Spaces After Opening Brackets or Before Closing Brackets**#\n",
        "##There should be no spaces separating parentheses, square brackets, or braces and their contents. For example, the parameters in a def statement or values in a list should start and end immediately after and before their parentheses and square brackets:"
      ],
      "metadata": {
        "id": "iHqx0QpyEDwl"
      }
    },
    {
      "cell_type": "code",
      "source": [
        "#YES\n",
        "def spam(eggs, bacon, ham):\n",
        "    weights = [42.0, 3.1415, 2.718]\n",
        "\n",
        "#NO\n",
        "def spam( eggs, bacon, ham ):\n",
        "    weights = [ 42.0, 3.1415, 2.718 ]\n"
      ],
      "metadata": {
        "id": "KlJHxMdtEPAM"
      },
      "execution_count": null,
      "outputs": []
    },
    {
      "cell_type": "markdown",
      "source": [
        "#**Put Two Spaces Before End-of-Line Comments**#\n",
        "##If you add comments to the end of a code line, put two spaces after the end of the code and before the # character that begins the comment:"
      ],
      "metadata": {
        "id": "JgnnN2uqE8Ha"
      }
    },
    {
      "cell_type": "code",
      "source": [
        "#YES:\n",
        "print('Hello, world!')  # Display a greeting\n",
        "\n",
        "\n",
        "#NO:\n",
        "print('Hello, world!') # Display a greeting.\n",
        "print('Hello, world!')# Display a greeting."
      ],
      "metadata": {
        "id": "EOUUIaVGFIpv"
      },
      "execution_count": null,
      "outputs": []
    },
    {
      "cell_type": "markdown",
      "source": [
        "#**Vertical Spacing**#\n",
        "##Vertical spacing is the placement of blank lines between lines of code. Just as a new paragraph in a book keeps sentences from forming a wall of text, vertical spacing can group certain lines of code together and separate those groups from one another.\n",
        "\n",
        "##PEP 8 has several guidelines for inserting blank lines in code: it states that you should separate functions with two blank lines, classes with two blank lines, and methods within a class with one blank line."
      ],
      "metadata": {
        "id": "qmpCbtC_Ggt3"
      }
    },
    {
      "cell_type": "code",
      "source": [
        "#NO:\n",
        "class ExampleClass:\n",
        "    def exampleMethod1():\n",
        "        pass\n",
        "    def exampleMethod2():\n",
        "        pass\n",
        "def exampleFunction():\n",
        "    pass\n",
        "\n",
        "#YES:\n",
        "class ExampleClass:\n",
        "    def exampleMethod1():\n",
        "        pass\n",
        "    def exampleMethod2():\n",
        "        pawe\n",
        "def exampleFunction():\n",
        "    pass\n",
        "\n",
        "\n"
      ],
      "metadata": {
        "id": "GbMzehzKG4yw"
      },
      "execution_count": null,
      "outputs": []
    },
    {
      "cell_type": "markdown",
      "source": [
        "#**Installing Black**#"
      ],
      "metadata": {
        "id": "IpKyBUNrMIBC"
      }
    },
    {
      "cell_type": "code",
      "source": [
        "!pip install --user black"
      ],
      "metadata": {
        "colab": {
          "base_uri": "https://localhost:8080/"
        },
        "id": "kCS7rpnrZ3MD",
        "outputId": "e8303c8e-e6c0-4dd6-b469-72df00936e93"
      },
      "execution_count": 1,
      "outputs": [
        {
          "output_type": "stream",
          "name": "stdout",
          "text": [
            "Collecting black\n",
            "  Downloading black-24.4.2-cp310-cp310-manylinux_2_17_x86_64.manylinux2014_x86_64.whl (1.8 MB)\n",
            "\u001b[2K     \u001b[90m━━━━━━━━━━━━━━━━━━━━━━━━━━━━━━━━━━━━━━━━\u001b[0m \u001b[32m1.8/1.8 MB\u001b[0m \u001b[31m7.3 MB/s\u001b[0m eta \u001b[36m0:00:00\u001b[0m\n",
            "\u001b[?25hRequirement already satisfied: click>=8.0.0 in /usr/local/lib/python3.10/dist-packages (from black) (8.1.7)\n",
            "Collecting mypy-extensions>=0.4.3 (from black)\n",
            "  Downloading mypy_extensions-1.0.0-py3-none-any.whl (4.7 kB)\n",
            "Requirement already satisfied: packaging>=22.0 in /usr/local/lib/python3.10/dist-packages (from black) (24.0)\n",
            "Collecting pathspec>=0.9.0 (from black)\n",
            "  Downloading pathspec-0.12.1-py3-none-any.whl (31 kB)\n",
            "Requirement already satisfied: platformdirs>=2 in /usr/local/lib/python3.10/dist-packages (from black) (4.2.1)\n",
            "Requirement already satisfied: tomli>=1.1.0 in /usr/local/lib/python3.10/dist-packages (from black) (2.0.1)\n",
            "Requirement already satisfied: typing-extensions>=4.0.1 in /usr/local/lib/python3.10/dist-packages (from black) (4.11.0)\n",
            "Installing collected packages: pathspec, mypy-extensions, black\n",
            "\u001b[33m  WARNING: The scripts black and blackd are installed in '/root/.local/bin' which is not on PATH.\n",
            "  Consider adding this directory to PATH or, if you prefer to suppress this warning, use --no-warn-script-location.\u001b[0m\u001b[33m\n",
            "\u001b[0mSuccessfully installed black-24.4.2 mypy-extensions-1.0.0 pathspec-0.12.1\n"
          ]
        }
      ]
    }
  ]
}