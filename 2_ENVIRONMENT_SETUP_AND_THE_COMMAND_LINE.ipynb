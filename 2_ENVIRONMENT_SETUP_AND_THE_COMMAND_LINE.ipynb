{
  "nbformat": 4,
  "nbformat_minor": 0,
  "metadata": {
    "colab": {
      "provenance": [],
      "authorship_tag": "ABX9TyOc+6fKSjt4AMBfDZIjmocd",
      "include_colab_link": true
    },
    "kernelspec": {
      "name": "python3",
      "display_name": "Python 3"
    },
    "language_info": {
      "name": "python"
    }
  },
  "cells": [
    {
      "cell_type": "markdown",
      "metadata": {
        "id": "view-in-github",
        "colab_type": "text"
      },
      "source": [
        "<a href=\"https://colab.research.google.com/github/kilos11/Beyond-the-Basic-Stuff-with-Python/blob/main/2_ENVIRONMENT_SETUP_AND_THE_COMMAND_LINE.ipynb\" target=\"_parent\"><img src=\"https://colab.research.google.com/assets/colab-badge.svg\" alt=\"Open In Colab\"/></a>"
      ]
    },
    {
      "cell_type": "markdown",
      "source": [
        "#**The Filesystem**#\n",
        "##The filesystem is how your operating system organizes data to be stored and retrieved. A file has two key properties: a filename (usually written as one word) and a path. The path specifies the location of a file on the computer. For example, a file on my Windows 10 laptop has the filename project.docx in the path ##C:\\Users\\Al\\Documents. The part of the filename after the last period is the file’s extension and tells you a file’s type. The filename project.docx is a Word document, and Users, Al, and Documents all refer to folders (also called directories). Folders can contain files and other folders. For example, project.docx is in the Documents folder, which is in the Al folder,\n",
        "##The C:\\ part of the path is the root folder, which contains all other folders. On Windows, the root folder is named C:\\ and is also called the C: drive. On macOS and Linux, the root folder is /. In this book, I’ll use the Windows-style root folder, C:\\. If you’re entering the interactive shell examples on macOS or Linux, enter / instead.\n",
        "\n",
        "##Additional volumes, such as a DVD drive or USB flash drive, will appear differently on different operating systems. On Windows, they appear as new, lettered root drives, such as D:\\ or E:\\. On macOS, they appear as new folders within the /Volumes folder. On Linux, they appear as new folders within the /mnt (“mount”) folder. Note that folder names and filenames are not case sensitive on Windows and macOS, but they’re case sensitive on Linux"
      ],
      "metadata": {
        "id": "eX74uFkoPvDr"
      }
    },
    {
      "cell_type": "markdown",
      "source": [
        "#**Paths in Python**#\n",
        "##On Windows, the backslash (\\) separates folders and filenames, but on macOS and Linux, the forward slash (/) separates them. Instead of writing code both ways to make your Python scripts cross-platform compatible, you can use the pathlib module and / operator instead.\n",
        "\n",
        "##The typical way to import pathlib is with the statement from pathlib import Path. Because the Path class is the most frequently used class in pathlib, this form lets you type Path instead of pathlib.Path. You can pass a string of a folder or filename to Path() to create a Path object of that folder or filename. As long as the leftmost object in an expression is a Path object, you can use the / operator to join together Path objects or strings."
      ],
      "metadata": {
        "id": "1YgjKs6IQa5m"
      }
    },
    {
      "cell_type": "code",
      "source": [
        "from pathlib import Path\n",
        "\n",
        "Path('spam') / 'bacon' / 'eggs'\n",
        "\n",
        "Path('spam') / Path('bacon/eggs')\n",
        "Path('spam') / Path('bacon', 'eggs')"
      ],
      "metadata": {
        "colab": {
          "base_uri": "https://localhost:8080/"
        },
        "id": "nXYxmETOQoes",
        "outputId": "14bf277f-1b0c-4335-ac24-d734907d8ee2"
      },
      "execution_count": null,
      "outputs": [
        {
          "output_type": "execute_result",
          "data": {
            "text/plain": [
              "PosixPath('spam/bacon/eggs')"
            ]
          },
          "metadata": {},
          "execution_count": 2
        }
      ]
    },
    {
      "cell_type": "markdown",
      "source": [
        "#**The Home Directory**#\n",
        "##All users have a folder called the home folder or home directory for their own files on the computer. You can get a Path object of the home folder by calling Path.home():\n",
        "##The home directories are located in a set place depending on your operating system:\n",
        "\n",
        "#*On Windows, home directories are in C:\\Users.*\n",
        "#*On Mac, home directories are in /Users.*\n",
        "#*On Linux, home directories are often in /home.*\n",
        "##Your scripts will almost certainly have permissions to read from and write to the files in your home directory, so it’s an ideal place to store the files that your Python programs will work with."
      ],
      "metadata": {
        "id": "oJ45rp5-RE0U"
      }
    },
    {
      "cell_type": "code",
      "source": [
        "Path.home()"
      ],
      "metadata": {
        "colab": {
          "base_uri": "https://localhost:8080/"
        },
        "id": "-mjENgmDRL_a",
        "outputId": "c94528dd-03d0-45ec-e612-09c897213a67"
      },
      "execution_count": null,
      "outputs": [
        {
          "output_type": "execute_result",
          "data": {
            "text/plain": [
              "PosixPath('/root')"
            ]
          },
          "metadata": {},
          "execution_count": 3
        }
      ]
    },
    {
      "cell_type": "markdown",
      "source": [
        "#**The Current Working Directory**\n",
        "##Every program that runs on your computer has a current working directory (cwd). Any filenames or paths that don’t begin with the root folder you can assume are in the cwd. Although “folder” is the more modern name for a directory, note that cwd (or just working directory) is the standard term, not “current working folder.”\n",
        "\n",
        "##You can get the cwd as a Path object using the Path.cwd() function and change it using os.chdir()."
      ],
      "metadata": {
        "id": "JdDP2GsGR11c"
      }
    },
    {
      "cell_type": "code",
      "source": [
        "from pathlib import Path\n",
        "import os\n",
        "\n",
        "Path.cwd()\n"
      ],
      "metadata": {
        "colab": {
          "base_uri": "https://localhost:8080/"
        },
        "id": "2Lc2js9YSGkC",
        "outputId": "0067ac08-db87-47c8-93db-26910852f246"
      },
      "execution_count": null,
      "outputs": [
        {
          "output_type": "execute_result",
          "data": {
            "text/plain": [
              "PosixPath('/content')"
            ]
          },
          "metadata": {},
          "execution_count": 5
        }
      ]
    },
    {
      "cell_type": "markdown",
      "source": [
        "#**The Command Line**#\n",
        "##The command line is a text-based program that lets you enter commands to interact with the operating system and run programs. You might also hear it called the command line interface (CLI, which rhymes with “fly”), command prompt, terminal, shell, or console. It provides an alternative to a graphical user interface (GUI, pronounced “gooey”), which allows the user to interact with the computer through more than just a text-based interface. A GUI presents visual information to a user to guide them through tasks more easily than the command line does. Most computer users treat the command line as an advanced feature and never touch it. Part of the intimidation factor is due to the complete lack of hints of how to use it; although a GUI might display a button showing you where to click, a blank terminal window doesn’t remind you what to type.\n",
        "\n",
        "##But there are good reasons for becoming adept at using the command line. For one, setting up your environment often requires you to use the command line rather than the graphical windows. For another, entering commands can be much faster than clicking graphical windows with the mouse. Text-based commands are also less ambiguous than dragging an icon to some other icon. This lends them to automation better, because you can combine multiple specific commands into scripts to perform sophisticated operations.\n",
        "\n",
        "##the command line program exists in an executable file on your computer. In this context, we often call it a shell or shell program. Running the shell program makes the terminal window appear:\n",
        "\n",
        "##On Windows, the shell program is at C:\\Windows\\System32\\cmd.exe.\n",
        "On macOS, the shell program is at /bin/bash.\n",
        "##On Ubuntu Linux, the shell program is at /bin/bash.\n",
        "##Over the years, programmers have created many shell programs for the Unix operating system, such as the Bourne Shell (in an executable file named sh) and later the Bourne-Again Shell (in an executable file named Bash). Linux uses Bash by default, whereas macOS uses the similar Zsh or Z shell in Catalina and later versions. Due to its different development history, Windows uses a shell named Command Prompt. All these programs do the same thing: they present a terminal window with a text-based CLI into which the user enters commands and runs programs.\n",
        "\n",
        "##In this section, you’ll learn some of the command line’s general concepts and common commands. You could master a large number of cryptic commands to become a real sorcerer, but you only need to know about a dozen or so to solve most problems. The exact command names might vary slightly on different operating systems, but the underlying concepts are the same."
      ],
      "metadata": {
        "id": "c5MMJkJyTady"
      }
    },
    {
      "cell_type": "markdown",
      "source": [
        "#**Opening a Terminal Window**#\n",
        "##To open a terminal window, do the following:\n",
        "\n",
        "##*On Windows, click the Start button, type Command Prompt, and then press ENTER.*\n",
        "##*On macOS, click the Spotlight icon in the upper-right corner, type Terminal, and then press ENTER.*\n",
        "##*On Ubuntu Linux, press the WIN key to bring up Dash, type Terminal, and press ENTER. Alternatively, use the keyboard shortcut CTRL-ALT-T.*\n",
        "##Like the interactive shell, which displays a >>> prompt, the terminal displays a shell prompt at which you can enter commands. On Windows, the prompt will be the full path to the current folder you are in:\n",
        "\n",
        "##C:\\Users\\Al>your commands go here\n",
        "##On macOS, the prompt shows your computer’s name, a colon, and the cwd with your home folder represented as a tilde (~). After this is your username followed by a dollar sign ($):\n",
        "\n",
        "##Als-MacBook-Pro:~ al$ your commands go here\n",
        "##On Ubuntu Linux, the prompt is similar to the macOS prompt except it begins with the username and an at (@) symbol:\n",
        "\n",
        "##*al@al-VirtualBox:~$ your commands go here*\n",
        "##Many books and tutorials represent the command line prompt as just $ to simplify their examples. It’s possible to customize these prompts, but doing so is beyond the scope of this book."
      ],
      "metadata": {
        "id": "-gjxJEYBXtCu"
      }
    },
    {
      "cell_type": "markdown",
      "source": [
        "#**Running Python Code from the Command Line with -c**#\n",
        "##If you need to run a small amount of throwaway Python code that you run once and then discard, pass the –c switch to python.exe on Windows or python3 on macOS and Linux. The code to run should come after the –c switch, enclosed in double quotes. For example, enter the following into the terminal window:\n",
        "\n",
        "##*C:\\Users\\Al>python -c \"print('Hello, world')\"*\n",
        "Hello, world\n",
        "##The –c switch is handy when you want to see the results of a single Python instruction and don’t want to waste time entering the interactive shell. For example, you could quickly display the output of the help() function and then return to the command line:\n",
        "\n",
        "##*C:\\Users\\Al>python -c \"help(len)\"*\n",
        "Help on built-in function len in module builtins:\n",
        "\n",
        "len(obj, /)\n",
        "    Return the number of items in a container.\n",
        "\n",
        "    C:\\Users\\Al>"
      ],
      "metadata": {
        "id": "vZlJ4iflZfBB"
      }
    },
    {
      "cell_type": "markdown",
      "source": [
        "#**Running Commands from a Python Program**\n",
        "##Python’s subprocess.run() function, found in the subprocess module, can run shell commands within your Python program and then present the command output as a string.\n",
        "##We pass the ['ls', '-al'] list to subprocess.run()1. This list contains the command name ls, followed by its arguments, as individual strings. Note that passing ['ls –al'] wouldn’t work. We store the command’s output as a string in outputStr2. Online documentation for subprocess.run() and locale.getdefaultlocale() will give you a better idea of how these functions work, but they make the code work on any operating system running Python."
      ],
      "metadata": {
        "id": "GVFKzfpZaT0g"
      }
    },
    {
      "cell_type": "code",
      "source": [
        "import subprocess, locale\n",
        "\n",
        "procObj = subprocess.run(['ls', '-al'], stdout=subprocess.PIPE)\n",
        "outputStr = procObj.stdout.decode(locale.getdefaultlocale()[1])\n",
        "print(outputStr)"
      ],
      "metadata": {
        "colab": {
          "base_uri": "https://localhost:8080/"
        },
        "id": "DRNVzY4taeIE",
        "outputId": "a4698755-76a8-4ba3-fc4b-4f982657d8fa"
      },
      "execution_count": null,
      "outputs": [
        {
          "output_type": "stream",
          "name": "stdout",
          "text": [
            "total 16\n",
            "drwxr-xr-x 1 root root 4096 Apr 25 13:25 .\n",
            "drwxr-xr-x 1 root root 4096 Apr 29 14:27 ..\n",
            "drwxr-xr-x 4 root root 4096 Apr 25 13:24 .config\n",
            "drwxr-xr-x 1 root root 4096 Apr 25 13:25 sample_data\n",
            "\n"
          ]
        }
      ]
    },
    {
      "cell_type": "markdown",
      "source": [
        "#**Match Folder and Filenames with Wildcard Characters**\n",
        "##Many commands accept folder and filenames as command line arguments. Often, these commands also accept names with the wildcard characters * and ?, allowing you to specify multiple matching files. The * character matches any number of characters, whereas the ? character matches any single character. We call expressions that use the * and ? wildcard characters glob patterns (short for “global patterns”).\n",
        "\n",
        "##Glob patterns let you specify patterns of filenames. For example, you could run the dir or ls command to display all the files and folders in the cwd. But if you wanted to see just the Python files, dir *.py or ls *.py would display only the files that end in .py. The glob pattern *.py means “any group of characters, followed by .py”:\n",
        "\n",
        "##*C:\\Users\\Al>dir *.py*"
      ],
      "metadata": {
        "id": "0V5_foOObZ9f"
      }
    },
    {
      "cell_type": "markdown",
      "source": [
        "#**Change Directories with cd**#\n",
        "##Running cd [destination folder] changes the shell’s cwd to the destination folder:\n",
        "\n",
        "##**C:\\Users\\Al>cd Desktop*\n",
        "\n",
        "##**C:\\Users\\Al\\Desktop>*\n",
        "##The shell displays the cwd as part of its prompt, and any folders or files used in commands will be interpreted relative to this directory.\n",
        "\n",
        "##If the folder has spaces in its name, enclose the name in double quotes. To change the cwd to the user’s home folder, enter cd ~ on macOS and Linux, and cd %USERPROFILE% on Windows.\n",
        "\n",
        "##On Windows, if you also want to change the current drive, you’ll first need to enter the drive name as a separate command:\n",
        "\n",
        "##**C:\\Users\\Al>d:*\n",
        "\n",
        "##**D:\\>cd BackupFiles*\n",
        "\n",
        "##**D:\\BackupFiles>*\n",
        "##To change to the parent directory of the cwd, use the .. folder name:\n",
        "\n",
        "##**C:\\Users\\Al>cd ..*\n",
        "\n",
        "##**C:\\Users>*"
      ],
      "metadata": {
        "id": "VVcuQ3tMGAHx"
      }
    }
  ]
}