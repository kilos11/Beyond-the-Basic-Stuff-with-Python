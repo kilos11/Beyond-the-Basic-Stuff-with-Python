{
  "nbformat": 4,
  "nbformat_minor": 0,
  "metadata": {
    "colab": {
      "provenance": [],
      "authorship_tag": "ABX9TyMbPKu9MDgshtc8J0L5QVwp",
      "include_colab_link": true
    },
    "kernelspec": {
      "name": "python3",
      "display_name": "Python 3"
    },
    "language_info": {
      "name": "python"
    }
  },
  "cells": [
    {
      "cell_type": "markdown",
      "metadata": {
        "id": "view-in-github",
        "colab_type": "text"
      },
      "source": [
        "<a href=\"https://colab.research.google.com/github/kilos11/Beyond-the-Basic-Stuff-with-Python/blob/main/6_WRITING_PYTHONIC_CODE.ipynb\" target=\"_parent\"><img src=\"https://colab.research.google.com/assets/colab-badge.svg\" alt=\"Open In Colab\"/></a>"
      ]
    },
    {
      "cell_type": "markdown",
      "source": [
        "#**The Zen of Python**#\n",
        "##The Zen of Python by Tim Peters is a set of 20 guidelines for the design of the Python language and for Python programs. Your Python code doesn’t necessarily have to follow these guidelines, but they’re good to keep in mind. The Zen of Python is also an Easter egg, or hidden joke, that appears when you run import this"
      ],
      "metadata": {
        "id": "BGbu3K5vl6P4"
      }
    },
    {
      "cell_type": "code",
      "execution_count": null,
      "metadata": {
        "colab": {
          "base_uri": "https://localhost:8080/"
        },
        "id": "Lwzoc-DolIZJ",
        "outputId": "842e65ef-31ea-4231-eca0-d9bcc1496598"
      },
      "outputs": [
        {
          "output_type": "stream",
          "name": "stdout",
          "text": [
            "The Zen of Python, by Tim Peters\n",
            "\n",
            "Beautiful is better than ugly.\n",
            "Explicit is better than implicit.\n",
            "Simple is better than complex.\n",
            "Complex is better than complicated.\n",
            "Flat is better than nested.\n",
            "Sparse is better than dense.\n",
            "Readability counts.\n",
            "Special cases aren't special enough to break the rules.\n",
            "Although practicality beats purity.\n",
            "Errors should never pass silently.\n",
            "Unless explicitly silenced.\n",
            "In the face of ambiguity, refuse the temptation to guess.\n",
            "There should be one-- and preferably only one --obvious way to do it.\n",
            "Although that way may not be obvious at first unless you're Dutch.\n",
            "Now is better than never.\n",
            "Although never is often better than *right* now.\n",
            "If the implementation is hard to explain, it's a bad idea.\n",
            "If the implementation is easy to explain, it may be a good idea.\n",
            "Namespaces are one honking great idea -- let's do more of those!\n"
          ]
        }
      ],
      "source": [
        "import this"
      ]
    },
    {
      "cell_type": "markdown",
      "source": [
        "#**Learning to Love Significant Indentation**#\n",
        "##The most common concern I hear about Python from programmers coming from other languages is that Python’s significant indentation (often mistakenly called significant whitespace) is weird and unfamiliar. The amount of indentation at the start of a line of code has meaning in Python, because it determines which lines of code are in the same code block.\n",
        "\n",
        "##Grouping blocks of Python code using indentation can seem odd, because other languages begin and end their blocks with braces, { and }. But programmers in non-Python languages usually indent their blocks too, just like Python programmers, to make their code more readable. For example, the Java programming language doesn’t have significant indentation. Java programmers don’t need to indent blocks of code, but they often do anyway for readability. The following example has a Java function named main() that contains a single call to a println() function:"
      ],
      "metadata": {
        "id": "We66BiNUnAfo"
      }
    },
    {
      "cell_type": "code",
      "source": [
        "# Java Example\n",
        "#public static void main(String[] args) {\n",
        "   # System.out.println(\"Hello, world!\");\n",
        " #   }"
      ],
      "metadata": {
        "id": "EPqoVjSdnodw"
      },
      "execution_count": null,
      "outputs": []
    },
    {
      "cell_type": "markdown",
      "source": [
        "##This Java code would run just fine if the println() line weren’t indented, because the braces, rather than the indentation, are what mark the start and end of blocks in Java. Instead of allowing indentation to be optional, Python forces your code to be consistently readable. But note that Python doesn’t have significant whitespace, because Python doesn’t restrict how you can use nonindentation whitespace (both 2 + 2 and 2+2 are valid Python expressions).\n",
        "\n",
        "##Some programmers argue that the opening brace should be on the same line as the opening statement, while others argue it should be on the following line. Programmers will argue the merits of their preferred style until the end of time. Python neatly sidesteps this issue by not using braces at all, letting Pythonistas get back to more productive work. I’ve come to wish that all programming languages would adopt Python’s approach to grouping blocks of code.\n",
        "\n",
        "##But some people still long for braces and want to add them to a future version of Python—despite how unpythonic they are. Python’s __future__module backports features to earlier Python versions, and you’ll find a hidden Easter egg if you try to import a braces feature into Python:"
      ],
      "metadata": {
        "id": "vW_Q1AtEpHeN"
      }
    },
    {
      "cell_type": "code",
      "source": [
        "from __future__ import braces"
      ],
      "metadata": {
        "colab": {
          "base_uri": "https://localhost:8080/",
          "height": 106
        },
        "id": "-CogowT8pjMc",
        "outputId": "bd8e8a2a-2c2c-4172-cf4e-519164cfc6b0"
      },
      "execution_count": null,
      "outputs": [
        {
          "output_type": "error",
          "ename": "SyntaxError",
          "evalue": "not a chance (<ipython-input-2-6d5c5b2f0daf>, line 1)",
          "traceback": [
            "\u001b[0;36m  File \u001b[0;32m\"<ipython-input-2-6d5c5b2f0daf>\"\u001b[0;36m, line \u001b[0;32m1\u001b[0m\n\u001b[0;31m    from __future__ import braces\u001b[0m\n\u001b[0m    ^\u001b[0m\n\u001b[0;31mSyntaxError\u001b[0m\u001b[0;31m:\u001b[0m not a chance\n"
          ]
        }
      ]
    },
    {
      "cell_type": "markdown",
      "source": [
        "#**Use enumerate() Instead of range()**#\n",
        "##When looping over a list or other sequence, some programmers use the range() and len() functions to generate the index integers from 0 up to, but not including, the length of the sequence. It’s common to use the variable name i (for index) in these for loops. For example, enter the following unpythonic example into the interactive shell:"
      ],
      "metadata": {
        "id": "KA-fQGbCp9Bq"
      }
    },
    {
      "cell_type": "code",
      "source": [
        "animals = ['cat', 'dog', 'moose']\n",
        "\n",
        "for i in range(len(animals)):\n",
        "    print(i, animals[i])"
      ],
      "metadata": {
        "colab": {
          "base_uri": "https://localhost:8080/"
        },
        "id": "O5LTUbYpqXqm",
        "outputId": "d1f2d3d6-2311-4a1a-9cb4-88c6411a1e15"
      },
      "execution_count": null,
      "outputs": [
        {
          "output_type": "stream",
          "name": "stdout",
          "text": [
            "0 cat\n",
            "1 dog\n",
            "2 moose\n"
          ]
        }
      ]
    },
    {
      "cell_type": "markdown",
      "source": [
        "##The range(len()) convention is straightforward but less than ideal because it can be difficult to read. Instead, pass the list or sequence to the built-in enumerate() function, which will return an integer for the index and the item at that index. For example, you can write the following pythonic code:"
      ],
      "metadata": {
        "id": "Afm8GqQArRWo"
      }
    },
    {
      "cell_type": "code",
      "source": [
        "# Pythonic Example\n",
        "animals = ['cat', 'dog', 'moose']\n",
        "\n",
        "for animal in enumerate(animals):\n",
        "    print( animal)"
      ],
      "metadata": {
        "colab": {
          "base_uri": "https://localhost:8080/"
        },
        "id": "9LM9QLpNruxm",
        "outputId": "12bd4e2b-5f67-4a8f-cbf7-b1fbcd4f635e"
      },
      "execution_count": null,
      "outputs": [
        {
          "output_type": "stream",
          "name": "stdout",
          "text": [
            "(0, 'cat')\n",
            "(1, 'dog')\n",
            "(2, 'moose')\n"
          ]
        }
      ]
    },
    {
      "cell_type": "markdown",
      "source": [
        "##The code you write will be slightly cleaner using enumerate() instead of range(len()). If you need only the items but not the indexes, you can still directly iterate over the list in a pythonic way:"
      ],
      "metadata": {
        "id": "Ct54U7XktwPr"
      }
    },
    {
      "cell_type": "code",
      "source": [
        "# Pythonic Example\n",
        "animals = ['cat','dog','moose']\n",
        "for animal in animals:\n",
        "    print (animal)"
      ],
      "metadata": {
        "colab": {
          "base_uri": "https://localhost:8080/"
        },
        "id": "lVgvOntKt30M",
        "outputId": "f5ad85a7-db78-47ef-f750-5a15b9b9e7f8"
      },
      "execution_count": null,
      "outputs": [
        {
          "output_type": "stream",
          "name": "stdout",
          "text": [
            "cat\n",
            "dog\n",
            "moose\n"
          ]
        }
      ]
    },
    {
      "cell_type": "markdown",
      "source": [
        "##Use the with Statement Instead of open() and close()\n",
        "##The open() function will return a file object that contains methods for reading or writing a file. When you’re done, the file object’s close() method makes the file available to other programs for reading and writing. You can use these functions individually. But doing so is unpythonic. For example, enter the following into the interactive shell to write the text “Hello, world!” to a file named spam.txt:\n"
      ],
      "metadata": {
        "id": "uX1y_f-tAYVu"
      }
    },
    {
      "cell_type": "code",
      "source": [
        "# Unpythonic Example\n",
        "fileObj = open('spam.txt', 'w')\n",
        "fileObj.write('Hello, world!')\n",
        "\n",
        "fileObj.close()"
      ],
      "metadata": {
        "id": "iYJd2uUPAo_l"
      },
      "execution_count": null,
      "outputs": []
    },
    {
      "cell_type": "markdown",
      "source": [
        "##Writing code this way can lead to unclosed files if, say, an error occurs in a try block and the program skips the call to close(). For example:"
      ],
      "metadata": {
        "id": "1aVAlNcmBgTx"
      }
    },
    {
      "cell_type": "code",
      "source": [
        "try:\n",
        "    fileObj = open('spam.txt', 'w')\n",
        "    eggs = 42 / 0    # A zero divide error happens here.\n",
        "    fileObj.close()  # This line never runs.\n",
        "except:\n",
        "    print('Some error occurred.')"
      ],
      "metadata": {
        "colab": {
          "base_uri": "https://localhost:8080/"
        },
        "id": "WP3aRNqIBnkk",
        "outputId": "10289113-d554-46cb-ea9a-277c96deeb81"
      },
      "execution_count": null,
      "outputs": [
        {
          "output_type": "stream",
          "name": "stdout",
          "text": [
            "Some error occurred.\n"
          ]
        }
      ]
    },
    {
      "cell_type": "markdown",
      "source": [
        "##Upon reaching the zero divide error, the execution moves to the except block, skipping the close() call and leaving the file open. This can lead to file corruption bugs later that are hard to trace back to the try block.\n",
        "\n",
        "##Instead, you can use the with statement to automatically call close() when the execution leaves the with statement’s block. The following pythonic example does the same task as the first example in this section:"
      ],
      "metadata": {
        "id": "uyXQCRB7DM9A"
      }
    },
    {
      "cell_type": "code",
      "source": [
        "# Pythonic Example\n",
        "with open('spam.txt', 'w') as fileObj:\n",
        "    fileObj.write('Hello, world!')"
      ],
      "metadata": {
        "id": "6JQwtP5GDqJV"
      },
      "execution_count": null,
      "outputs": []
    },
    {
      "cell_type": "markdown",
      "source": [
        "#**Use is to Compare with None Instead of ==**#\n",
        "##The == equality operator compares two object’s values, whereas the is identity operator compares two object’s identities.\n",
        "##Two objects can store equivalent values, but being two separate objects means they have separate identities. However, whenever you compare a value to None, you should almost always use the is operator rather than the == operator.\n",
        "##In some cases, the expression spam == None could evaluate to True even when spam merely contains None. This can happen due to overloading the == operator\n",
        "##But spam is None will check whether the value in the spam variable is literally None. Because None is the only value of the NoneType data type, there is only one None object in any Python program. If a variable is set to None, the is None comparison will always evaluate to True."
      ],
      "metadata": {
        "id": "0G_d1wg8FQED"
      }
    },
    {
      "cell_type": "code",
      "source": [
        "class SomeClass:\n",
        "    def __eq__(self,other):\n",
        "        if other is None:\n",
        "            return True\n",
        "spam = SomeClass()\n",
        "spam == None\n",
        "spam is None"
      ],
      "metadata": {
        "colab": {
          "base_uri": "https://localhost:8080/"
        },
        "id": "9-mVRngFGfQ-",
        "outputId": "7fa302ce-949a-4df5-fe51-dc94a55f9eac"
      },
      "execution_count": null,
      "outputs": [
        {
          "output_type": "execute_result",
          "data": {
            "text/plain": [
              "False"
            ]
          },
          "metadata": {},
          "execution_count": 7
        }
      ]
    },
    {
      "cell_type": "markdown",
      "source": [
        "#**Format Strings with F-Strings**#\n",
        "##String formatting, or string interpolation, is the process of creating strings that include other strings and has had a long history in Python. Originally, the + operator could concatenate strings together, but this resulted in code with many quotes and pluses: 'Hello, ' + name + '. Today is ' + day + ' and it is ' + weather + '.'. The %s conversion specifier made the syntax a bit easier: 'Hello, %s. Today is %s and it is %s.' % (name, day, weather). Both techniques will insert the strings in the name, day, and weather variables into the string literals to evaluate to a new string value, like this: 'Hello, Al. Today is Sunday and it is sunny.'.\n",
        "\n",
        "##The format() string method adds the Format Specification Mini-Language (https://docs.python.org/3/library/string.html#formatspec), which involves using {} brace pairs in a way similar to the %s conversion specifier. However, the method is somewhat convoluted and can produce unreadable code, so I discourage its use.\n",
        "\n",
        "##But as of Python 3.6, f-strings (short for format strings) offer a more convenient way to create strings that include other strings. Just like how raw strings are prefixed with an r before the first quote, f-strings are prefixed with an f. You can include variable names in between braces in the f-string to insert the strings stored in those variables:"
      ],
      "metadata": {
        "id": "BMqYBgybJUnr"
      }
    },
    {
      "cell_type": "code",
      "source": [
        "name, day, weather = 'Al', 'Sunday', 'sunny'\n",
        "\n",
        "f'Hello,{name}. Today is {day} and it is {weather}'"
      ],
      "metadata": {
        "colab": {
          "base_uri": "https://localhost:8080/",
          "height": 36
        },
        "id": "T24nkRTzKHO4",
        "outputId": "e51ca4a1-420b-4f01-e448-e6a33f446039"
      },
      "execution_count": null,
      "outputs": [
        {
          "output_type": "execute_result",
          "data": {
            "text/plain": [
              "'Hello,Al. Today is Sunday and it is sunny'"
            ],
            "application/vnd.google.colaboratory.intrinsic+json": {
              "type": "string"
            }
          },
          "metadata": {},
          "execution_count": 8
        }
      ]
    },
    {
      "cell_type": "markdown",
      "source": [
        "#**The braces can contain entire expressions as well:**#"
      ],
      "metadata": {
        "id": "MCuDRSA4OIWU"
      }
    },
    {
      "cell_type": "code",
      "source": [
        "width, length = 10, 12\n",
        "\n",
        "f'A {width} by {length} room has and area of {width * length}'"
      ],
      "metadata": {
        "colab": {
          "base_uri": "https://localhost:8080/",
          "height": 36
        },
        "id": "qt12L784OQh2",
        "outputId": "1f3423cc-87b9-463b-b703-1ea924a4355f"
      },
      "execution_count": null,
      "outputs": [
        {
          "output_type": "execute_result",
          "data": {
            "text/plain": [
              "'A 10 by 12 room has and area of 120'"
            ],
            "application/vnd.google.colaboratory.intrinsic+json": {
              "type": "string"
            }
          },
          "metadata": {},
          "execution_count": 1
        }
      ]
    },
    {
      "cell_type": "markdown",
      "source": [
        "##If you need to use a literal brace inside an f-string, you can escape it with an additional brace:"
      ],
      "metadata": {
        "id": "Eay8uH5fPTAw"
      }
    },
    {
      "cell_type": "code",
      "source": [
        "spam = 42\n",
        "\n",
        "f'This print the value in spam: {spam}'\n",
        "f'This prints literally curly braces : {{spam}}'"
      ],
      "metadata": {
        "colab": {
          "base_uri": "https://localhost:8080/",
          "height": 36
        },
        "id": "NY9-XZudPYxc",
        "outputId": "677bb290-57ab-443a-beb1-18315834913a"
      },
      "execution_count": null,
      "outputs": [
        {
          "output_type": "execute_result",
          "data": {
            "text/plain": [
              "'This prints literally curly braces : {spam}'"
            ],
            "application/vnd.google.colaboratory.intrinsic+json": {
              "type": "string"
            }
          },
          "metadata": {},
          "execution_count": 3
        }
      ]
    },
    {
      "cell_type": "markdown",
      "source": [
        "#**Making Shallow Copies of Lists**#\n",
        "##The slice syntax can easily create new strings or lists from existing ones."
      ],
      "metadata": {
        "id": "CemsFSyWQuJf"
      }
    },
    {
      "cell_type": "code",
      "source": [
        "print('Hello World!'[7:12])# Create a string from a larger string.\n",
        "print('Hello World'[:5]) # Create a string from a larger string.\n",
        "['cat', 'dog', 'rat', 'eel'][2:] # Create a list from a larger list."
      ],
      "metadata": {
        "colab": {
          "base_uri": "https://localhost:8080/"
        },
        "id": "ZP_B26gaRA-m",
        "outputId": "76de0682-f34d-4698-9a70-5eabc2df5efa"
      },
      "execution_count": null,
      "outputs": [
        {
          "output_type": "stream",
          "name": "stdout",
          "text": [
            "orld!\n",
            "Hello\n"
          ]
        },
        {
          "output_type": "execute_result",
          "data": {
            "text/plain": [
              "['rat', 'eel']"
            ]
          },
          "metadata": {},
          "execution_count": 7
        }
      ]
    },
    {
      "cell_type": "markdown",
      "source": [
        "##The colon (:) separates the starting and ending indexes of the items to put in the new list you’re creating. If you omit the starting index before the colon, as in 'Hello, world!'[:5], the starting index defaults to 0. If you omit the ending index after the colon, as in ['cat', 'dog', 'rat', 'eel'][2:], the ending index defaults to the end of the list.\n",
        "\n",
        "##If you omit both indexes, the starting index is 0 (the start of the list) and the ending index is the end of the list. This effectively creates a copy of the list:"
      ],
      "metadata": {
        "id": "lsYNZW-rSzIW"
      }
    },
    {
      "cell_type": "code",
      "source": [
        "spam = ['cat', 'dog', 'rat', 'eel']\n",
        "\n",
        "eggs = spam [:]\n",
        "eggs\n",
        "id(spam) == id(eggs)"
      ],
      "metadata": {
        "colab": {
          "base_uri": "https://localhost:8080/"
        },
        "id": "HsMMAaC4Tu4t",
        "outputId": "e9a593b9-379f-4967-8492-c553e34d9bf5"
      },
      "execution_count": null,
      "outputs": [
        {
          "output_type": "execute_result",
          "data": {
            "text/plain": [
              "False"
            ]
          },
          "metadata": {},
          "execution_count": 10
        }
      ]
    },
    {
      "cell_type": "markdown",
      "source": [
        "##Notice that the identities of the lists in spam and eggs are different. The eggs = spam[:] line creates a shallow copy of the list in spam, whereas eggs = spam would copy only the reference to the list. But the [:] does look a bit odd, and using the copy module’s copy() function to produce a shallow copy of the list is more readable:"
      ],
      "metadata": {
        "id": "JPygAeQ5U2Jz"
      }
    },
    {
      "cell_type": "code",
      "source": [
        " # Pythonic Example\n",
        " import copy\n",
        "\n",
        " spam = ['cat', 'dog', 'rat', 'eel']\n",
        "\n",
        " eggs =copy.copy(spam)\n",
        " id(spam) == id(eggs)"
      ],
      "metadata": {
        "colab": {
          "base_uri": "https://localhost:8080/"
        },
        "id": "CeWWE6jEVQyk",
        "outputId": "e8a4b1b4-281a-4939-b546-b52f0a59a775"
      },
      "execution_count": null,
      "outputs": [
        {
          "output_type": "execute_result",
          "data": {
            "text/plain": [
              "False"
            ]
          },
          "metadata": {},
          "execution_count": 13
        }
      ]
    },
    {
      "cell_type": "markdown",
      "source": [
        "#**Use get() and setdefault() with Dictionaries**#\n",
        "##Trying to access a dictionary key that doesn’t exist will result in a KeyError error, so programmers will often write unpythonic code to avoid the situation, like this:\n",
        "\n"
      ],
      "metadata": {
        "id": "00XBGVR3XAN8"
      }
    },
    {
      "cell_type": "code",
      "source": [
        "# Unpythonic Example\n",
        "numberOfPets = {'dogs':2}\n",
        "\n",
        "if 'cats' in numberOfPets:\n",
        "    print('I have', numberOfPets['cats'], 'cats.')\n",
        "else:\n",
        "    print('I have 0 cats.')\n"
      ],
      "metadata": {
        "colab": {
          "base_uri": "https://localhost:8080/"
        },
        "id": "Kh7gjsjcXNtj",
        "outputId": "b6da6375-0195-4304-a74c-5cd43eb42501"
      },
      "execution_count": null,
      "outputs": [
        {
          "output_type": "stream",
          "name": "stdout",
          "text": [
            "I have 0 cats.\n"
          ]
        }
      ]
    },
    {
      "cell_type": "markdown",
      "source": [
        "##This code checks whether the string 'cats' exists as a key in the numberOfPets dictionary. If it does, a print() call accesses numberOfPets['cats'] as part of a message for the user. If it doesn’t, another print() call prints a string without accessing numberOfPets['cats'] so it doesn’t raise a KeyError.\n",
        "\n",
        "##This pattern happens so often that dictionaries have a get() method that allows you to specify a default value to return when a key doesn’t exist in the dictionary. The following pythonic code is equivalent to the previous example:"
      ],
      "metadata": {
        "id": "3Zvxg3ekJgqa"
      }
    },
    {
      "cell_type": "code",
      "source": [
        "# Pythonic Example\n",
        "numberOfPets = {'dogs': 2}\n",
        "print('I have', numberOfPets.get('cats', 0), 'cats.')"
      ],
      "metadata": {
        "colab": {
          "base_uri": "https://localhost:8080/"
        },
        "id": "pCta8j1MJr3R",
        "outputId": "60067439-244e-43cf-f9d2-d9a979cf4590"
      },
      "execution_count": null,
      "outputs": [
        {
          "output_type": "stream",
          "name": "stdout",
          "text": [
            "I have 0 cats.\n"
          ]
        }
      ]
    },
    {
      "cell_type": "markdown",
      "source": [
        "##The numberOfPets.get('cats', 0) call checks whether the key 'cats' exists in the numberOfPets dictionary. If it does, the method call returns the value for the 'cats' key. If it doesn’t, it returns the second argument, 0, instead. Using the get() method to specify a default value to use for nonexistent keys is shorter and more readable than using if-else statements.\n",
        "\n",
        "##Conversely, you might want to set a default value if a key doesn’t exist. For example, if the dictionary in numberOfPets doesn’t have a 'cats' key, the instruction numberOfPets['cats'] += 10 would result in a KeyError error. You might want to add code that checks for the key’s absence and sets a default value:"
      ],
      "metadata": {
        "id": "RAtoBTyeKcRo"
      }
    },
    {
      "cell_type": "code",
      "source": [
        "# Unpythonic Exampl\n",
        "numberOfPets = {'dogs': 2}\n",
        "if 'cats' not in numberOfPets:\n",
        "    numberOfPets['cats'] = 0\n",
        "\n",
        "numberOfPets['cat']  +- 10\n",
        "numberOfPets['cats']"
      ],
      "metadata": {
        "id": "VFJWG_sgKyLA"
      },
      "execution_count": null,
      "outputs": []
    },
    {
      "cell_type": "markdown",
      "source": [
        "#**Use collections.defaultdict for Default Values**#\n",
        "##You can use the collections.defaultdict class to eliminate KeyError errors entirely. This class lets you create a default dictionary by importing the collections module and calling collections.defaultdict(), passing it a data type to use for a default value. For example, by passing int to collections.defaultdict(), you can make a dictionary-like object that uses 0 for a default value of nonexistent keys"
      ],
      "metadata": {
        "id": "3-dJfXHbNDFH"
      }
    },
    {
      "cell_type": "code",
      "source": [
        "import collections\n",
        "\n",
        "scores = collections.defaultdict(int)\n",
        "print(scores)\n",
        "scores['Al'] //= 1# No need to set a value for the 'Al' key first\n",
        "print(scores)\n",
        "scores['Zophie']# No need to set a value for the 'Zophie' key first.\n",
        "print(scores)\n",
        "scores['Zophie'] //= 40\n",
        "print(scores)"
      ],
      "metadata": {
        "colab": {
          "base_uri": "https://localhost:8080/"
        },
        "id": "gTmyDR7ONNpz",
        "outputId": "8bbcec8e-5726-40dc-e354-063f5908521a"
      },
      "execution_count": null,
      "outputs": [
        {
          "output_type": "stream",
          "name": "stdout",
          "text": [
            "defaultdict(<class 'int'>, {})\n",
            "defaultdict(<class 'int'>, {'Al': 0})\n",
            "defaultdict(<class 'int'>, {'Al': 0, 'Zophie': 0})\n",
            "defaultdict(<class 'int'>, {'Al': 0, 'Zophie': 0})\n"
          ]
        }
      ]
    },
    {
      "cell_type": "markdown",
      "source": [
        "##Note that you’re passing the int() function, not calling it, so you omit the parentheses after int in collections.defaultdict(int). You can also pass list to use an empty list as the default value."
      ],
      "metadata": {
        "id": "sxJajEKoQ_Ni"
      }
    },
    {
      "cell_type": "code",
      "source": [
        "import collections\n",
        "\n",
        "booksReadBy = collections.defauldict(list)\n",
        "booksReadB['Al'].append('Oryx and Crake')\n",
        "booksReadBy['Al'].append('American Gods')\n",
        "len(booksReadBy['Al'])\n"
      ],
      "metadata": {
        "id": "KzL9xWaqRRgR"
      },
      "execution_count": null,
      "outputs": []
    },
    {
      "cell_type": "markdown",
      "source": [
        "#**Use Dictionaries Instead of a switch Statement**#\n",
        "##Languages such as Java have a switch statement, which is a kind of if-elif-else statement that runs code based on which one of many values a specific variable contains. Python doesn’t have a switch statement, so Python programmers sometimes write code like the following example, which runs a different assignment statement based on which one of many values the season variable contains:"
      ],
      "metadata": {
        "id": "-kGwqlzXaNra"
      }
    },
    {
      "cell_type": "code",
      "source": [
        "# All of the following if and elif conditions have \"season ==\":\n",
        "if season == 'Winter':\n",
        "    holiday = 'New,years day'\n",
        "elif season == 'Spring':\n",
        "    holiday = 'May day'\n",
        "elif season == 'Summer':\n",
        "    holiday = 'Juneteenth'\n",
        "elif season == 'Fall':\n",
        "    holiday = 'Halloween'\n",
        "else:\n",
        "    holiday = 'Personal day off'\n",
        ""
      ],
      "metadata": {
        "id": "v5z3HO7DayuH"
      },
      "execution_count": null,
      "outputs": []
    },
    {
      "cell_type": "markdown",
      "source": [
        "##This code isn’t necessarily unpythonic, but it’s a bit verbose. By default, Java switch statements have “fall-through” that requires each block to end with a break statement. Otherwise, the execution continues on to the next block. Forgetting to add this break statement is a common source of bugs. But all the if-elif statements in our Python example can be repetitive. Some Python programmers prefer to set up a dictionary value instead of using if-elif statements. The following concise and pythonic code is equivalent to the previous example:"
      ],
      "metadata": {
        "id": "YIDLFc2Mcx1m"
      }
    },
    {
      "cell_type": "code",
      "source": [
        "holiday = {'Winter': 'New Year\\'s Day',\n",
        "           'Spring': 'May Day',\n",
        "            'Summer': 'Juneteenth',\n",
        "            'Fall':   'Halloween'}.get(season, 'Personal day off')"
      ],
      "metadata": {
        "id": "M7ioVDFuc8TH"
      },
      "execution_count": null,
      "outputs": []
    },
    {
      "cell_type": "markdown",
      "source": [
        "#**Conditional Expressions: Python’s “Ugly” Ternary Operator**#\n",
        "##Ternary operators (officially called conditional expressions, or sometimes ternary selection expressions, in Python) evaluate an expression to one of two values based on a condition. Normally, you would do this with a pythonic if-else statement:"
      ],
      "metadata": {
        "id": "5fglwtnkdQwt"
      }
    },
    {
      "cell_type": "code",
      "source": [
        "# Pythonic Example\n",
        "condition = True\n",
        "if condition :\n",
        "    message = 'Access Granted'\n",
        "else:\n",
        "    message = 'Access Denied'\n",
        "message\n"
      ],
      "metadata": {
        "colab": {
          "base_uri": "https://localhost:8080/",
          "height": 36
        },
        "id": "Wp8SDVzRdapz",
        "outputId": "ba428cc8-26fc-421c-aeab-875b7c4f103d"
      },
      "execution_count": 4,
      "outputs": [
        {
          "output_type": "execute_result",
          "data": {
            "text/plain": [
              "'Access Granted'"
            ],
            "application/vnd.google.colaboratory.intrinsic+json": {
              "type": "string"
            }
          },
          "metadata": {},
          "execution_count": 4
        }
      ]
    }
  ]
}