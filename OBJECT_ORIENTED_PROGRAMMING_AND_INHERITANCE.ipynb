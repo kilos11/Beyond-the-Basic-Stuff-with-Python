{
  "nbformat": 4,
  "nbformat_minor": 0,
  "metadata": {
    "colab": {
      "provenance": [],
      "authorship_tag": "ABX9TyNTDkur/LqHjt84mmBAeoxF",
      "include_colab_link": true
    },
    "kernelspec": {
      "name": "python3",
      "display_name": "Python 3"
    },
    "language_info": {
      "name": "python"
    }
  },
  "cells": [
    {
      "cell_type": "markdown",
      "metadata": {
        "id": "view-in-github",
        "colab_type": "text"
      },
      "source": [
        "<a href=\"https://colab.research.google.com/github/kilos11/Beyond-the-Basic-Stuff-with-Python/blob/main/OBJECT_ORIENTED_PROGRAMMING_AND_INHERITANCE.ipynb\" target=\"_parent\"><img src=\"https://colab.research.google.com/assets/colab-badge.svg\" alt=\"Open In Colab\"/></a>"
      ]
    },
    {
      "cell_type": "markdown",
      "source": [
        "#**How Inheritance Works**#\n",
        "##To create a new child class, you put the name of the existing parent class in between parentheses in the class statement.\n",
        "##We’ve created three classes named ParentClass 1, ChildClass 3, and GrandchildClass 4. The ChildClasssubclassesParentClass, meaning that ChildClass will have all the same methods as ParentClass. We say that ChildClassinherits methods from ParentClass. Also, GrandchildClass subclasses ChildClass, so it has all the same methods as ChildClass and its parent, ParentClass.\n",
        "\n",
        "##Using this technique, we’ve effectively copied and pasted the code for the printHello() method 2 into the ChildClass and GrandchildClass classes. Any changes we make to the code in printHello() update not only ParentClass, but also ChildClass and GrandchildClass."
      ],
      "metadata": {
        "id": "viLp_Lpsa-x7"
      }
    },
    {
      "cell_type": "code",
      "execution_count": null,
      "metadata": {
        "colab": {
          "base_uri": "https://localhost:8080/"
        },
        "id": "qSgIzt2Ras5O",
        "outputId": "fe92cf67-7ba5-494b-b1cd-0a441fca8f8f"
      },
      "outputs": [
        {
          "output_type": "stream",
          "name": "stdout",
          "text": [
            "Create a ParentClass object and call its methods:\n",
            "Hello, world!\n",
            "Create a ChildClass object and call its methods:\n",
            "Hello, world!\n",
            "ParentClass objects dont have this method.\n",
            "Create a GrandchildClass object and call its methods:\n",
            "Hello, world!\n",
            "Only GrandchildClass objects have this method.\n",
            "ParentClass objects dont have this method.\n"
          ]
        }
      ],
      "source": [
        "class ParentClass:\n",
        "    def printHello(self):\n",
        "        print('Hello, world!')\n",
        "\n",
        "class ChildClass(ParentClass):\n",
        "    def someNewMethod(self):\n",
        "        print('ParentClass objects dont have this method.')\n",
        "\n",
        "class GrandchildClass(ChildClass):\n",
        "    def anotherNewMethod(self):\n",
        "        print('Only GrandchildClass objects have this method.')\n",
        "\n",
        "print('Create a ParentClass object and call its methods:')\n",
        "parent = ParentClass()\n",
        "parent.printHello()\n",
        "\n",
        "print('Create a ChildClass object and call its methods:')\n",
        "child = ChildClass()\n",
        "child.printHello()\n",
        "child.someNewMethod()\n",
        "\n",
        "print('Create a GrandchildClass object and call its methods:')\n",
        "grandchild = GrandchildClass()\n",
        "grandchild.printHello()\n",
        "grandchild.anotherNewMethod()\n",
        "grandchild.someNewMethod()"
      ]
    },
    {
      "cell_type": "markdown",
      "source": [
        "#**Overriding Methods**#\n",
        "##Child classes inherit all the methods of their parent classes. But a child class can override an inherited method by providing its own method with its own code. The child class’s overriding method will have the same name as the parent class’s method.\n",
        "\n",
        "##To illustrate this concept, let’s return to the tic-tac-toe game we created in the previous chapter. This time, we’ll create a new class, MiniBoard, that subclasses TTTBoard and overrides getBoardStr() to provide a smaller drawing of the tic-tac-toe board. The program will ask the player which board style to use. We don’t need to copy and paste the rest of the TTTBoard methods because MiniBoard will inherit them."
      ],
      "metadata": {
        "id": "YOVbXQJNjD6z"
      }
    },
    {
      "cell_type": "code",
      "source": [
        "class MiniBoard(TTTBoard):\n",
        "    def getBoardStr(self):\n",
        "         \"\"\"Return a tiny text-representation of the board.\"\"\"\n",
        "         # Change blank spaces to a '.'\n",
        "         for space in ALL_SPACES:\n",
        "            if self._spaces[space] == BLANK:\n",
        "                self._spaces[space] = '.'\n",
        "        boardStr = f'''\n",
        "                  {self._spaces['1']}{self._spaces['2']}{self._spaces['3']} 123\n",
        "                            {self._spaces['4']}{self._spaces['5']}{self._spaces['6']} 456\n",
        "                                      {self._spaces['7']}{self._spaces['8']}{self._spaces['9']} 789'''\n",
        "\n",
        "                                              # Change '.' back to blank spaces.\n",
        "                                                      for space in ALL_SPACES:\n",
        "                                                                  if self._spaces[space] == '.':\n",
        "                                                                                  self._spaces[space] = BLANK\n",
        "                                                                                          return boardStr"
      ],
      "metadata": {
        "id": "GPPGOo86uk0d"
      },
      "execution_count": null,
      "outputs": []
    },
    {
      "cell_type": "markdown",
      "source": [
        "#**The super() Function**#\n",
        "##A child class’s overridden method is often similar to the parent class’s method. Even though inheritance is a code reuse technique, overriding a method might cause you to rewrite the same code from the parent class’s method as part of the child class’s method. To prevent this duplicate code, the built-in super() function allows an overriding method to call the original method in the parent class.\n",
        "\n",
        "##For example, let’s create a new class called HintBoard that subclasses TTTBoard. The new class overrides getBoardStr(), so after drawing the tic-tac-toe board, it also adds a hint if either X or O could win on their next move. This means that the HintBoard class’s getBoardStr() method has to do all the same tasks that the TTTBoard class’s getBoardStr() method does to draw the tic-tac-toe board. Instead of repeating the code to do this, we can use super() to call the TTTBoard class’s getBoardStr() method from the HintBoard class’s getBoardStr() method."
      ],
      "metadata": {
        "id": "iXhb1q-hvuod"
      }
    },
    {
      "cell_type": "code",
      "source": [
        "class HintBoard(TTTBoard):\n",
        "    def getBoardStr(self):\n",
        "        \"\"\"Return a text-representation of the board with hints.\"\"\"\n",
        "        boardStr = super().getBoardStr() # Call getBoardStr() in TTTBoard.\n",
        "        xCanWin = False\n",
        "        oCanWin = False\n",
        "        originalSpaces = self._spaces # Backup _spaces.\n",
        "        for space in ALL_SPACES:\n",
        "            # Simulate X moving on this space:\n",
        "            self._spaces = copy.copy(originalSpaces)\n",
        "            if self._spaces[space] == BLANK:\n",
        "                self._spaces[space] = X\n",
        "            if self.isWinner(X):\n",
        "                xCanWin = True\n",
        "            # Simulate O moving on this space:\n",
        "            self._spaces = copy.copy(originalSpaces)\n",
        "            if self._spaces[space] == BLANK:\n",
        "                self._spaces[space] = O\n",
        "            if self.isWinner(O):\n",
        "                oCanWin = True\n",
        "        if xCanWin:\n",
        "            boardStr += '\\nX can win in one more move.'\n",
        "        if oCanWin:\n",
        "            boardStr += '\\nO can win in one more move.'\n",
        "        self._spaces = originalSpaces\n",
        "        return boardStr"
      ],
      "metadata": {
        "id": "M-9Ycn0PwDI_"
      },
      "execution_count": null,
      "outputs": []
    },
    {
      "cell_type": "markdown",
      "source": [
        "#**Inheritance’s Downside**#\n",
        "##The primary downside of inheritance is that any future changes you make to parent classes are necessarily inherited by all its child classes. In most cases, this tight coupling is exactly what you want. But in some instances, your code requirements won’t easily fit your inheritance model.\n",
        "\n",
        "##For example, let’s say we have Car, Motorcycle, and LunarRover classes in a vehicle simulation program. They all need similar methods, such as startIgnition() and changeTire(). Instead of copying and pasting this code into each class, we can create a parent Vehicle class and have Car, Motorcycle, and LunarRover inherit it. Now if we need to fix a bug in, say, the changeTire() method, there’s only one place we need to make the change. This is especially helpful if we have dozens of different vehicle-related classes inheriting from Vehicle.\n",
        "\n",
        "\n"
      ],
      "metadata": {
        "id": "5btjVdP3ycaG"
      }
    },
    {
      "cell_type": "code",
      "source": [
        "class Vehicle:\n",
        "    def __init__(self):\n",
        "        print('Vehicle created.')\n",
        "\n",
        "    def starIgnition(self):\n",
        "        pass  # Ignition starting code goes here.\n",
        "\n",
        "    def changeTire(self):\n",
        "        pass  # Tire changing code goes here.\n",
        "\n",
        "class Car(Vehicle):\n",
        "    def __init__(self):\n",
        "        print('Car created.')\n",
        "\n",
        "class Motorcycle(Vehicle):\n",
        "    def __init__(self):\n",
        "        print('Motorcycle created.')\n",
        "\n",
        "class LunarRove(Vehicle):\n",
        "    def __init__(self):\n",
        "        print('LunarRover created.')"
      ],
      "metadata": {
        "id": "Kfc9AdomyqkK"
      },
      "execution_count": null,
      "outputs": []
    },
    {
      "cell_type": "markdown",
      "source": [
        "##But all future changes to Vehicle will affect these subclasses as well. What happens if we need a changeSparkPlug() method? Cars and motorcycles have combustion engines with spark plugs, but lunar rovers don’t. By favoring composition over inheritance, we can create separate CombustionEngine and ElectricEngine classes. Then we design the Vehicle class so it “has an” engine attribute, either a CombustionEngine or ElectricEngine object, with the appropriate methods:"
      ],
      "metadata": {
        "id": "kykSfXvk1rj9"
      }
    },
    {
      "cell_type": "code",
      "source": [
        "class CombustionEngine:\n",
        "    def __init__(self):\n",
        "        print('Combustion engine created.')\n",
        "    def changeSparkPlug(self):\n",
        "        pass  # Spark plug changing code goes here.\n",
        "\n",
        "class ElectricEngine:\n",
        "    def __init__(self):\n",
        "        print('Electric engine created.')\n",
        "\n",
        "class Vehicle:\n",
        "    def __init__(self):\n",
        "        print('Vehicle created.')\n",
        "        self.engine = CombustionEngine()\n",
        "\n",
        "class LunarRover(Vehicle):\n",
        "    def __init__(self):\n",
        "        print('LunarRover created.')\n",
        "        self.engine = ElectricEngine()"
      ],
      "metadata": {
        "id": "vTNO2VZK13bE"
      },
      "execution_count": null,
      "outputs": []
    },
    {
      "cell_type": "markdown",
      "source": [
        "##This could require rewriting large amounts of code, particularly if you have several classes that inherit from a preexisting Vehicle class: all the vehicleObj.changeSparkPlug() calls would need to become vehicleObj.engine.changeSparkPlug() for every object of the Vehicle class or its subclasses. Because such a sizeable change could introduce bugs, you might want to simply have the changeSparkPlug() method for LunarVehicle do nothing. In this case, the Pythonic way is to set changeSparkPlug to None inside the LunarVehicle class:"
      ],
      "metadata": {
        "id": "6GsJL-iO3338"
      }
    },
    {
      "cell_type": "code",
      "source": [
        "class LunarRover(Vehicle):\n",
        "    changeSparkPlug = None\n",
        "    def __init__(self):\n",
        "        print('LunarRover created.')"
      ],
      "metadata": {
        "id": "QxlV5bDI4UQl"
      },
      "execution_count": null,
      "outputs": []
    },
    {
      "cell_type": "markdown",
      "source": [
        "##The changeSparkPlug = None line follows the syntax described in “Class Attributes” later in this chapter. This overrides the changeSparkPlug() method inherited from Vehicle, so calling it with a LunarRover object causes an error:\n",
        "##This error allows us to fail fast and immediately see a problem if we try to call this inappropriate method with a LunarRover object. Any child classes of LunarRover also inherit this None value for changeSparkPlug(). The TypeError: 'NoneType' object is not callable error message tells us that the programmer of the LunarRover class intentionally set the changeSparkPlug() method to None. If no such method existed in the first place, we would have received a NameError: name 'changeSparkPlug' is not defined error message.\n",
        "\n",
        "##Inheritance can create classes with complexity and contradiction. It’s often favorable to use composition instead."
      ],
      "metadata": {
        "id": "7bJvPHRY5Doy"
      }
    },
    {
      "cell_type": "code",
      "source": [
        "myVehicle = LunarRover()\n",
        "#myVehicle.changeSparkPlug()"
      ],
      "metadata": {
        "colab": {
          "base_uri": "https://localhost:8080/"
        },
        "id": "SIJKXzIJ5Kn_",
        "outputId": "27754b5c-1ce6-4214-f1a0-7490edb6948f"
      },
      "execution_count": null,
      "outputs": [
        {
          "output_type": "stream",
          "name": "stdout",
          "text": [
            "LunarRover created.\n"
          ]
        }
      ]
    },
    {
      "cell_type": "markdown",
      "source": [
        "#**The isinstance() and issubclass() Functions**#\n",
        "##When we need to know the type of an object, we can pass the object to the built-in type() function, as described in the previous chapter. But if we’re doing a type check of an object, it’s a better idea to use the more flexible isinstance() built-in function. The isinstance() function will return True if the object is of the given class or a subclass of the given class."
      ],
      "metadata": {
        "id": "6q8jRI8pz2XA"
      }
    },
    {
      "cell_type": "code",
      "source": [
        "class ParentClass:\n",
        "    pass\n",
        "\n",
        "class ChildClass(ParentClass):\n",
        "    pass\n",
        "\n",
        "parent = ParentClass() # Create a ParentClass object.\n",
        "child = ChildClass() # Create a ChildClass object .\n",
        "print(isinstance(parent, ParentClass))\n",
        "print(isinstance(child, ChildClass))\n",
        "print(isinstance(child, ParentClass))"
      ],
      "metadata": {
        "colab": {
          "base_uri": "https://localhost:8080/"
        },
        "id": "Ruz6CC210DHo",
        "outputId": "63a15c11-d5ac-47cc-ad42-df78ba6aaa7e"
      },
      "execution_count": null,
      "outputs": [
        {
          "output_type": "stream",
          "name": "stdout",
          "text": [
            "True\n",
            "True\n",
            "True\n"
          ]
        }
      ]
    },
    {
      "cell_type": "markdown",
      "source": [
        "##The less commonly used issubclass() built-in function can identify whether the class object passed for the first argument is a subclass of (or the same class as) the class object passed for the second argument:"
      ],
      "metadata": {
        "id": "c-0JNTS01g30"
      }
    },
    {
      "cell_type": "code",
      "source": [
        "print(issubclass(ChildClass, ParentClass)) # ChildClass subclasses ParentClass.\n",
        "print(issubclass(ChildClass, str)) # ChildClass doesn't subclass str.\n",
        "print(issubclass(ChildClass, ChildClass)) # ChildClass is ChildClass."
      ],
      "metadata": {
        "colab": {
          "base_uri": "https://localhost:8080/"
        },
        "id": "Knq1a5yA1sNL",
        "outputId": "20e67772-6bfd-44fc-f452-9a100d8c7528"
      },
      "execution_count": null,
      "outputs": [
        {
          "output_type": "stream",
          "name": "stdout",
          "text": [
            "True\n",
            "False\n",
            "True\n"
          ]
        }
      ]
    },
    {
      "cell_type": "markdown",
      "source": [
        "#**Class Methods**#\n",
        "##Class methods are associated with a class rather than with individual objects, like regular methods are. You can recognize a class method in code when you see two markers: the @classmethod decorator before the method’s def statement and the use of cls as the first parameter, as shown in the following example."
      ],
      "metadata": {
        "id": "AWO2PDT72ZyT"
      }
    },
    {
      "cell_type": "code",
      "source": [
        "class ExampleClass:\n",
        "    def exampleRegulerMethods(self):\n",
        "        print('This is a regular method.')\n",
        "\n",
        "    @classmethod\n",
        "    def exampleClassMethod(cls):\n",
        "        print('This is a class method.')\n",
        "\n",
        "# Call the class method without instantiating an object:\n",
        "ExampleClass.exampleClassMethod()\n",
        "\n",
        "obj = ExampleClass()\n",
        "\n",
        "# Given the above line, these two lines are equivalent:\n",
        "obj.exampleClassMethod()\n",
        "obj.__class__.exampleClassMethod()\n"
      ],
      "metadata": {
        "colab": {
          "base_uri": "https://localhost:8080/"
        },
        "id": "SbLr0GCW2ksD",
        "outputId": "01ada2cb-038e-447b-a44c-aed2c7b26f80"
      },
      "execution_count": null,
      "outputs": [
        {
          "output_type": "stream",
          "name": "stdout",
          "text": [
            "This is a class method.\n",
            "This is a class method.\n",
            "This is a class method.\n"
          ]
        }
      ]
    },
    {
      "cell_type": "markdown",
      "source": [
        "##The cls parameter acts like self except self refers to an object, but the cls parameter refers to an object’s class. This means that the code in a class method cannot access an individual object’s attributes or call an object’s regular methods. Class methods can only call other class methods or access class attributes. We use the name cls because class is a Python keyword, and just like other keywords, such as if, while, or import, we can’t use it for parameter names. We often call class attributes through the class object, as in ExampleClass.exampleClassMethod(). But we can also call them through any object of the class, as in obj.exampleClassMethod().\n",
        "\n",
        "##Class methods aren’t commonly used. The most frequent use case is to provide alternative constructor methods besides __init__(). For example, what if a constructor function could accept either a string of data the new object needs or a string of a filename that contains the data the new object needs? We don’t want the list of the __init__() method’s parameters to be lengthy and confusing. Instead let’s use class methods to return a new object.\n",
        "\n",
        "##For example, let’s create an AsciiArt class. As you saw in Chapter 14, ASCII art uses text characters to form an image."
      ],
      "metadata": {
        "id": "5kysotkgJ7gO"
      }
    },
    {
      "cell_type": "code",
      "source": [
        "class AsciiArt:\n",
        "    def __init__(self,characters):\n",
        "        self.characters = characters\n",
        "\n",
        "    @classmethod\n",
        "    def FromFile(cls,filename):\n",
        "        with open(filename) as fileObj:\n",
        "            characters = fileObj.read()\n",
        "            return cls(characters)\n",
        "\n",
        "    def display(self):\n",
        "        print(self._characters)\n",
        "\n",
        "    # Other AsciiArt methods would go here...\n",
        "\n",
        "face1 = AsciiArt(' _______\\n' +\n",
        "                 '|  . .  |\\n' +\n",
        "                 '| \\\\___/ |\\n' +\n",
        "                 '|_______|')\n",
        "face1.display()\n",
        "face2 = AsciiArt.fromFile('face.txt')\n",
        "face2.display()\n"
      ],
      "metadata": {
        "id": "OORyhTuuKNQh"
      },
      "execution_count": null,
      "outputs": []
    },
    {
      "cell_type": "markdown",
      "source": [
        "#**Class Attributes**#\n",
        "##A class attribute is a variable that belongs to the class rather than to an object. We create class attributes inside the class but outside all methods, just like we create global variables in a .py file but outside all functions. Here’s an example of a class attribute named count, which keeps track of how many CreateCounter objects have been created:\n",
        "\n",
        "##The CreateCounter class has a single class attribute named count. All CreateCounter objects share this attribute rather than having their own separate count attributes. This is why the CreateCounter.count += 1 line in the constructor function can keep count of every CreateCounter object created."
      ],
      "metadata": {
        "id": "_V6Suf87OjpL"
      }
    },
    {
      "cell_type": "code",
      "source": [
        "class CreateCounter:\n",
        "    count = 0 # This is a class attribute.\n",
        "\n",
        "    def __init__(self):\n",
        "        CreateCounter.count += 1\n",
        "print('Objects created:', CreateCounter.count)  # Prints 0.\n",
        "a = CreateCounter()\n",
        "b = CreateCounter()\n",
        "c = CreateCounter()\n",
        "print('Objects created:', CreateCounter.count)  # Prints 3.\n",
        "\n"
      ],
      "metadata": {
        "colab": {
          "base_uri": "https://localhost:8080/"
        },
        "id": "ehkCZ6vuOs8g",
        "outputId": "6e27a2a1-9468-4934-8201-64f35304273f"
      },
      "execution_count": null,
      "outputs": [
        {
          "output_type": "stream",
          "name": "stdout",
          "text": [
            "Objects created: 0\n",
            "Objects created: 3\n"
          ]
        }
      ]
    },
    {
      "cell_type": "markdown",
      "source": [
        "#**Static Methods**#\n",
        "##A static method doesn’t have a self or cls parameter. Static methods are effectively just functions, because they can’t access the attributes or methods of the class or its objects. Rarely, if ever, do you need to use static methods in Python. If you do decide to use one, you should strongly consider just creating a regular function instead.\n",
        "\n",
        "##We define static methods by placing the @staticmethod decorator before their def statements. Here is an example of a static method.\n",
        "\n",
        "##There would be almost no difference between the sayHello() static method in the ExampleClassWithStaticMethod class and a sayHello() function. In fact, you might prefer to use a function, because you can call it without having to enter the class name beforehand.\n",
        "\n",
        "##Static methods are more common in other languages that don’t have Python’s flexible language features. Python’s inclusion of static methods imitates the features of other languages but doesn’t offer much practical value."
      ],
      "metadata": {
        "id": "Z7UX3U0JRDdO"
      }
    },
    {
      "cell_type": "code",
      "source": [
        "class ExampleClassWithStaticMethod:\n",
        "    @staticmethod\n",
        "    def sayHello():\n",
        "        print('Hello!')\n",
        "\n",
        "ExampleClassWithStaticMethod.sayHello()\n",
        "\n",
        "\n"
      ],
      "metadata": {
        "id": "Gwex2KjERk8j",
        "colab": {
          "base_uri": "https://localhost:8080/"
        },
        "outputId": "365fc664-24f3-486d-c6ec-ac9cda1cb5f1"
      },
      "execution_count": 4,
      "outputs": [
        {
          "output_type": "stream",
          "name": "stdout",
          "text": [
            "Hello!\n"
          ]
        }
      ]
    },
    {
      "cell_type": "markdown",
      "source": [
        "#**Multiple Inheritance**#\n",
        "##Many programming languages limit classes to at most one parent class. Python supports multiple parent classes by offering a feature called multiple inheritance. For example, we can have an Airplane class with a flyInTheAir() method and a Ship class with a floatOnWater() method. We could then create a FlyingBoat class that inherits from both Airplane and Ship by listing both in the class statement, separated by commas."
      ],
      "metadata": {
        "id": "pWA_vhtQTXVw"
      }
    },
    {
      "cell_type": "code",
      "source": [
        "class Airplane:\n",
        "    def FlyTheAir(self):\n",
        "        print('Flying...')\n",
        "\n",
        "class Ship:\n",
        "    def FloatOnWater(self):\n",
        "        print('Floating...')\n",
        "\n",
        "class FlyingBoat(Airplane, Ship):\n",
        "    pass"
      ],
      "metadata": {
        "id": "kcXIc5VOTjTl"
      },
      "execution_count": null,
      "outputs": []
    }
  ]
}