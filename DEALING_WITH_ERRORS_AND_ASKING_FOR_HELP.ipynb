{
  "nbformat": 4,
  "nbformat_minor": 0,
  "metadata": {
    "colab": {
      "provenance": [],
      "authorship_tag": "ABX9TyNKbfYGaX/Fa1nR8L8xl2UH",
      "include_colab_link": true
    },
    "kernelspec": {
      "name": "python3",
      "display_name": "Python 3"
    },
    "language_info": {
      "name": "python"
    }
  },
  "cells": [
    {
      "cell_type": "markdown",
      "metadata": {
        "id": "view-in-github",
        "colab_type": "text"
      },
      "source": [
        "<a href=\"https://colab.research.google.com/github/kilos11/Beyond-the-Basic-Stuff-with-Python/blob/main/DEALING_WITH_ERRORS_AND_ASKING_FOR_HELP.ipynb\" target=\"_parent\"><img src=\"https://colab.research.google.com/assets/colab-badge.svg\" alt=\"Open In Colab\"/></a>"
      ]
    },
    {
      "cell_type": "code",
      "execution_count": null,
      "metadata": {
        "id": "dTzoEgKKAc1R"
      },
      "outputs": [],
      "source": []
    },
    {
      "cell_type": "markdown",
      "source": [
        "#**How to Understand Python Error Messages**#\n",
        "##When they’re confronted with an error message’s large wall of technobabble text, many programmers’ first impulse is to completely ignore it. But inside this error message is the answer to what’s wrong with your program. Finding this answer is a two-step process: examining the traceback and doing an internet search of the error message.\n",
        "#*Examining Tracebacks*#\n",
        "##Python programs crash when the code raises an exception that an except statement doesn’t handle. When this happens, Python displays the exception’s message and a traceback. Also called a stack trace, the traceback shows the place in your program where the exception happened and the trail of function calls that led up to it.\n",
        "\n",
        "##To practice reading tracebacks, enter the following buggy program and save it as abcTraceback.py. The line numbers are for reference only and aren’t part of the program."
      ],
      "metadata": {
        "id": "UZgrdSlvBkvS"
      }
    },
    {
      "cell_type": "code",
      "source": [
        "def a():\n",
        "    print('Start of a()')\n",
        "    b()  # Call b().\n",
        "\n",
        "def b():\n",
        "    print('Start of b()')\n",
        "    c()  # Call c().\n",
        "\n",
        "def c():\n",
        "    print('Start of c()')\n",
        "    42 / 0  # This will cause a zero divide error.\n",
        "\n",
        "a()  # Call a().\n"
      ],
      "metadata": {
        "colab": {
          "base_uri": "https://localhost:8080/",
          "height": 373
        },
        "id": "Pg2d_4djCacQ",
        "outputId": "2c3aedba-8328-4a8b-e623-fd1a03eca28a"
      },
      "execution_count": null,
      "outputs": [
        {
          "output_type": "stream",
          "name": "stdout",
          "text": [
            "Start of a()\n",
            "Start of b()\n",
            "Start of c()\n"
          ]
        },
        {
          "output_type": "error",
          "ename": "ZeroDivisionError",
          "evalue": "division by zero",
          "traceback": [
            "\u001b[0;31m---------------------------------------------------------------------------\u001b[0m",
            "\u001b[0;31mZeroDivisionError\u001b[0m                         Traceback (most recent call last)",
            "\u001b[0;32m<ipython-input-2-864bb448c66f>\u001b[0m in \u001b[0;36m<cell line: 13>\u001b[0;34m()\u001b[0m\n\u001b[1;32m     11\u001b[0m     \u001b[0;36m42\u001b[0m \u001b[0;34m/\u001b[0m \u001b[0;36m0\u001b[0m  \u001b[0;31m# This will cause a zero divide error.\u001b[0m\u001b[0;34m\u001b[0m\u001b[0;34m\u001b[0m\u001b[0m\n\u001b[1;32m     12\u001b[0m \u001b[0;34m\u001b[0m\u001b[0m\n\u001b[0;32m---> 13\u001b[0;31m \u001b[0ma\u001b[0m\u001b[0;34m(\u001b[0m\u001b[0;34m)\u001b[0m  \u001b[0;31m# Call a().\u001b[0m\u001b[0;34m\u001b[0m\u001b[0;34m\u001b[0m\u001b[0m\n\u001b[0m",
            "\u001b[0;32m<ipython-input-2-864bb448c66f>\u001b[0m in \u001b[0;36ma\u001b[0;34m()\u001b[0m\n\u001b[1;32m      1\u001b[0m \u001b[0;32mdef\u001b[0m \u001b[0ma\u001b[0m\u001b[0;34m(\u001b[0m\u001b[0;34m)\u001b[0m\u001b[0;34m:\u001b[0m\u001b[0;34m\u001b[0m\u001b[0;34m\u001b[0m\u001b[0m\n\u001b[1;32m      2\u001b[0m     \u001b[0mprint\u001b[0m\u001b[0;34m(\u001b[0m\u001b[0;34m'Start of a()'\u001b[0m\u001b[0;34m)\u001b[0m\u001b[0;34m\u001b[0m\u001b[0;34m\u001b[0m\u001b[0m\n\u001b[0;32m----> 3\u001b[0;31m     \u001b[0mb\u001b[0m\u001b[0;34m(\u001b[0m\u001b[0;34m)\u001b[0m  \u001b[0;31m# Call b().\u001b[0m\u001b[0;34m\u001b[0m\u001b[0;34m\u001b[0m\u001b[0m\n\u001b[0m\u001b[1;32m      4\u001b[0m \u001b[0;34m\u001b[0m\u001b[0m\n\u001b[1;32m      5\u001b[0m \u001b[0;32mdef\u001b[0m \u001b[0mb\u001b[0m\u001b[0;34m(\u001b[0m\u001b[0;34m)\u001b[0m\u001b[0;34m:\u001b[0m\u001b[0;34m\u001b[0m\u001b[0;34m\u001b[0m\u001b[0m\n",
            "\u001b[0;32m<ipython-input-2-864bb448c66f>\u001b[0m in \u001b[0;36mb\u001b[0;34m()\u001b[0m\n\u001b[1;32m      5\u001b[0m \u001b[0;32mdef\u001b[0m \u001b[0mb\u001b[0m\u001b[0;34m(\u001b[0m\u001b[0;34m)\u001b[0m\u001b[0;34m:\u001b[0m\u001b[0;34m\u001b[0m\u001b[0;34m\u001b[0m\u001b[0m\n\u001b[1;32m      6\u001b[0m     \u001b[0mprint\u001b[0m\u001b[0;34m(\u001b[0m\u001b[0;34m'Start of b()'\u001b[0m\u001b[0;34m)\u001b[0m\u001b[0;34m\u001b[0m\u001b[0;34m\u001b[0m\u001b[0m\n\u001b[0;32m----> 7\u001b[0;31m     \u001b[0mc\u001b[0m\u001b[0;34m(\u001b[0m\u001b[0;34m)\u001b[0m  \u001b[0;31m# Call c().\u001b[0m\u001b[0;34m\u001b[0m\u001b[0;34m\u001b[0m\u001b[0m\n\u001b[0m\u001b[1;32m      8\u001b[0m \u001b[0;34m\u001b[0m\u001b[0m\n\u001b[1;32m      9\u001b[0m \u001b[0;32mdef\u001b[0m \u001b[0mc\u001b[0m\u001b[0;34m(\u001b[0m\u001b[0;34m)\u001b[0m\u001b[0;34m:\u001b[0m\u001b[0;34m\u001b[0m\u001b[0;34m\u001b[0m\u001b[0m\n",
            "\u001b[0;32m<ipython-input-2-864bb448c66f>\u001b[0m in \u001b[0;36mc\u001b[0;34m()\u001b[0m\n\u001b[1;32m      9\u001b[0m \u001b[0;32mdef\u001b[0m \u001b[0mc\u001b[0m\u001b[0;34m(\u001b[0m\u001b[0;34m)\u001b[0m\u001b[0;34m:\u001b[0m\u001b[0;34m\u001b[0m\u001b[0;34m\u001b[0m\u001b[0m\n\u001b[1;32m     10\u001b[0m     \u001b[0mprint\u001b[0m\u001b[0;34m(\u001b[0m\u001b[0;34m'Start of c()'\u001b[0m\u001b[0;34m)\u001b[0m\u001b[0;34m\u001b[0m\u001b[0;34m\u001b[0m\u001b[0m\n\u001b[0;32m---> 11\u001b[0;31m     \u001b[0;36m42\u001b[0m \u001b[0;34m/\u001b[0m \u001b[0;36m0\u001b[0m  \u001b[0;31m# This will cause a zero divide error.\u001b[0m\u001b[0;34m\u001b[0m\u001b[0;34m\u001b[0m\u001b[0m\n\u001b[0m\u001b[1;32m     12\u001b[0m \u001b[0;34m\u001b[0m\u001b[0m\n\u001b[1;32m     13\u001b[0m \u001b[0ma\u001b[0m\u001b[0;34m(\u001b[0m\u001b[0;34m)\u001b[0m  \u001b[0;31m# Call a().\u001b[0m\u001b[0;34m\u001b[0m\u001b[0;34m\u001b[0m\u001b[0m\n",
            "\u001b[0;31mZeroDivisionError\u001b[0m: division by zero"
          ]
        }
      ]
    },
    {
      "cell_type": "markdown",
      "source": [
        "##Let’s examine this traceback line by line, starting with this line:\n",
        "\n",
        "#*Traceback (most recent call last):*\n",
        "##This message lets you know that what follows is a traceback. The most recent call last text indicates that each of the function calls is listed in order, starting with the first function call and ending with the most recent.\n",
        "\n",
        "##The next line shows the traceback’s first function call:\n",
        "\n",
        "  #*File \"abcTraceback.py\", line 13, in <module>*\n",
        "      ##a()  # Call a().\n",
        "      These two lines are the frame summary, and they show the information inside a frame object. When a function is called, the local variable data as well as where in the code to return to after the function call ends are stored in a frame object. Frame objects hold local variables and other data associated with function calls. Frame objects are created when the function is called and destroyed when the function returns. The traceback shows a frame summary for each frame leading up to the crash. We can see that this function call is on line 13 of abcTraceback.py, and the <module> text tells us this line is in the global scope. Line 13 is displayed with two spaces of indentation next.\n",
        "\n",
        "      The four lines that follow are the next two frame summaries:\n",
        "\n",
        "        File \"abcTraceback.py\", line 3, in a\n",
        "            b()  # Call b().\n",
        "              File \"abcTraceback.py\", line 7, in b\n",
        "                  c()  # Call c().\n",
        "                  We can tell from the line 3, in a text that b() was called on line 3 inside the a() function, which led to c() being called on line 7 inside the b() function. Notice that the print() calls on lines 2, 6, and 10 aren’t displayed in the traceback, even though they ran before the function calls occurred. Only the lines containing function calls that lead up to the exception are displayed in the traceback.\n",
        "\n",
        "                  The last frame summary shows the line that caused the unhandled exception, followed by the name of the exception and the exception’s message:\n",
        "\n",
        "                    File \"abcTraceback.py\", line 11, in c\n",
        "                        42 / 0  # This will cause a zero divide error.\n",
        "                        ZeroDivisionError: division by zero\n",
        "                        Note that the line number given by the traceback is where Python finally detected an error. The true source of the bug could be somewhere before this line.\n",
        "\n",
        "                        Error messages are notoriously short and inscrutable: the three words division by zero won’t mean anything to you unless you know that dividing a number by zero is mathematically impossible and a common software bug. In this program, the bug isn’t too hard to find. Looking at the line of code in the frame summary, it’s clear where in the 42 / 0 code the zero divide error is happening."
      ],
      "metadata": {
        "id": "ExubNqtIFOjH"
      }
    },
    {
      "cell_type": "code",
      "source": [
        "def spam(number1, number2):\n",
        "    return number1 / (number2 - 42)\n",
        "\n",
        "spam(101, 42)"
      ],
      "metadata": {
        "colab": {
          "base_uri": "https://localhost:8080/",
          "height": 280
        },
        "id": "noz5lznuGP_O",
        "outputId": "5e2658db-69ce-44d1-8604-d117cd0e6afb"
      },
      "execution_count": null,
      "outputs": [
        {
          "output_type": "error",
          "ename": "ZeroDivisionError",
          "evalue": "division by zero",
          "traceback": [
            "\u001b[0;31m---------------------------------------------------------------------------\u001b[0m",
            "\u001b[0;31mZeroDivisionError\u001b[0m                         Traceback (most recent call last)",
            "\u001b[0;32m<ipython-input-3-c971114f108a>\u001b[0m in \u001b[0;36m<cell line: 4>\u001b[0;34m()\u001b[0m\n\u001b[1;32m      2\u001b[0m     \u001b[0;32mreturn\u001b[0m \u001b[0mnumber1\u001b[0m \u001b[0;34m/\u001b[0m \u001b[0;34m(\u001b[0m\u001b[0mnumber2\u001b[0m \u001b[0;34m-\u001b[0m \u001b[0;36m42\u001b[0m\u001b[0;34m)\u001b[0m\u001b[0;34m\u001b[0m\u001b[0;34m\u001b[0m\u001b[0m\n\u001b[1;32m      3\u001b[0m \u001b[0;34m\u001b[0m\u001b[0m\n\u001b[0;32m----> 4\u001b[0;31m \u001b[0mspam\u001b[0m\u001b[0;34m(\u001b[0m\u001b[0;36m101\u001b[0m\u001b[0;34m,\u001b[0m \u001b[0;36m42\u001b[0m\u001b[0;34m)\u001b[0m\u001b[0;34m\u001b[0m\u001b[0;34m\u001b[0m\u001b[0m\n\u001b[0m",
            "\u001b[0;32m<ipython-input-3-c971114f108a>\u001b[0m in \u001b[0;36mspam\u001b[0;34m(number1, number2)\u001b[0m\n\u001b[1;32m      1\u001b[0m \u001b[0;32mdef\u001b[0m \u001b[0mspam\u001b[0m\u001b[0;34m(\u001b[0m\u001b[0mnumber1\u001b[0m\u001b[0;34m,\u001b[0m \u001b[0mnumber2\u001b[0m\u001b[0;34m)\u001b[0m\u001b[0;34m:\u001b[0m\u001b[0;34m\u001b[0m\u001b[0;34m\u001b[0m\u001b[0m\n\u001b[0;32m----> 2\u001b[0;31m     \u001b[0;32mreturn\u001b[0m \u001b[0mnumber1\u001b[0m \u001b[0;34m/\u001b[0m \u001b[0;34m(\u001b[0m\u001b[0mnumber2\u001b[0m \u001b[0;34m-\u001b[0m \u001b[0;36m42\u001b[0m\u001b[0;34m)\u001b[0m\u001b[0;34m\u001b[0m\u001b[0;34m\u001b[0m\u001b[0m\n\u001b[0m\u001b[1;32m      3\u001b[0m \u001b[0;34m\u001b[0m\u001b[0m\n\u001b[1;32m      4\u001b[0m \u001b[0mspam\u001b[0m\u001b[0;34m(\u001b[0m\u001b[0;36m101\u001b[0m\u001b[0;34m,\u001b[0m \u001b[0;36m42\u001b[0m\u001b[0;34m)\u001b[0m\u001b[0;34m\u001b[0m\u001b[0;34m\u001b[0m\u001b[0m\n",
            "\u001b[0;31mZeroDivisionError\u001b[0m: division by zero"
          ]
        }
      ]
    },
    {
      "cell_type": "markdown",
      "source": [
        "##When you run this program, the output should look like this:\n",
        "\n",
        "Traceback (most recent call last):\n",
        "  File \"zeroDivideTraceback.py\", line 4, in <module>\n",
        "      spam(101, 42)\n",
        "        File \"zeroDivideTraceback.py\", line 2, in spam\n",
        "            return number1 / (number2 - 42)\n",
        "            ZeroDivisionError: division by zero\n",
        "            The error message is the same, but the zero divide in return number1 / (number2 - 42) isn’t quite so obvious. You can deduce that there is a division happening from the / operator, and that the expression (number2 - 42) must evaluate to 0. This would lead you to conclude that the spam() function fails whenever the number2 parameter is set to 42.\n",
        "\n",
        "            Sometimes the traceback might indicate that an error is on the line after the true cause of the bug. For example, in the following program, the first line is missing the closing parenthesis:\n",
        "\n",
        "            print('Hello.'\n",
        "            print('How are you?')\n",
        "            But the error message for this program indicates the problem is on the second line:\n",
        "\n",
        "              File \"example.py\", line 2\n",
        "                  print('How are you?')\n",
        "                          ^\n",
        "                          SyntaxError: invalid syntax\n",
        "                          The reason is that the Python interpreter didn’t notice the syntax error until it read the second line. The traceback can indicate where things went wrong, but that isn’t always the same as where the actual cause of a bug is. If the frame summary doesn’t give you enough information to figure out the bug, or if the true cause of the bug is on a previous line not shown by the traceback, you’ll have to step through the program with a debugger or check any logging messages to find the cause. This can take a significant amount of time. An internet search of the error message might give you critical clues about the solution much more quickly."
      ],
      "metadata": {
        "id": "e8NoZXYLH6a_"
      }
    },
    {
      "cell_type": "markdown",
      "source": [
        "##Nobody can be expected to memorize every possible error message for a programming language. Professional software developers search the internet for programming answers on a daily basis.\n",
        "\n",
        "##You might want to exclude any part of the error message that is particular to your code. For example, consider the following error messages:\n",
        "\n",
        ">>> print(employeRecord)\n",
        "Traceback (most recent call last):\n",
        "  File \"<stdin>\", line 1, in <module>\n",
        "  1 NameError: name 'employeRecord' is not defined\n",
        "  >>> 42 - 'hello'\n",
        "  Traceback (most recent call last):\n",
        "    File \"<stdin>\", line 1, in <module>\n",
        "    2 TypeError: unsupported operand type(s) for -: 'int' and 'str'\n",
        "    This example has a typo in the variable employeRecord, causing an error 1. Because the identifier employeRecord in NameError: name 'employeRecord' is not defined is specific to your code, you might want to instead search for python “NameError: name” “is not defined”. In the last line, the 'int' and 'str' part of the error message 2 seems to refer to the 42 and 'hello' values, so truncating the search to python “TypeError: unsupported operand type(s) for” would avoid including parts particular to your code. If these searches don’t yield useful results, try including the full error message."
      ],
      "metadata": {
        "id": "cWvO29-aMrbN"
      }
    },
    {
      "cell_type": "markdown",
      "source": [
        "#**Preventing Errors with Linters**#\n",
        "##The best way to fix mistakes is to not make them in the first place. Lint software, or linters, are applications that analyze your source code to warn you of any potential errors. The name references the small fibers and debris collected by a clothes dryer’s lint trap. Although a linter won’t catch all errors, static analysis (examining source code without running it) can identify common errors caused by typos. (Chapter 11 explores how to use type hints for static analysis.) Many text editors and integrated development environments (IDEs) incorporate a linter that runs in the background and can point out problems in real time,\n",
        "\n",
        "##The near-instant notifications that a linter provides greatly improves your programming productivity. Without one, you’d have to run your program, watch it crash, read the traceback, and then find the line in your source code to fix a typo. And if you’ve made multiple typos, this run-fix cycle would only find them one at a time. Linting can point out multiple errors at once, and it does so directly in the editor, so you can see the line on which they occur.\n",
        "\n",
        "##Your editor or IDE might not come with a lint feature, but if it supports plug-ins, almost certainly a linter will be available. Often, these plug-ins use a linting module called Pyflakes or some other module to do their analysis. You can install Pyflakes from https://pypi.org/project/pyflakes/ or by running pip install --user pyflakes. It’s well worth the effort."
      ],
      "metadata": {
        "id": "BmMv9EchNRt9"
      }
    },
    {
      "cell_type": "code",
      "source": [
        "!pip install --user pyflakes."
      ],
      "metadata": {
        "id": "jZ3VYY47NwGa"
      },
      "execution_count": null,
      "outputs": []
    }
  ]
}