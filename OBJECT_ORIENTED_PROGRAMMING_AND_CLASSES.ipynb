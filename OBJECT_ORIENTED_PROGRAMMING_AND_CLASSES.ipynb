{
  "cells": [
    {
      "cell_type": "markdown",
      "metadata": {
        "id": "view-in-github",
        "colab_type": "text"
      },
      "source": [
        "<a href=\"https://colab.research.google.com/github/kilos11/Beyond-the-Basic-Stuff-with-Python/blob/main/OBJECT_ORIENTED_PROGRAMMING_AND_CLASSES.ipynb\" target=\"_parent\"><img src=\"https://colab.research.google.com/assets/colab-badge.svg\" alt=\"Open In Colab\"/></a>"
      ]
    },
    {
      "cell_type": "markdown",
      "metadata": {
        "id": "r7_JPHQoraA0"
      },
      "source": [
        "#**Creating Objects from Classes**#\n",
        "##You’ve already used classes and objects in Python, even if you haven’t created classes yourself. Consider the datetime module, which contains a class named date. Objects of the datetime.date class (also simply called datetime.date objects or date objects) represent a specific date."
      ]
    },
    {
      "cell_type": "code",
      "execution_count": null,
      "metadata": {
        "colab": {
          "base_uri": "https://localhost:8080/"
        },
        "id": "17U3BeUDp71Y",
        "outputId": "b9715a1a-e16d-4353-b470-c3800f7dd33c"
      },
      "outputs": [
        {
          "name": "stdout",
          "output_type": "stream",
          "text": [
            "1999\n",
            "10\n",
            "31\n",
            "6\n"
          ]
        }
      ],
      "source": [
        "import datetime\n",
        "\n",
        "birthday = datetime.date(1999, 10, 31) # Pass the year, month, and day.\n",
        "print(birthday.year)\n",
        "print(birthday.month)\n",
        "print(birthday.day)\n",
        "print(birthday.weekday())"
      ]
    },
    {
      "cell_type": "markdown",
      "metadata": {
        "id": "7kEQa2Lps3Gi"
      },
      "source": [
        "##Attributes are variables associated with objects. The call to datetime.date() creates a new date object, initialized with the arguments 1999, 10, 31 so the object represents the date October 31, 1999. We assign these arguments as the date class’s year, month, and day attributes, which all date objects have.\n",
        "\n",
        "##With this information, the class’s weekday() method can calculate the day of the week. In this example, it returns 6 for Sunday, because according to Python’s online documentation, the return value of weekday() is an integer that starts at 0 for Monday and goes to 6 for Sunday. The documentation lists several other methods that objects of the date class have. Even though the date object contains multiple attributes and methods, it’s still a single object that you can store in a variable, such as birthday in this example."
      ]
    },
    {
      "cell_type": "markdown",
      "metadata": {
        "id": "nMtTdkqatX8P"
      },
      "source": [
        "#**Creating a Simple Class: WizCoin**#\n",
        "##Let’s create a WizCoin class, which represents a number of coins in a fictional wizard currency. In this currency, the denominations are knuts, sickles (worth 29 knuts), and galleons (worth 17 sickles or 493 knuts). Keep in mind that the objects in the WizCoin class represent a quantity of coins, not an amount of money. For example, it will inform you that you’re holding five quarters and one dime rather than $1.35."
      ]
    },
    {
      "cell_type": "code",
      "execution_count": null,
      "metadata": {
        "id": "Wz2HubOQtmc8"
      },
      "outputs": [],
      "source": [
        "class WizCoin:\n",
        "    def __init__ (self,galleons,sickles,knuts):\n",
        "        \"\"\"Create a new WizCoin object with galleons, sickles, and knuts.\"\"\"\n",
        "        self.galleons = galleons\n",
        "        self.sickles = sickles\n",
        "        self.knuts = knuts\n",
        "        # NOTE: __init__() methods NEVER have a return statement.\n",
        "\n",
        "    def value(self):\n",
        "        \"\"\"The value (in knuts) of all the coins in this WizCoin object.\"\"\"\n",
        "        return (self.galleons * 17 * 29) + (self.sickles * 29) + (self.knuts)\n",
        "\n",
        "    def weightInGrams(self):\n",
        "        \"\"\"Returns the weight of the coins in grams.\"\"\"\n",
        "        return (self.galleons * 31.103) + (self.sickles * 11.34) + (self.knuts * 5.0)\n"
      ]
    },
    {
      "cell_type": "markdown",
      "metadata": {
        "id": "GHRZBL3QztuG"
      },
      "source": [
        "##This program defines a new class called WizCoin using a class statement 1. Creating a class creates a new type of object. Using a class statement to define a class is similar to def statements that define new functions. Inside the block of code following the class statement are the definitions for three methods: __init__() (short for initializer) 2, value() 3, and weightInGrams() 4. Note that all methods have a first parameter named self, which we’ll explore in the next section.\n",
        "\n",
        "##As a convention, module names (like wizcoin in our wizcoin.py file) are lowercase, whereas class names (like WizCoin) begin with an uppercase letter. Unfortunately, some classes in the Python Standard Library, such as date, don’t follow this convention."
      ]
    },
    {
      "cell_type": "code",
      "execution_count": null,
      "metadata": {
        "id": "kVJRg_gr0EhV"
      },
      "outputs": [],
      "source": [
        "import wizcoin\n",
        "\n",
        "purse = wizcoin.WizCoin(2, 5, 99) # The ints are passed to __init__().\n",
        "print(purse)\n",
        "print('G:', purse.galleons, 'S:', purse.sickles, 'K:', purse.knuts)\n",
        "print('Total value:', purse.value())\n",
        "print('Weight:', purse.weightInGrams(), 'grams')\n",
        "\n",
        "print()\n",
        "\n",
        "coinJar = wizcoin.WizCoin(13, 0, 0) # The ints are passed to __init__().\n",
        "print(coinJar)\n",
        "print('G:', coinJar.galleons, 'S:', coinJar.sickles, 'K:', coinJar.knuts)\n",
        "print('Total value:', coinJar.value())\n",
        "print('Weight:', coinJar.weightInGrams(), 'grams')"
      ]
    },
    {
      "cell_type": "markdown",
      "metadata": {
        "id": "K0Isfx8E1yqU"
      },
      "source": [
        "##The calls to WizCoin() 1 2 create a WizCoin object and run the code in the __init__() method for them. We pass in three integers as arguments to WizCoin(), which are forwarded to the parameters of __init__(). These arguments are assigned to the object’s self.galleons, self.sickles, and self.knuts attributes. Note that, just as the time.sleep() function requires you to first import the time module and put time. before the function name, we must also import wizcoin and put wizcoin. before the WizCoin() function name.\n",
        "\n",
        "##When you run this program, the output will look something like this:\n",
        "\n",
        "##*<wizcoin.WizCoin object at 0x000002136F138080>*\n",
        "##*G: 2 S: 5 K: 99*\n",
        "##*Total value: 1230*\n",
        "##*Weight: 613.906 grams*\n",
        "\n",
        "##*<wizcoin.WizCoin object at 0x000002136F138128>*\n",
        "##*G: 13 S: 0 K: 0*\n",
        "##*Total value: 6409*\n",
        "##*Weight: 404.339 grams*"
      ]
    },
    {
      "cell_type": "markdown",
      "metadata": {
        "id": "xYgd1whhY42n"
      },
      "source": [
        "#**Methods, __init__(), and self**#\n",
        "##Methods are functions associated with objects of a particular class. Recall that lower() is a string method, meaning that it’s called on string objects. You can call lower() on a string, as in 'Hello'.lower(), but you can’t call it on a list, such as ['dog', 'cat'].lower(). Also, notice that methods come after the object: the correct code is 'Hello'.lower(), not lower('Hello'). Unlike a method like lower(), a function like len() is not associated with a single data type; you can pass strings, lists, dictionaries, and many other types of objects to len().\n",
        "\n",
        "##As you saw in the previous section, we create objects by calling the class name as a function. This function is referred to as a constructor function (or constructor, or abbreviated as ctor, pronounced “see-tore”) because it constructs a new object. We also say the constructor instantiates a new instance of the class.\n",
        "\n",
        "##Calling the constructor causes Python to create the new object and then run the __init__() method. Classes aren’t required to have an __init__() method, but they almost always do. The __init__() method is where you commonly set the initial values of attributes.\n",
        "\n",
        "##When the wcexample1.py program calls WizCoin(2, 5, 99), Python creates a new WizCoin object and then passes three arguments (2, 5, and 99) to an __init__() call. But the __init__() method has four parameters: self, galleons, sickles, and knuts. The reason is that all methods have a first parameter named self. When a method is called on an object, the object is automatically passed in for the self parameter. The rest of the arguments are assigned to parameters normally. If you see an error message, such as TypeError: __init__() takes 3 positional arguments but 4 were given, you’ve probably forgotten to add the self parameter to the method’s def statement.\n",
        "\n",
        "##You don’t have to name a method’s first parameter self; you can name it anything. But using self is conventional, and choosing a different name will make your code less readable to other Python programmers. When you’re reading code, the presence of self as the first parameter is the quickest way you can distinguish methods from functions. Similarly, if your method’s code never needs to use the self parameter, it’s a sign that your method should probably just be a function.\n",
        "\n",
        "##The 2, 5, and 99 arguments of WizCoin(2, 5, 99) aren’t automatically assigned to the new object’s attributes; we need the three assignment statements in __init__() to do this. Often, the __init__() parameters are named the same as the attributes, but the presence of self in self.galleons indicates that it’s an attribute of the object, whereas galleons is a parameter. This storing of the constructor’s arguments in the object’s attributes is a common task for a class’s __init__() method. The datetime.date() call in the previous section did a similar task except the three arguments we passed were for the newly created date object’s year, month, and day attributes.\n",
        "\n",
        "##You’ve previously called the int(), str(), float(), and bool() functions to convert between data types, such as str(3.1415) returning the string value '3.1415' based on the float value 3.1415. Previously, we described these as functions, but int, str, float, and bool are actually classes, and the int(), str(), float(), and bool() functions are constructor functions that return new integer, string, float, and Boolean objects. Python’s style guide recommends using capitalized camelcase for your class names (like WizCoin), although many of Python’s built-in classes don’t follow this convention.\n",
        "\n",
        "##Note that calling the WizCoin() construction function returns the new WizCoin object, but the __init__() method never has a return statement with a return value. Adding a return value causes this error: TypeError: __init__() should return None."
      ]
    },
    {
      "cell_type": "markdown",
      "metadata": {
        "id": "bwWBsk5xati_"
      },
      "source": [
        "#**Attributes**#\n",
        "##Attributes are variables associated with an object. The Python documentation describes attributes as “any name following a dot.” For example, consider the birthday.year expression in the previous section. The year attribute is a name following a dot.\n",
        "\n",
        "##Every object has its own set of attributes. When the wcexample1.py program created two WizCoin objects and stored them in the purse and coinJar variables, their attributes had different values. You can access and set these attributes just like any variable. To practice setting attributes, open a new file editor window and enter the following code, saving it as wcexample2.py in the same folder as the wizcoin.py file:"
      ]
    },
    {
      "cell_type": "code",
      "execution_count": null,
      "metadata": {
        "id": "BgUbIFPWa4tO"
      },
      "outputs": [],
      "source": [
        "import wizcoin\n",
        "\n",
        "change = wizcoin.WizCoin(9,7,20)\n",
        "print(change.sickles) # Prints 7.\n",
        "change.sickles += 10\n",
        "print(change.sickles) # Prints 17.\n",
        "\n",
        "pile = wizcoin.WizCoin(2, 3, 31)\n",
        "print(pile.sickles) # Prints 3.\n",
        "pile.someNewAttribute = 'a new attr' # A new attribute is created.\n",
        "print(pile.someNewAttribute)"
      ]
    },
    {
      "cell_type": "markdown",
      "metadata": {
        "id": "xeOJfVy2dPKW"
      },
      "source": [
        "##Private Attributes and Private Methods\n",
        "##In languages such as C++ or Java, attributes can be marked as having private access, which means the compiler or interpreter only lets co0de inside the class’s methods access or modify the attributes of objects of that class. But in Python, this enforcement doesn’t exist. All attributes and methods are effectively public access: code outside of the class can access and modify any attribute in any object of that class.\n",
        "\n",
        "##But private access is useful. For example, objects of a BankAccount class could have a balance attribute that only methods of the BankAccount class should have access to. For those reasons, Python’s convention is to start private attribute or method names with a single underscore. Technically, there is nothing to stop code outside the class from accessing private attributes and methods, but it’s a best practice to let only the class’s methods access them.\n",
        "\n",
        "##Open a new file editor window, enter the following code, and save it as privateExample.py. In it, objects of a BankAccount class have private _name and _balance attributes that only the deposit() and withdraw() methods should directly access"
      ]
    },
    {
      "cell_type": "code",
      "execution_count": null,
      "metadata": {
        "colab": {
          "base_uri": "https://localhost:8080/"
        },
        "id": "LUezmBcPgLbr",
        "outputId": "8ab867d6-d7e5-44c2-bb5b-9fa441ff4b9c"
      },
      "outputs": [
        {
          "name": "stdout",
          "output_type": "stream",
          "text": [
            "None\n"
          ]
        }
      ],
      "source": [
        "class BankAccount:\n",
        "    def __init__(self,accountHolder):\n",
        "        # BankAccount methods can access self._balance, but code outside of\n",
        "        # this class should not:\n",
        "        self._balance = 0\n",
        "        self._name = accountHolder\n",
        "        with open(self._name + 'Ledger.txt', 'w') as ledgerFile:\n",
        "            ledgerFile.write('Balance is 0\\n')\n",
        "\n",
        "    def deposit(self,amount):\n",
        "        if amount <= 0:\n",
        "            return # Don't allow negative \"deposits\".\n",
        "        self._balance += amount\n",
        "        with open(self._name + 'Ledger.txt', 'a') as ledgerFile:\n",
        "            ledgerFile.write('Deposit ' + str(amount) + '\\n')\n",
        "            ledgerFile.write('Balance is ' + str(self._balance) + '\\n')\n",
        "\n",
        "    def withdraw (self,amount):\n",
        "        if self._balance < amount or amount < 0:\n",
        "            return # Not enough in account, or withdraw is negative.\n",
        "        self._balance -= amount\n",
        "        with open(self._name + 'Ledger.txt', 'a') as ledgerFile:\n",
        "            ledgerFile.write('Withdraw ' + str(amount) + '\\n')\n",
        "            ledgerFile.write('Balance is ' + str(self._balance) + '\\n')\n",
        "\n",
        "\n",
        "acct = BankAccount('Alice')# We create an account for Alice.\n",
        "acct.deposit(120)# _balance can be affected through deposit()\n",
        "acct.withdraw(40)# _balance can be affected through withdraw()\n",
        "\n"
      ]
    },
    {
      "cell_type": "markdown",
      "metadata": {
        "id": "56_wIsF_WzH1"
      },
      "source": [
        "#**The type() Function and __qualname__ Attribute**#\n",
        "##Passing an object to the built-in type() function tells us the object’s data type through its return value. The objects returned from the type() function are type objects, also called class objects. Recall that the terms type, data type, and class all have the same meaning in Python."
      ]
    },
    {
      "cell_type": "markdown",
      "metadata": {
        "id": "S3j3gu5SXVbi"
      },
      "source": [
        "#**Non-OOP vs. OOP Examples: Tic-Tac-Toe**#\n",
        "##At first, it can be difficult to see how to use classes in your programs. Let’s look at an example of a short tic-tac-toe program that doesn’t use classes, and then rewrite it so it does."
      ]
    },
    {
      "cell_type": "code",
      "execution_count": null,
      "metadata": {
        "id": "7PH3djD4bgGX"
      },
      "outputs": [],
      "source": [
        "# tictactoe.py, A non-OOP tic-tac-toe game.\n",
        "\n",
        "ALL_SPACES = list('123456789')  # Create a list of strings representing the board spaces.\n",
        "X, O, BLANK = 'X', 'O', ' '  # Constants for the X, O, and blank space values.\n",
        "\n",
        "def main():\n",
        "    \"\"\"Runs a game of tic-tac-toe.\"\"\"\n",
        "        print('Welcome to tic-tac-toe!')  # Print a welcome message.\n",
        "            gameBoard = getBlankBoard()  # Create a new blank board dictionary.\n",
        "                currentPlayer, nextPlayer = X, O  # Set the initial players, X goes first, O goes next.\n",
        "\n",
        "                    while True:\n",
        "                            print(getBoardStr(gameBoard))  # Display the current state of the board.\n",
        "\n",
        "                                    # Keep asking the player until they enter a valid move (1-9):\n",
        "                                            move = None\n",
        "                                                    while not isValidSpace(gameBoard, move):\n",
        "                                                                print(f'What is {currentPlayer}\\'s move? (1-9)')  # Prompt the current player for their move.\n",
        "                                                                            move = input()  # Get the player's move as input.\n",
        "                                                                                    updateBoard(gameBoard, move, currentPlayer)  # Update the board with the player's move.\n",
        "\n",
        "                                                                                            # Check if the game is over:\n",
        "                                                                                                    if isWinner(gameBoard, currentPlayer):  # Check if the current player has won.\n",
        "                                                                                                                print(getBoardStr(gameBoard))  # Print the final board state.\n",
        "                                                                                                                            print(currentPlayer + ' has won the game!')  # Print the winner message.\n",
        "                                                                                                                                        break  # Exit the game loop.\n",
        "                                                                                                                                                elif isBoardFull(gameBoard):  # Check if the board is full (tie game).\n",
        "                                                                                                                                                            print(getBoardStr(gameBoard))  # Print the final board state.\n",
        "                                                                                                                                                                        print('The game is a tie!')  # Print the tie game message.\n",
        "                                                                                                                                                                                    break  # Exit the game loop.\n",
        "                                                                                                                                                                                            currentPlayer, nextPlayer = nextPlayer, currentPlayer  # Swap turns between players.\n",
        "                                                                                                                                                                                                print('Thanks for playing!')  # Print a goodbye message.\n",
        "\n",
        "                                                                                                                                                                                                def getBlankBoard():\n",
        "                                                                                                                                                                                                    \"\"\"Create a new, blank tic-tac-toe board.\"\"\"\n",
        "                                                                                                                                                                                                        board = {}  # Create an empty dictionary to represent the board.\n",
        "                                                                                                                                                                                                            for space in ALL_SPACES:\n",
        "                                                                                                                                                                                                                    board[space] = BLANK  # Initialize all spaces on the board as blank.\n",
        "                                                                                                                                                                                                                        return board  # Return the new blank board.\n",
        "\n",
        "                                                                                                                                                                                                                        def getBoardStr(board):\n",
        "                                                                                                                                                                                                                            \"\"\"Return a text-representation of the board.\"\"\"\n",
        "                                                                                                                                                                                                                                return f'''\n",
        "                                                                                                                                                                                                                                      {board['1']}|{board['2']}|{board['3']}  1 2 3  # Print the top row with space numbers.\n",
        "                                                                                                                                                                                                                                            -+-+-\n",
        "                                                                                                                                                                                                                                                  {board['4']}|{board['5']}|{board['6']}  4 5 6  # Print the middle row with space numbers.\n",
        "                                                                                                                                                                                                                                                        -+-+-\n",
        "                                                                                                                                                                                                                                                              {board['7']}|{board['8']}|{board['9']}  7 8 9  # Print the bottom row with space numbers.'''\n",
        "\n",
        "                                                                                                                                                                                                                                                              def isValidSpace(board, space):\n",
        "                                                                                                                                                                                                                                                                  \"\"\"Returns True if the space on the board is a valid space number\n",
        "                                                                                                                                                                                                                                                                      and the space is blank.\"\"\"\n",
        "                                                                                                                                                                                                                                                                          return space in ALL_SPACES and board[space] == BLANK  # Check if the space is valid and blank.\n",
        "\n",
        "                                                                                                                                                                                                                                                                          def isWinner(board, player):\n",
        "                                                                                                                                                                                                                                                                              \"\"\"Return True if player is a winner on this TTTBoard.\"\"\"\n",
        "                                                                                                                                                                                                                                                                                  b, p = board, player  # Shorter names for readability.\n",
        "                                                                                                                                                                                                                                                                                      # Check for 3 marks across the 3 rows, 3 columns, and 2 diagonals.\n",
        "                                                                                                                                                                                                                                                                                          return ((b['1'] == b['2'] == b['3'] == p) or  # Check the top row.\n",
        "                                                                                                                                                                                                                                                                                                      (b['4'] == b['5'] == b['6'] == p) or  # Check the middle row.\n",
        "                                                                                                                                                                                                                                                                                                                  (b['7'] == b['8'] == b['9'] == p) or  # Check the bottom row.\n",
        "                                                                                                                                                                                                                                                                                                                              (b['1'] == b['4'] == b['7'] == p) or  # Check the left column.\n",
        "                                                                                                                                                                                                                                                                                                                                          (b['2'] == b['5'] == b['8'] == p) or  # Check the middle column.\n",
        "                                                                                                                                                                                                                                                                                                                                                      (b['3'] == b['6'] == b['9'] == p) or  # Check the right column.\n",
        "                                                                                                                                                                                                                                                                                                                                                                  (b['3'] == b['5'] == b['7'] == p) or  # Check the top-left to bottom-right diagonal.\n",
        "                                                                                                                                                                                                                                                                                                                                                                              (b['1'] == b['5'] == b['9'] == p))    # Check the top-right to bottom-left diagonal.\n",
        "\n",
        "                                                                                                                                                                                                                                                                                                                                                                              def isBoardFull(board):\n",
        "                                                                                                                                                                                                                                                                                                                                                                                  \"\"\"Return True if every space on the board has been taken.\"\"\"\n",
        "                                                                                                                                                                                                                                                                                                                                                                                      for space in ALL_SPACES:\n",
        "                                                                                                                                                                                                                                                                                                                                                                                              if board[space] == BLANK:\n",
        "                                                                                                                                                                                                                                                                                                                                                                                                          return False  # If a single space is blank, return False.\n",
        "                                                                                                                                                                                                                                                                                                                                                                                                              return True  # If no spaces are blank, return True (board is full).\n",
        "\n",
        "                                                                                                                                                                                                                                                                                                                                                                                                              def updateBoard(board, space, mark):\n",
        "                                                                                                                                                                                                                                                                                                                                                                                                                  \"\"\"Sets the space on the board to mark.\"\"\"\n",
        "                                                                                                                                                                                                                                                                                                                                                                                                                      board[space] = mark  # Update the board dictionary with the player's mark.\n",
        "\n",
        "                                                                                                                                                                                                                                                                                                                                                                                                                      if __name__ == '__main__':\n",
        "                                                                                                                                                                                                                                                                                                                                                                                                                          main()  # Call the main function to start the game if this module is run directly.1"
      ]
    },
    {
      "cell_type": "markdown",
      "metadata": {
        "id": "LfL8M7hahPA9"
      },
      "source": [
        "##Briefly, this program works by using a dictionary object to represent the nine spaces on a tic-tac-toe board. The dictionary’s keys are the strings '1' through '9', and its values are the strings 'X', 'O', or ' '. The numbered spaces are in the same arrangement as a phone’s keypad.\n",
        "\n",
        "##The functions in tictactoe.py do the following:\n",
        "\n",
        "##*The main() function contains the code that creates a new board data structure (stored in the gameBoard variable) and calls other functions in the program.*\n",
        "##*The getBlankBoard() function returns a dictionary with the nine spaces set to ' ' for a blank board.*\n",
        "##*The getBoardStr() function accepts a dictionary representing the board and returns a multiline string representation of the board that can be printed to the screen. This is what renders the tic-tac-toe board’s text that the game displays.*\n",
        "##*The isValidSpace() function returns True if it’s passed a valid space number and that space is blank.*\n",
        "##*The isWinner() function’s parameters accept a board dictionary and either 'X' or 'O' to determine whether that player has three marks in a row on the board.*\n",
        "##*The isBoardFull() function determines whether the board has no blank spaces, meaning the game has ended. The updateBoard() function’s parameters accept a board dictionary, a space, and a player’s X or O mark and updates the dictionary.*\n",
        "##*Notice that many of the functions accept the variable board as their first parameter. That means these functions are related to each other in that they all operate on a common data structure.*\n",
        "\n",
        "##*When several functions in the code all operate on the same data structure, it’s usually best to group them together as the methods and attributes of a class. Let’s redesign this in the tictactoe.py program to use a TTTBoard class that will store the board dictionary in an attribute named spaces. The functions that had board as a parameter will become methods of our TTTBoard class and use the self parameter instead of a board parameter*"
      ]
    },
    {
      "cell_type": "code",
      "execution_count": null,
      "metadata": {
        "colab": {
          "background_save": true,
          "base_uri": "https://localhost:8080/"
        },
        "id": "XSAVhwt8hzMJ",
        "outputId": "bcf2e59a-0805-490d-ecb5-a4ab4936aff4"
      },
      "outputs": [
        {
          "name": "stdout",
          "output_type": "stream",
          "text": [
            "Welcome to tic-tac-toe!\n",
            " | |   1 2 3\n",
            "              -+-+-\n",
            "                     | |   4 5 6\n",
            "                          -+-+-\n",
            "                                 | |   7 8 9\n",
            "What is X's move? (1-9)\n",
            "X| |   1 2 3\n",
            "              -+-+-\n",
            "                     | |   4 5 6\n",
            "                          -+-+-\n",
            "                                 | |   7 8 9\n",
            "What is O's move? (1-9)\n",
            "X| |   1 2 3\n",
            "              -+-+-\n",
            "                    O| |   4 5 6\n",
            "                          -+-+-\n",
            "                                 | |   7 8 9\n",
            "What is X's move? (1-9)\n"
          ]
        }
      ],
      "source": [
        "# tictactoe_oop.py, an object-oriented tic-tac-toe game.\n",
        "ALL_SPACES = list('123456789')  # The keys for a TTT board.\n",
        "X, O, BLANK = 'X', 'O', ' '  # Constants for string values.\n",
        "\n",
        "def main():\n",
        "    \"\"\"Runs a game of tic-tac-toe.\"\"\"\n",
        "    print('Welcome to tic-tac-toe!')\n",
        "    gameBoard = TTTBoard()  # Create a TTT board object.\n",
        "    currentPlayer, nextPlayer = X, O # X goes first, O goes next.\n",
        "\n",
        "    while True:\n",
        "        print(gameBoard.getBoardStr())  # Display the board on the screen.\n",
        "\n",
        "        # Keep asking the player until they enter a number 1-9:\n",
        "        move = None\n",
        "        while not gameBoard.isValidSpace(move):\n",
        "            print(f'What is {currentPlayer}\\'s move? (1-9)')\n",
        "            move = input()\n",
        "        gameBoard.updateBoard(move, currentPlayer)  # Make the move.\n",
        "\n",
        "        # Check if the game is over:\n",
        "        if gameBoard.isWinner(currentPlayer):# First check for victory.\n",
        "            print(gameBoard.getBoardStr())\n",
        "            print(currentPlayer + ' has won the game!')\n",
        "            break\n",
        "        elif gameBoard.isBoardFull():# Next check for a tie\n",
        "            print(gameBoard.getBoardStr())\n",
        "            print('The game is a tie!')\n",
        "            break\n",
        "        currentPlayer, nextPlayer = nextPlayer, currentPlayer  # Swap turns.\n",
        "    print('Thanks for playing!')\n",
        "\n",
        "class TTTBoard:\n",
        "    def __init__(self, usePrettyBoard=False, useLogging=False):\n",
        "        \"\"\"Create a new, blank tic tac toe board.\"\"\"\n",
        "        self._spaces = {}  # The board is represented as a Python dictionary.\n",
        "        for space in ALL_SPACES:\n",
        "            self._spaces[space] = BLANK  # All spaces start as blank.\n",
        "\n",
        "    def getBoardStr(self):\n",
        "        \"\"\"Return a text-representation of the board.\"\"\"\n",
        "        return f'''{self._spaces['1']}|{self._spaces['2']}|{self._spaces['3']}  1 2 3\n",
        "              -+-+-\n",
        "                    {self._spaces['4']}|{self._spaces['5']}|{self._spaces['6']}  4 5 6\n",
        "                          -+-+-\n",
        "                                {self._spaces['7']}|{self._spaces['8']}|{self._spaces['9']}  7 8 9'''\n",
        "\n",
        "    def isValidSpace(self, space):\n",
        "        \"\"\"Returns True if the space on the board is a valid space number\n",
        "        and the space is blank.\"\"\"\n",
        "        return space in ALL_SPACES and self._spaces[space] == BLANK\n",
        "\n",
        "    def isWinner(self, player):\n",
        "        \"\"\"Return True if player is a winner on this TTTBoard.\"\"\"\n",
        "        s, p = self._spaces, player # Shorter names as \"syntactic sugar\".\n",
        "        # Check for 3 marks across the 3 rows, 3 columns, and 2 diagonals.\n",
        "        return ((s['1'] == s['2'] == s['3'] == p) or # Across the top\n",
        "                        (s['4'] == s['5'] == s['6'] == p) or # Across the middle\n",
        "                                        (s['7'] == s['8'] == s['9'] == p) or # Across the bottom\n",
        "                                                        (s['1'] == s['4'] == s['7'] == p) or # Down the left\n",
        "                                                                        (s['2'] == s['5'] == s['8'] == p) or # Down the middle\n",
        "                                                                                        (s['3'] == s['6'] == s['9'] == p) or # Down the right\n",
        "                                                                                                        (s['3'] == s['5'] == s['7'] == p) or # Diagonal\n",
        "                                                                                                                        (s['1'] == s['5'] == s['9'] == p))   # diagonal\n",
        "    def isBoardFull(self):\n",
        "        \"\"\"Return True if every space on the board has been taken.\"\"\"\n",
        "        for space in ALL_SPACES:\n",
        "            if self._spaces[space] == BLANK:\n",
        "                return False  # If a single space is blank, return False.\n",
        "        return True  # No spaces are blank, so return True.\n",
        "\n",
        "    def updateBoard(self, space, player):\n",
        "        \"\"\"Sets the space on the board to player.\"\"\"\n",
        "        self._spaces[space] = player\n",
        "\n",
        "if __name__ == '__main__':\n",
        "    main() # Call main() if this module is run, but not when imported.\n",
        "\n"
      ]
    }
  ],
  "metadata": {
    "colab": {
      "provenance": [],
      "authorship_tag": "ABX9TyMuvivxbAqrR8r0AA4YrAss",
      "include_colab_link": true
    },
    "kernelspec": {
      "display_name": "Python 3",
      "name": "python3"
    },
    "language_info": {
      "name": "python"
    }
  },
  "nbformat": 4,
  "nbformat_minor": 0
}