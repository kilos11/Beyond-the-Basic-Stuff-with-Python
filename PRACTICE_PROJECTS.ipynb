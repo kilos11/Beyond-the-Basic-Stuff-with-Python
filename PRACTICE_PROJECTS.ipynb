{
  "nbformat": 4,
  "nbformat_minor": 0,
  "metadata": {
    "colab": {
      "provenance": [],
      "authorship_tag": "ABX9TyP+HnV3hcWQK5tuCnuNmRCL",
      "include_colab_link": true
    },
    "kernelspec": {
      "name": "python3",
      "display_name": "Python 3"
    },
    "language_info": {
      "name": "python"
    }
  },
  "cells": [
    {
      "cell_type": "markdown",
      "metadata": {
        "id": "view-in-github",
        "colab_type": "text"
      },
      "source": [
        "<a href=\"https://colab.research.google.com/github/kilos11/Beyond-the-Basic-Stuff-with-Python/blob/main/PRACTICE_PROJECTS.ipynb\" target=\"_parent\"><img src=\"https://colab.research.google.com/assets/colab-badge.svg\" alt=\"Open In Colab\"/></a>"
      ]
    },
    {
      "cell_type": "markdown",
      "source": [
        "#**The Tower of Hanoi**#\n",
        "##The Tower of Hanoi puzzle uses a stack of disks of different sizes. The disks have holes in their centers, so you can place them over one of three poles (Figure 14-1). To solve the puzzle, the player must move the stack of disks to one of the other poles. There are three restrictions:\n",
        "\n",
        "##*The player can move only one disk at a time.*\n",
        "##*The player can only move disks to and from the top of a tower.*\n",
        "##*The player can never place a larger disk on top of a smaller disk.*"
      ],
      "metadata": {
        "id": "-imS_ALoyo0T"
      }
    },
    {
      "cell_type": "code",
      "execution_count": null,
      "metadata": {
        "id": "xJTTb7wNx9qI"
      },
      "outputs": [],
      "source": [
        "\"\"\"THE TOWER OF HANOI, by Al Sweigart al@inventwithpython.com\n",
        "A stack-moving puzzle game.\"\"\"\n",
        "import copy\n",
        "import sys\n",
        "\n",
        "TOTAL_DISKS = 5  # More disks means a more difficult puzzle.\n",
        "\n",
        "# Start with all disks on tower A:\n",
        "SOLVED_TOWER = list(range(TOTAL_DISKS,0,-1))\n",
        "\n",
        "def main():\n",
        "    \"\"\"Runs a single game of The Tower of Hanoi.\"\"\"\n",
        "    print(\n",
        "                \"\"\"THE TOWER OF HANOI, by Al Sweigart al@inventwithpython.com\n",
        "\n",
        "                Move the tower of disks, one disk at a time, to another tower. Larger\n",
        "                disks cannot rest on top of a smaller disk.\n",
        "\n",
        "                More info at https://en.wikipedia.org/wiki/Tower_of_Hanoi\n",
        "                \"\"\"\n",
        "                    )\n",
        "    \"\"\"The towers dictionary has keys \"A\", \"B\", and \"C\" and values\n",
        "        that are lists representing a tower of disks. The list contains\n",
        "            integers representing disks of different sizes, and the start of\n",
        "                the list is the bottom of the tower. For a game with 5 disks,\n",
        "                    the list [5, 4, 3, 2, 1] represents a completed tower. The blank\n",
        "                        list [] represents a tower of no disks. The list [1, 3] has a\n",
        "                            larger disk on top of a smaller disk and is an invalid\n",
        "                                configuration. The list [3, 1] is allowed since smaller disks\n",
        "                                    can go on top of larger ones.\"\"\"\n",
        "\n",
        "    towers = {\"A\": copy.copy(SOLVED_TOWER), \"B\": [], \"C\": []}\n",
        "\n",
        "    while True: # Run a single turn on each iteration of this loop.\n",
        "        # Display the towers and disks:\n",
        "        displayTowers(towers)\n",
        "\n",
        "        # Ask the user for a move:\n",
        "        fromTower,toTower = getPlayerMove(towers)\n",
        "\n",
        "        # Move the top disk from fromTower to toTower:\n",
        "        disk = towers[fromTower].pop()\n",
        "        towers[toTower].append(disk)\n",
        "\n",
        "        # Check if the user has solved the puzzle:\n",
        "        if SOLVED_TOWER in (towers[\"B\"],towers[\"C\"]):\n",
        "            displayTowers(towers)# Display the towers one last time.\n",
        "            print(\"You have solved the puzzle! Well done!\")\n",
        "            sys.exit()\n",
        "    def getPlayerMoves():\n",
        "        \"\"\"Asks the player for a move. Returns (fromTower, toTower).\"\"\"\n",
        "        while True:# Keep asking player until they enter a valid move.\n",
        "            print('Enter the letters of \"from\" and \"to\" towers, or QUIT.')\n",
        "            print(\"(e.g., AB to move a disk from tower A to tower B.)\")\n",
        "            print()\n",
        "            response = input(\">\").upper().strip()\n",
        "\n",
        "            if response == \"QUIT\":\n",
        "                print(\"Thanks for playing!\")\n",
        "                sys.exit()\n",
        "\n",
        "            # Make sure the user entered valid tower letters:\n",
        "            if response not in (\"AB\", \"AC\", \"BA\", \"BC\", \"CA\", \"CB\"):\n",
        "                print(\"Enter one of AB, AC, BA, BC, CA, or CB.\")\n",
        "                continue  # Ask player again for their move.\n",
        "\n",
        "            # Use more descriptive variable names:\n",
        "            fromTower, toTower = response[0], response[1]\n",
        "\n",
        "            if len(towers[fromTower]) == 0:\n",
        "                # The \"from\" tower cannot be an empty tower:\n",
        "                print(\"You selected a tower with no disks.\")\n",
        "                continue  # Ask player again for their move.\n",
        "            elif len(towers[toTower]) == 0:\n",
        "                # Any disk can be moved onto an empty \"to\" tower:\n",
        "                return fromTower, toTower\n",
        "            elif towers[toTower][-1] < towers[fromTower][-1]:\n",
        "                print(\"Can't put larger disks on top of smaller ones.\")\n",
        "                continue  # Ask player again for their move.\n",
        "            else:\n",
        "                # This is a valid move, so return the selected towers:\n",
        "                return fromTower, toTower\n",
        "\n",
        "        def displayTowers(towers):\n",
        "            \"\"\"Display the three towers with their disks.\"\"\"\n",
        "\n",
        "            # Display the three towers:\n",
        "            for level in range(TOTAL_DISKS, -1, -1):\n",
        "                for tower in (towers[\"A\"], towers[\"B\"], towers[\"C\"]):\n",
        "                    if level >= len(tower):\n",
        "                        displayDisk(0)  # Display the bare pole with no disk.\n",
        "                    else:\n",
        "                        displayDisk(tower[level])  # Display the disk.\n",
        "                print()\n",
        "            # Display the tower labels A, B, and C:\n",
        "            emptySpace = \" \" * (TOTAL_DISKS)\n",
        "            print(\"{0} A{0}{0} B{0}{0} C\\n\".format(emptySpace))\n",
        "\n",
        "        def displayDisk(width):\n",
        "            \"\"\"Display a disk of the given width. A width of 0 means no disk.\"\"\"\n",
        "            emptySpace = \" \" * (TOTAL_DISKS - width)\n",
        "\n",
        "            if width == 0:\n",
        "                # Display a pole segment without a disk:\n",
        "                print(f\"{emptySpace}||{emptySpace}\", end=\"\")\n",
        "            else:\n",
        "                # Display the disk:\n",
        "                disk = \"@\" * width\n",
        "                numLabel = str(width).rjust(2, \"_\")\n",
        "                print(f\"{emptySpace}{disk}{numLabel}{disk}{emptySpace}\", end=\"\")\n",
        "        # If this program was run (instead of imported), run the game:\n",
        "        if __name__ == \"__main__\":\n",
        "            main()\n",
        "\n",
        "\n",
        "\n",
        "\n"
      ]
    },
    {
      "cell_type": "markdown",
      "source": [
        "#After the module docstring are the import statements:\n",
        "\n",
        "##*import copy*\n",
        "##*import sys*"
      ],
      "metadata": {
        "id": "J_QMPuMeo7LU"
      }
    }
  ]
}