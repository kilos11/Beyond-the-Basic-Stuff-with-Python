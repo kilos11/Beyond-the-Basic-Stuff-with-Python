{
  "nbformat": 4,
  "nbformat_minor": 0,
  "metadata": {
    "colab": {
      "provenance": [],
      "authorship_tag": "ABX9TyOGOEujhQJ3uOkB2F367FZY",
      "include_colab_link": true
    },
    "kernelspec": {
      "name": "python3",
      "display_name": "Python 3"
    },
    "language_info": {
      "name": "python"
    }
  },
  "cells": [
    {
      "cell_type": "markdown",
      "metadata": {
        "id": "view-in-github",
        "colab_type": "text"
      },
      "source": [
        "<a href=\"https://colab.research.google.com/github/kilos11/Beyond-the-Basic-Stuff-with-Python/blob/main/7_PROGRAMMING_JARGON.ipynb\" target=\"_parent\"><img src=\"https://colab.research.google.com/assets/colab-badge.svg\" alt=\"Open In Colab\"/></a>"
      ]
    },
    {
      "cell_type": "markdown",
      "source": [
        "#**Garbage Collection**#\n",
        "##In many early programming languages, a programmer had to instruct the program to allocate and then deallocate, or free, memory for data structures as needed. Manual memory allocation was the source of numerous bugs, such as memory leaks (where programmers forgot to free memory) or double-free bugs (where programmers freed the same memory twice, leading to data corruption).\n",
        "\n",
        "##To avoid these bugs, Python has garbage collection, a form of automatic memory management that tracks when to allocate and free memory so the programmer doesn’t have to. You can think of garbage collection as memory recycling, because it makes memory available for new data.\n",
        "##When someFunction() is called, Python allocates memory for the list ['cat', 'dog', 'moose']. The programmer doesn’t need to figure out how many bytes of memory to request because Python manages this automatically. Python’s garbage collector will free the local variables when the function call returns to make that memory available for other data. Garbage collection makes programming much easier and less bug-prone."
      ],
      "metadata": {
        "id": "d4OZ9YbNnypw"
      }
    },
    {
      "cell_type": "code",
      "execution_count": null,
      "metadata": {
        "id": "Dh-8F9s-gOog",
        "colab": {
          "base_uri": "https://localhost:8080/"
        },
        "outputId": "3257b6a6-3095-4308-d1ee-40fd1fb16403"
      },
      "outputs": [
        {
          "output_type": "stream",
          "name": "stdout",
          "text": [
            "someFunction() called.\n"
          ]
        }
      ],
      "source": [
        "def someFunction():\n",
        "    print('someFunction() called.')\n",
        "    spam = ['cat', 'dog', 'moose']\n",
        "someFunction()"
      ]
    },
    {
      "cell_type": "markdown",
      "source": [
        "#**Literals**#\n",
        "##A literal is text in the source code for a fixed, typed-out value.\n",
        "##the 42 and 'Zophie' text are integer and string literals. Think of a literal as a value that literally appears in source code text. Only the built-in data types can have literal values in Python source code, so the variable age isn’t a literal value."
      ],
      "metadata": {
        "id": "7oBbeH8IprpE"
      }
    },
    {
      "cell_type": "code",
      "source": [
        "age = 42 + len('Zophie')\n",
        "age"
      ],
      "metadata": {
        "colab": {
          "base_uri": "https://localhost:8080/"
        },
        "id": "gOqlgVpopzCu",
        "outputId": "e3b93ba6-a985-48c5-9f73-241418d549db"
      },
      "execution_count": null,
      "outputs": [
        {
          "output_type": "execute_result",
          "data": {
            "text/plain": [
              "48"
            ]
          },
          "metadata": {},
          "execution_count": 4
        }
      ]
    },
    {
      "cell_type": "markdown",
      "source": [
        "#**Objects, Values, Instances, and Identities**#\n",
        "##An object is a representation of a piece of data, such as a number, some text, or a more complicated data structure, such as a list or dictionary. All objects can be stored in variables, passed as arguments to function calls, and returned from function calls.\n",
        "\n",
        "##All objects have a value, identity, and data type. The value is the data the object represents, such as the integer 42 or the string 'hello'. Although somewhat confusing, some programmers use the term value as a synonym for object, especially for simple data types like integers or strings. For example, a variable that contains 42 is a variable that contains an integer value, but we can also say it’s a variable that contains an integer object with a value of 42.\n",
        "\n",
        "##An object is created with an identity that is a unique integer you can view by calling the id() function."
      ],
      "metadata": {
        "id": "unrDvygMqzGY"
      }
    },
    {
      "cell_type": "code",
      "source": [
        "spam = ['cat', 'dog', 'moose']\n",
        "id(spam)"
      ],
      "metadata": {
        "colab": {
          "base_uri": "https://localhost:8080/"
        },
        "id": "aeH_pwY-rUo0",
        "outputId": "7ff5f605-ad2e-4af8-e4b2-340b4a8f7c50"
      },
      "execution_count": null,
      "outputs": [
        {
          "output_type": "execute_result",
          "data": {
            "text/plain": [
              "139836525872320"
            ]
          },
          "metadata": {},
          "execution_count": 5
        }
      ]
    },
    {
      "cell_type": "markdown",
      "source": [
        "##The variable spam stores an object of the list data type. Its value is ['cat', 'dog', 'moose']. Its identity is 33805656, although the integer ID varies each time a program runs so you’ll likely get a different ID on your computer. Once created, an object’s identity won’t change for as long as the program runs. Although the data type and the object’s identity will never change, an object’s value can change,"
      ],
      "metadata": {
        "id": "6PbqLZcLr5LW"
      }
    },
    {
      "cell_type": "code",
      "source": [
        "spam.append('snake')\n",
        "spam"
      ],
      "metadata": {
        "colab": {
          "base_uri": "https://localhost:8080/"
        },
        "id": "ixsA4WL7sFNL",
        "outputId": "29110633-ed1c-4550-9395-6b15e05cb229"
      },
      "execution_count": null,
      "outputs": [
        {
          "output_type": "execute_result",
          "data": {
            "text/plain": [
              "['cat', 'dog', 'moose', 'snake', 'snake']"
            ]
          },
          "metadata": {},
          "execution_count": 7
        }
      ]
    },
    {
      "cell_type": "markdown",
      "source": [
        "#**Mutable and Immutable**#\n",
        "##As noted earlier, all objects in Python have a value, data type, and identity, and of these only the value can change. If you can change the object’s value, it’s a mutable object. If you can’t change its value, it’s an immutable object."
      ],
      "metadata": {
        "id": "2vXQ_mUmctl6"
      }
    },
    {
      "cell_type": "code",
      "source": [
        "spam = 'hello'\n",
        "spam\n",
        "spam = 'goodbye'\n",
        "spam"
      ],
      "metadata": {
        "colab": {
          "base_uri": "https://localhost:8080/",
          "height": 36
        },
        "id": "QRad2bH0dJlK",
        "outputId": "04b71c88-19d9-416a-a35e-29a9ac71fff0"
      },
      "execution_count": null,
      "outputs": [
        {
          "output_type": "execute_result",
          "data": {
            "text/plain": [
              "'goodbye'"
            ],
            "application/vnd.google.colaboratory.intrinsic+json": {
              "type": "string"
            }
          },
          "metadata": {},
          "execution_count": 2
        }
      ]
    },
    {
      "cell_type": "markdown",
      "source": [
        "##But in this code, you haven’t changed the 'hello' object’s value from 'hello' to 'goodbye'. They’re two separate objects. You’ve only switched spam from referring to the 'hello' object to the 'goodbye' object. You can check whether this is true by using the id() function to show the two objects’ identities:"
      ],
      "metadata": {
        "id": "4szlFylndehE"
      }
    },
    {
      "cell_type": "code",
      "source": [
        "spam = 'hello'\n",
        "print(id(spam))\n",
        "spam = 'goodbye'\n",
        "print(id(spam ))"
      ],
      "metadata": {
        "colab": {
          "base_uri": "https://localhost:8080/"
        },
        "id": "6m0soh81dmbM",
        "outputId": "79d75332-916d-4a8c-cb0a-931c8c765e62"
      },
      "execution_count": null,
      "outputs": [
        {
          "output_type": "stream",
          "name": "stdout",
          "text": [
            "133161516275760\n",
            "133161513316720\n"
          ]
        }
      ]
    },
    {
      "cell_type": "markdown",
      "source": [
        "##But variables that refer to mutable objects can have their values modified in-place."
      ],
      "metadata": {
        "id": "xECtc7qRfWxg"
      }
    },
    {
      "cell_type": "code",
      "source": [
        "spam = ['cat', 'dog']\n",
        "print(id(spam))\n",
        "spam.append('moose')\n",
        "spam[0] = 'snake'\n",
        "spam\n",
        "id(spam)"
      ],
      "metadata": {
        "colab": {
          "base_uri": "https://localhost:8080/"
        },
        "id": "GNvNmGzlfcir",
        "outputId": "f0f0e3d6-2e61-4f54-b1d2-6ab16df11e1e"
      },
      "execution_count": null,
      "outputs": [
        {
          "output_type": "stream",
          "name": "stdout",
          "text": [
            "137538030876352\n"
          ]
        },
        {
          "output_type": "execute_result",
          "data": {
            "text/plain": [
              "137538030876352"
            ]
          },
          "metadata": {},
          "execution_count": 3
        }
      ]
    },
    {
      "cell_type": "markdown",
      "source": [
        "##The append() method 1 and item assignment by indexing 2 both modify the value of the list in-place. Even though the list’s value has changed, its identity remains the same (33805576). But when you concatenate a list using the + operator, you create a new object (with a new identity) that overwrites the old list:"
      ],
      "metadata": {
        "id": "Ksb7tmeGgsWg"
      }
    },
    {
      "cell_type": "code",
      "source": [
        "spam = spam + ['rat']\n",
        "spam\n",
        "id(spam)"
      ],
      "metadata": {
        "colab": {
          "base_uri": "https://localhost:8080/"
        },
        "id": "lPHb-Gi_yDye",
        "outputId": "b5593b9e-9391-4152-b3f5-5fe66af95c04"
      },
      "execution_count": null,
      "outputs": [
        {
          "output_type": "execute_result",
          "data": {
            "text/plain": [
              "137538030876416"
            ]
          },
          "metadata": {},
          "execution_count": 5
        }
      ]
    },
    {
      "cell_type": "markdown",
      "source": [
        "##List concatenation creates a new list with a new identity. When this happens, the old list will eventually be freed from memory by the garbage collector. You’ll have to consult the Python documentation to see which methods and operations modify objects in-place and which overwrite objects. A good rule to keep in mind is that if you see a literal in the source code, such as ['rat'] in the previous example, Python will most likely create a new object. A method that is called on the object, such as append(), often modifies the object in-place.\n",
        "\n",
        "##Assignment is simpler for objects of immutable data types like integers, strings, or tuples."
      ],
      "metadata": {
        "id": "N5deCSbvzwCN"
      }
    },
    {
      "cell_type": "code",
      "source": [
        "bacon = 'Goodbye'\n",
        "print(id(bacon))\n",
        "bacon = 'Hello'\n",
        "print(id(bacon))\n",
        "bacon = bacon + ', world!'\n",
        "print(id(bacon))\n"
      ],
      "metadata": {
        "colab": {
          "base_uri": "https://localhost:8080/"
        },
        "id": "hf6ySOoPz5Te",
        "outputId": "3e412c9f-053c-4293-b3ff-2aad7c096a50"
      },
      "execution_count": null,
      "outputs": [
        {
          "output_type": "stream",
          "name": "stdout",
          "text": [
            "137538009590192\n",
            "137538031122672\n",
            "137537754755184\n"
          ]
        }
      ]
    },
    {
      "cell_type": "markdown",
      "source": [
        "##Strings are immutable, so you cannot change their value. Although it looks like the string’s value in bacon is being changed from 'Goodbye' to 'Hello'1, it’s actually being overwritten by a new string object with a new identity. Similarly, an expression using string concatenation creates a new string object 2 with a new identity. Attempting to modify the string in-place with item assignment isn’t allowed in Python 3.\n",
        "\n",
        "##A tuple’s value is defined as the objects it contains and the order of those objects. Tuples are immutable sequence objects that enclose values in parentheses."
      ],
      "metadata": {
        "id": "ef3qQmRi0pvG"
      }
    },
    {
      "cell_type": "code",
      "source": [
        "eggs = ('cat', 'dog', [2, 4, 6])\n",
        "print(id(eggs))\n",
        "print(id(eggs[2]))\n"
      ],
      "metadata": {
        "colab": {
          "base_uri": "https://localhost:8080/"
        },
        "id": "RmyN2YgD02wQ",
        "outputId": "67f86b28-3054-42bf-be8e-e0fe7b5e1c52"
      },
      "execution_count": null,
      "outputs": [
        {
          "output_type": "stream",
          "name": "stdout",
          "text": [
            "137537761696768\n",
            "137538030873792\n"
          ]
        }
      ]
    },
    {
      "cell_type": "markdown",
      "source": [
        "##But a mutable list inside an immutable tuple can still be modified in-place:"
      ],
      "metadata": {
        "id": "HsERrXh61WTQ"
      }
    },
    {
      "cell_type": "code",
      "source": [
        "eggs[2].append(8)\n",
        "eggs[2].append(10)\n",
        "eggs\n",
        "id(eggs)"
      ],
      "metadata": {
        "colab": {
          "base_uri": "https://localhost:8080/"
        },
        "id": "YJT0SxRF1bom",
        "outputId": "ff41b8f5-15f3-45f0-9755-e7fe244ebe63"
      },
      "execution_count": null,
      "outputs": [
        {
          "output_type": "execute_result",
          "data": {
            "text/plain": [
              "137537761696768"
            ]
          },
          "metadata": {},
          "execution_count": 10
        }
      ]
    },
    {
      "cell_type": "markdown",
      "source": [
        "#**Indexes, Keys, and Hashes**#\n",
        "##Python lists and dictionaries are values that can contain multiple other values. To access these values, you use an index operator, which is composed of a pair of square brackets ([]) and an integer called an index to specify which value you want to access."
      ],
      "metadata": {
        "id": "a_M-cNSF1xa0"
      }
    },
    {
      "cell_type": "code",
      "source": [
        "spam = ['cat', 'dog', 'moose']\n",
        "print(spam[0])\n",
        "print(spam[-2])"
      ],
      "metadata": {
        "colab": {
          "base_uri": "https://localhost:8080/"
        },
        "id": "AbG7swad163b",
        "outputId": "c9965e37-e557-4e9b-fcc6-24c1c62f2113"
      },
      "execution_count": null,
      "outputs": [
        {
          "output_type": "stream",
          "name": "stdout",
          "text": [
            "cat\n",
            "dog\n"
          ]
        }
      ]
    },
    {
      "cell_type": "markdown",
      "source": [
        "##The first index is 0, not 1, because Python (as most languages do) uses zero-based indexing. Languages that use one-based indexing are rare: Lua and R are the most predominant. Python also supports negative indexes, where -1 refers to the last item in a list, -2 refers to the second-to-last item, and so on. You can think of a negative index spam[–n] as being the same as spam[len(spam) – n].\n",
        "##You can also use the index operator on a list literal, although all those square brackets can look confusing and unnecessary in real-world code:"
      ],
      "metadata": {
        "id": "FRhPSZcI3yMS"
      }
    },
    {
      "cell_type": "code",
      "source": [
        "['cat', 'dog', 'moose'][2][1]"
      ],
      "metadata": {
        "colab": {
          "base_uri": "https://localhost:8080/",
          "height": 36
        },
        "id": "9AXcxABg5erg",
        "outputId": "f05aab28-b39f-46c6-c447-616d84012e25"
      },
      "execution_count": null,
      "outputs": [
        {
          "output_type": "execute_result",
          "data": {
            "text/plain": [
              "'o'"
            ],
            "application/vnd.google.colaboratory.intrinsic+json": {
              "type": "string"
            }
          },
          "metadata": {},
          "execution_count": 15
        }
      ]
    },
    {
      "cell_type": "markdown",
      "source": [
        "##Indexing can also be used for values other than lists, such as on a string to obtain individual characters:"
      ],
      "metadata": {
        "id": "xfCdxRvy51wa"
      }
    },
    {
      "cell_type": "code",
      "source": [
        "'Hello, world'[0]"
      ],
      "metadata": {
        "colab": {
          "base_uri": "https://localhost:8080/",
          "height": 36
        },
        "id": "13hbS3Yv58p_",
        "outputId": "0b696745-9a52-4f7f-edbf-bb908026654b"
      },
      "execution_count": null,
      "outputs": [
        {
          "output_type": "execute_result",
          "data": {
            "text/plain": [
              "'H'"
            ],
            "application/vnd.google.colaboratory.intrinsic+json": {
              "type": "string"
            }
          },
          "metadata": {},
          "execution_count": 16
        }
      ]
    },
    {
      "cell_type": "markdown",
      "source": [
        "##Although list indexes are limited to integers, a Python dictionary’s index operator is a key and can be any hashable object. A hash is an integer that acts as a sort of fingerprint for a value. An object’s hash never changes for the lifetime of the object, and objects with the same value must have the same hash. The string 'name' in this instance is the key for the value 'Zophie'. The hash() function will return an object’s hash if the object is hashable. Immutable objects, such as strings, integers, floats, and tuples, can be hashable. Lists (as well as other mutable objects) aren’t hashable."
      ],
      "metadata": {
        "id": "gWTRFc4J7ZGL"
      }
    },
    {
      "cell_type": "code",
      "source": [
        "print(hash('hello'))\n",
        "print((42))\n",
        "print(hash(3.14))\n",
        "print(hash((1, 2, 3)))"
      ],
      "metadata": {
        "colab": {
          "base_uri": "https://localhost:8080/"
        },
        "id": "oIAQuRpv7gY9",
        "outputId": "8e7fd541-b2cb-4f0e-8cff-6e1bbe5a6f49"
      },
      "execution_count": null,
      "outputs": [
        {
          "output_type": "stream",
          "name": "stdout",
          "text": [
            "8998726227036348832\n",
            "42\n",
            "322818021289917443\n",
            "529344067295497451\n"
          ]
        }
      ]
    },
    {
      "cell_type": "markdown",
      "source": [
        "##A hash is different from an identity. Two different objects with the same value will have different identities but the same hash."
      ],
      "metadata": {
        "id": "JsEYMTud8dcP"
      }
    },
    {
      "cell_type": "code",
      "source": [
        "a = ('cat', 'dog', 'moose')\n",
        "b = ('cat', 'dog', 'moose')\n",
        "id(a),id(b)\n",
        "id(a)==id(b)\n",
        "hash(a)==hash(b)"
      ],
      "metadata": {
        "id": "MOQU7V-C8jXf",
        "colab": {
          "base_uri": "https://localhost:8080/"
        },
        "outputId": "761a445c-ef8a-4e09-948b-72a9177afbf3"
      },
      "execution_count": null,
      "outputs": [
        {
          "output_type": "execute_result",
          "data": {
            "text/plain": [
              "True"
            ]
          },
          "metadata": {},
          "execution_count": 4
        }
      ]
    },
    {
      "cell_type": "markdown",
      "source": [
        "##The tuples referred to by a and b have different identities 1, but their identical values mean they’ll have identical hashes 2. Note that a tuple is hashable if it contains only hashable items. Because you can use only hashable items as keys in a dictionary, you can’t use a tuple that contains an unhashable list as a key."
      ],
      "metadata": {
        "id": "ytZtCNaADC-K"
      }
    },
    {
      "cell_type": "code",
      "source": [
        "tuple1 = ('cat', 'dog')\n",
        "tuple2 = ('cat', ['apple', 'orange'])\n",
        "spam = {}"
      ],
      "metadata": {
        "id": "7pPN5s42Djhf"
      },
      "execution_count": null,
      "outputs": []
    },
    {
      "cell_type": "markdown",
      "source": [
        "#**Containers, Sequences, Mapping, and Set Types**#\n",
        "##The words container, sequence, and mapping have meanings in Python that don’t necessarily apply to other programming languages. In Python, a container is an object of any data type that can contain multiple other objects. Lists and dictionaries are common container types used in Python.\n",
        "\n",
        "##A sequence is an object of any container data type with ordered values accessible through integer indexes. Strings, tuples, lists, and bytes objects are sequence data types. Objects of these types can access values using integer indexes in the index operator (the [ and ] brackets) and can also be passed to the len() function. By “ordered,” we mean that there is a first value, second value, and so on in the sequence. For example, the following two list values aren’t considered equal because their values are ordered differently"
      ],
      "metadata": {
        "id": "XHIi1d1REfIL"
      }
    },
    {
      "cell_type": "code",
      "source": [
        "[1, 2, 3] == [3, 2, 1]"
      ],
      "metadata": {
        "colab": {
          "base_uri": "https://localhost:8080/"
        },
        "id": "9rhiTHSIFTpM",
        "outputId": "07dfb326-af6f-4c61-904b-825ebca7952b"
      },
      "execution_count": null,
      "outputs": [
        {
          "output_type": "execute_result",
          "data": {
            "text/plain": [
              "False"
            ]
          },
          "metadata": {},
          "execution_count": 5
        }
      ]
    },
    {
      "cell_type": "markdown",
      "source": [
        "##A mapping is an object of any container data type that uses keys instead of an index. A mapping can be ordered or unordered. Dictionaries in Python 3.4 and earlier are unordered because there is no first or last key-value pair in a dictionary:"
      ],
      "metadata": {
        "id": "Bwa-zK2EFtKK"
      }
    },
    {
      "cell_type": "code",
      "source": [
        "spam = {'a': 1, 'b': 2, 'c': 3, 'd': 4}  # This is run from CPython 3.5.\n",
        "list(spam.keys())\n",
        "spam['e'] = 5\n",
        "list(spam.keys())"
      ],
      "metadata": {
        "colab": {
          "base_uri": "https://localhost:8080/"
        },
        "id": "BAS2-sFGGEkr",
        "outputId": "b7032255-2911-44b4-a858-5ab7ed3f0a96"
      },
      "execution_count": null,
      "outputs": [
        {
          "output_type": "execute_result",
          "data": {
            "text/plain": [
              "['a', 'b', 'c', 'd', 'e']"
            ]
          },
          "metadata": {},
          "execution_count": 8
        }
      ]
    },
    {
      "cell_type": "markdown",
      "source": [
        "##You have no guarantee of getting items in a consistent order from dictionaries in early versions of Python. As a result of dictionaries’ unordered nature, two dictionary literals written with different orders for their key-value pairs are still considered equal:"
      ],
      "metadata": {
        "id": "WxeJvW8MHKuV"
      }
    },
    {
      "cell_type": "code",
      "source": [
        "{'a': 1, 'b': 2, 'c': 3} == {'c': 3, 'a': 1, 'b': 2}"
      ],
      "metadata": {
        "colab": {
          "base_uri": "https://localhost:8080/"
        },
        "id": "PjaMd7rxHouk",
        "outputId": "1dc3b63b-54ee-4d9e-b292-33d57e77af2e"
      },
      "execution_count": null,
      "outputs": [
        {
          "output_type": "execute_result",
          "data": {
            "text/plain": [
              "True"
            ]
          },
          "metadata": {},
          "execution_count": 9
        }
      ]
    },
    {
      "cell_type": "markdown",
      "source": [
        "##But starting in CPython 3.6, dictionaries do retain the insertion order of their key-value pairs:"
      ],
      "metadata": {
        "id": "AOrbgjtwH2ye"
      }
    },
    {
      "cell_type": "code",
      "source": [
        "spam = {'a': 1, 'b': 2, 'c': 3, 'd': 4}  # This is run from CPython 3.6.\n",
        "list(spam)\n",
        "spam['e'] = 5\n",
        "list(spam)"
      ],
      "metadata": {
        "colab": {
          "base_uri": "https://localhost:8080/"
        },
        "id": "hHUOifp1IFB6",
        "outputId": "ef1a4f3c-6409-460b-ad59-4e7b56f9b789"
      },
      "execution_count": null,
      "outputs": [
        {
          "output_type": "execute_result",
          "data": {
            "text/plain": [
              "['a', 'b', 'c', 'd', 'e']"
            ]
          },
          "metadata": {},
          "execution_count": 12
        }
      ]
    },
    {
      "cell_type": "markdown",
      "source": [
        "#**Dunder Methods and Magic Methods**#\n",
        "##Dunder methods, also called magic methods, are special methods in Python whose names begin and end with two underscores. These methods are used for operator overloading. Dunder is short for double underscore. The most familiar dunder method is __init__() (pronounced “dunder init dunder,” or simply “init”), which initializes objects."
      ],
      "metadata": {
        "id": "C4je-xUIJgYT"
      }
    },
    {
      "cell_type": "markdown",
      "source": [
        "#**Callables and First-Class Objects**#\n",
        "##Functions and methods aren’t the only things that you can call in Python. Any object that implements the callable operator—the two parentheses ()—is a callable object. For example, if you have a def hello(): statement, you can think of the code as a variable named hello that contains a function object. Using the callable operator on this variable calls the function in the variable: hello().\n",
        "\n",
        "##Classes are an OOP concept, and a class is an example of a callable object that isn’t a function or method. For example, the date class in the datetime module is called using the callable operator, as in the code datetime.date(2020, 1, 1). When the class object is called, the code inside the class’s __init__() method is run. Chapter 15 has more details about classes.\n",
        "\n",
        "##Functions are first-class objects in Python, meaning you can store them in variables, pass them as arguments in function calls, return them from function calls, and do anything else you can do with an object. Think of a def statement as assigning a function object to a variable."
      ],
      "metadata": {
        "id": "GczdhTjYLYH9"
      }
    },
    {
      "cell_type": "code",
      "source": [
        "def spam():\n",
        "    print('Spam! Spam! Spam!')\n",
        "\n",
        "spam()"
      ],
      "metadata": {
        "colab": {
          "base_uri": "https://localhost:8080/"
        },
        "id": "hFeOjAoJL7ik",
        "outputId": "850d8fb9-0b1b-49bf-f70b-e389b102e1e9"
      },
      "execution_count": 3,
      "outputs": [
        {
          "output_type": "stream",
          "name": "stdout",
          "text": [
            "Spam! Spam! Spam!\n"
          ]
        }
      ]
    },
    {
      "cell_type": "markdown",
      "source": [
        "##You can also assign the spam() function object to other variables. When you call the variable you’ve assigned the function object to, Python executes the function:"
      ],
      "metadata": {
        "id": "EQqgbY18Mkn7"
      }
    },
    {
      "cell_type": "code",
      "source": [
        "eggs = spam\n",
        "eggs()"
      ],
      "metadata": {
        "colab": {
          "base_uri": "https://localhost:8080/"
        },
        "id": "EwFv7M-yMye1",
        "outputId": "af6a7891-5548-4375-c6c4-a6d58462f658"
      },
      "execution_count": 4,
      "outputs": [
        {
          "output_type": "stream",
          "name": "stdout",
          "text": [
            "Spam! Spam! Spam!\n"
          ]
        }
      ]
    },
    {
      "cell_type": "markdown",
      "source": [
        "8@##These are called aliases, which are different names for existing functions. They’re often used if you need to rename a function. But a large amount of existing code uses the old name, and it would be too much work to change it.\n",
        "\n",
        "##The most common use of first-class functions is so you can pass functions to other functions. For example, we can define a callTwice() function, which can be passed a function that needs to be called twice:\n",
        "\n",
        "##You could just write spam() twice in your source code. But you can pass the callTwice() function to any function at runtime rather than having to type the function call twice into the source code beforehand."
      ],
      "metadata": {
        "id": "ZeEwxZ-MOmsa"
      }
    },
    {
      "cell_type": "code",
      "source": [
        "def callTwice(func):\n",
        "    func()\n",
        "    func()\n",
        "\n",
        "callTwice(spam)\n",
        "\n"
      ],
      "metadata": {
        "colab": {
          "base_uri": "https://localhost:8080/"
        },
        "id": "Jpp-n0L-SS6r",
        "outputId": "0fb53360-ab80-4d4f-aeba-cb4fca121d1b"
      },
      "execution_count": 5,
      "outputs": [
        {
          "output_type": "stream",
          "name": "stdout",
          "text": [
            "Spam! Spam! Spam!\n",
            "Spam! Spam! Spam!\n"
          ]
        }
      ]
    },
    {
      "cell_type": "markdown",
      "source": [
        "#**Statements vs. Expressions**#\n",
        "##Expressions are the instructions made up of operators and values that evaluate to a single value. A value can be a variable (which contains a value) or a function call (which returns a value). So, 2 + 2 is an expression that evaluates down to the single value of 4. But len(myName) > 4 and myName.isupper() or myName == 'Zophie' are expressions as well. A value by itself is also an expression that evaluates to itself.\n",
        "\n",
        "##Statements are, effectively, all other instructions in Python. These include if statements, for statements, def statements, return statements, and so on. Statements do not evaluate to a value. Some statements can include expressions, such as an assignment statement like spam = 2 + 2 or an if statement like if myName == 'Zophie':.\n",
        "\n",
        "##Although Python 3 uses a print() function, Python 2 instead has a print statement. The difference might seem like just the introduction of parentheses, but it’s important to note that the Python 3 print() function has a return value (which is always None), can be passed as an argument to other functions, and can be assigned to a variable. No"
      ],
      "metadata": {
        "id": "vwkyXQyxThMH"
      }
    },
    {
      "cell_type": "code",
      "source": [
        "#print 'Hello, world!' # run in Python 2\n",
        "print('Hello, world!') # run in Python 2"
      ],
      "metadata": {
        "colab": {
          "base_uri": "https://localhost:8080/"
        },
        "id": "sYS5XpVWTu7J",
        "outputId": "cc977cfa-b820-401f-d5fb-38dafdd39c27"
      },
      "execution_count": 7,
      "outputs": [
        {
          "output_type": "stream",
          "name": "stdout",
          "text": [
            "Hello, world!\n"
          ]
        }
      ]
    },
    {
      "cell_type": "markdown",
      "source": [
        "#**Block vs. Clause vs. Body**#\n",
        "##The terms block, clause, and body are often used interchangeably to refer to a group of Python instructions. A block begins with indentation and ends when that indentation returns to the previous indent level. For example, the code that follows an if or for statement is called the statement’s block. A new block is required following statements that end with a colon, such as if, else, for, while, def, class, and so on.\n",
        "\n",
        "##But Python does allow one-line blocks. This is valid, although not recommended, Python syntax:"
      ],
      "metadata": {
        "id": "s_An-ESzUO8S"
      }
    },
    {
      "cell_type": "code",
      "source": [
        "if name == 'Zophie': print('Hello, kitty!')"
      ],
      "metadata": {
        "id": "c7yNkWGoUbqA"
      },
      "execution_count": null,
      "outputs": []
    },
    {
      "cell_type": "markdown",
      "source": [
        "##By using the semicolon, you can also have multiple instructions in the if statement’s block:"
      ],
      "metadata": {
        "id": "7AxS8u7wUl3S"
      }
    },
    {
      "cell_type": "code",
      "source": [
        "if name == 'Zophie': print('Hello, kitty!'); print('Do you want a treat?')"
      ],
      "metadata": {
        "id": "hq5FvFUsUtfg"
      },
      "execution_count": null,
      "outputs": []
    },
    {
      "cell_type": "markdown",
      "source": [
        "##But you can’t have one-liners with other statements that require new blocks. The following isn’t valid Python code:"
      ],
      "metadata": {
        "id": "OwDHODxiUzct"
      }
    },
    {
      "cell_type": "code",
      "source": [
        "if name == 'Zophie': if age < 2: print('Hello, kitten!')"
      ],
      "metadata": {
        "id": "_YIx6DaPU6N5"
      },
      "execution_count": null,
      "outputs": []
    },
    {
      "cell_type": "markdown",
      "source": [
        "##The official Python documentation prefers the term clause rather than block (https://docs.python.org/3/reference/compound_stmts.html). The following code is a clause:"
      ],
      "metadata": {
        "id": "cNP3bDALVIFr"
      }
    },
    {
      "cell_type": "code",
      "source": [
        "if name == 'Zophie':\n",
        "    print('Hello, kitty!')\n",
        "    print('Do you want a treat?')"
      ],
      "metadata": {
        "id": "cuXOu8_vVP7U"
      },
      "execution_count": null,
      "outputs": []
    },
    {
      "cell_type": "markdown",
      "source": [
        "##The if statement is the clause header, and the two print() calls nested in the if are the clause suite or body. The official Python documentation uses block to refer to a piece of Python code that executes as a unit, such as a module, a function, or a class definition (https://docs.python.org/3/reference/executionmodel.html)."
      ],
      "metadata": {
        "id": "MmZDtZrnVfe_"
      }
    },
    {
      "cell_type": "markdown",
      "source": [
        "#**Variable vs. Attribute**#\n",
        "##Variables are simply names that refer to objects. Attributes are, to quote the official documentation, “any name following a dot” (https://docs.python.org/3/tutorial/classes.html#python-scopes-and-namespaces). Attributes are associated with objects (the name before the dot/period)."
      ],
      "metadata": {
        "id": "fYZG6rdyVrQc"
      }
    },
    {
      "cell_type": "code",
      "source": [
        "import datetime\n",
        "\n",
        "spam = datetime.datetime.now()\n",
        "print(spam.year)\n",
        "print(spam.month)\n",
        "print(spam.day)"
      ],
      "metadata": {
        "colab": {
          "base_uri": "https://localhost:8080/"
        },
        "id": "e239LlVcVzlu",
        "outputId": "0718d936-b21b-4524-ba9d-c813c84f855a"
      },
      "execution_count": 13,
      "outputs": [
        {
          "output_type": "stream",
          "name": "stdout",
          "text": [
            "2024\n",
            "5\n",
            "13\n"
          ]
        }
      ]
    },
    {
      "cell_type": "markdown",
      "source": [
        "##In this code example, spam is a variable that contains a datetime object (returned from datetime.datetime.now()), and year and month are attributes of that object. Even in the case of, say, sys.exit(), the exit() function is considered an attribute of the sys module object.\n",
        "\n",
        "##Other languages call attributes fields, properties, or member variables."
      ],
      "metadata": {
        "id": "t_-0ngknW9pW"
      }
    },
    {
      "cell_type": "markdown",
      "source": [
        "#**Function vs. Method**#\n",
        "##A function is a collection of code that runs when called. A method is a function (or a callable, described in the next section) that is associated with a class, just as an attribute is a variable associated with an object. Functions include built-in functions or functions associated with a module."
      ],
      "metadata": {
        "id": "UF9ZbMaoXLcx"
      }
    },
    {
      "cell_type": "code",
      "source": [
        "len('Hello')\n",
        "'Hello'. upper()"
      ],
      "metadata": {
        "colab": {
          "base_uri": "https://localhost:8080/",
          "height": 36
        },
        "id": "wtHeHgm9XT0M",
        "outputId": "892fd335-645c-47ed-eff4-ef9fcc627812"
      },
      "execution_count": 15,
      "outputs": [
        {
          "output_type": "execute_result",
          "data": {
            "text/plain": [
              "'HELLO'"
            ],
            "application/vnd.google.colaboratory.intrinsic+json": {
              "type": "string"
            }
          },
          "metadata": {},
          "execution_count": 15
        }
      ]
    },
    {
      "cell_type": "markdown",
      "source": [
        "#**Iterable vs. Iterator**#\n",
        "##Python’s for loops are versatile. The statement for i in range(3): will run a block of code three times. The range(3) call isn’t just Python’s way of telling a for loop, “repeat some code three times.” Calling range(3) returns a range object, just like calling list('cat') returns a list object. Both of these objects are examples of iterableobjects (or simply, iterables).\n",
        "##You use iterables in for loops."
      ],
      "metadata": {
        "id": "msPFSnwKX0PV"
      }
    },
    {
      "cell_type": "code",
      "source": [
        "for i in range(3):\n",
        "    print(i)\n",
        "\n",
        "for i in ['c', 'a', 't']:\n",
        "    print(i)"
      ],
      "metadata": {
        "colab": {
          "base_uri": "https://localhost:8080/"
        },
        "id": "7ytC6rFYYxd9",
        "outputId": "8647bee0-1291-4fca-8465-27c5efe34d69"
      },
      "execution_count": 17,
      "outputs": [
        {
          "output_type": "stream",
          "name": "stdout",
          "text": [
            "0\n",
            "1\n",
            "2\n",
            "c\n",
            "a\n",
            "t\n"
          ]
        }
      ]
    },
    {
      "cell_type": "markdown",
      "source": [
        "##Iterables also include all sequence types, such as range, list, tuple, and string objects, but also some container objects, such as dictionary, set, and file objects.\n",
        "\n",
        "##However, more is going on under the hood in these for loop examples. Behind the scenes, Python is calling the built-in iter() and next() functions for the for loop. When used in a for loop, iterable objects are passed to the built-in iter() function, which returns iterator objects. Although the iterable object contains the items, the iterator object keeps track of which item is next to be used in a loop. On each iteration of the loop, the iterator object is passed to the built-in next() function to return the next item in the iterable. We can call the iter() and next() functions manually to directly see how for loops work."
      ],
      "metadata": {
        "id": "LwSH-WCFZtTU"
      }
    },
    {
      "cell_type": "code",
      "source": [
        "iterableObj = range(3)\n",
        "iterableObj\n",
        "iteratorObj = iter(iterableObj)\n",
        "i = next(iteratorObj)\n",
        "print(i) # body of the for loop\n",
        "i = next(iteratorObj)\n",
        "print(i)"
      ],
      "metadata": {
        "colab": {
          "base_uri": "https://localhost:8080/"
        },
        "id": "u0GlpEYGZ39m",
        "outputId": "25b40a49-432f-4bc2-b22c-3603d5030b32"
      },
      "execution_count": 20,
      "outputs": [
        {
          "output_type": "stream",
          "name": "stdout",
          "text": [
            "0\n",
            "1\n"
          ]
        }
      ]
    },
    {
      "cell_type": "markdown",
      "source": [
        "#**Syntax vs. Runtime vs. Semantic Errors**#\n",
        "##There are many ways to categorize bugs. But at a high level you could divide programming errors into three types: syntax errors, runtime errors, and semantic errors.\n",
        "\n",
        "##Syntax is the set of rules for the valid instructions in a given programming language. A syntax error, such as a missing parenthesis, a period instead of a comma, or some other typo will immediately generate a SyntaxError. Syntax errors are also known as parsing errors, which occur when the Python interpreter can’t parse the text of the source code into valid instructions. In English, this error would be the equivalent of having incorrect grammar or a string of nonsense words like, “by uncontaminated cheese certainly it’s.” Computers require specific instructions and can’t read the programmer’s mind to determine what the program should do, so a program with a syntax error won’t even run.\n",
        "\n",
        "##A runtime error is when a running program fails to perform some task, such as trying to open a file that doesn’t exist or dividing a number by zero. In English, a runtime error is the equivalent of giving an impossible instruction like, “Draw a square with three sides.” If a runtime error isn’t addressed, the program will crash and display a traceback. But you can catch runtime errors using try-except statements that run error handling code."
      ],
      "metadata": {
        "id": "lYfz3pDPa73e"
      }
    },
    {
      "cell_type": "code",
      "source": [
        "slices = 8\n",
        "eaters = 0\n",
        "print('Each person eats', slices / eaters, 'slices.')"
      ],
      "metadata": {
        "id": "TMUADLd5bMbr"
      },
      "execution_count": null,
      "outputs": []
    },
    {
      "cell_type": "markdown",
      "source": [
        "##It’s helpful to remember that the line number the traceback mentions is only the point at which the Python interpreter detected an error. The true cause of the error might be on the previous line of code or even much earlier in the program.\n",
        "\n",
        "##Syntax errors in the source code are caught by the interpreter before the program runs, but syntax errors can also happen at runtime. The eval() function can take a string of Python code and run it, which might produce a SyntaxError at runtime. For example, eval('print(\"Hello, world)') is missing a closing double quote, which the program won’t encounter until the code calls eval().\n",
        "\n",
        "##A semantic error (also called a logical error) is a more subtle bug. Semantic errors won’t cause error messages or crashes, but the computer carries out instructions in a way the programmer didn’t intend. In English, the equivalent of a semantic error would be telling the computer, “Buy a carton of milk from the store and if they have eggs, buy a dozen.” The computer would then buy 13 cartons of milk because the store had eggs. For better or worse, computers do exactly what you tell them to."
      ],
      "metadata": {
        "id": "zgXh-X-cbx7j"
      }
    },
    {
      "cell_type": "code",
      "source": [
        "print('The sum of 4 and 2 is', '4' + '2')"
      ],
      "metadata": {
        "colab": {
          "base_uri": "https://localhost:8080/"
        },
        "id": "_m1CLFQJb-nC",
        "outputId": "d925a28e-03b9-4b56-833d-3e052bf55c56"
      },
      "execution_count": 22,
      "outputs": [
        {
          "output_type": "stream",
          "name": "stdout",
          "text": [
            "The sum of 4 and 2 is 42\n"
          ]
        }
      ]
    },
    {
      "cell_type": "markdown",
      "source": [
        "##Obviously, 42 isn’t the answer. But notice that the program didn’t crash. Because Python’s + operator adds integer values and concatenates string values, mistakenly using the string values '4' and '2' instead of integers caused unintended behavior."
      ],
      "metadata": {
        "id": "I2xCb5BCcKDY"
      }
    },
    {
      "cell_type": "markdown",
      "source": [
        "#**Parameters vs. Arguments**#\n",
        "##Parameters are the variable names between the parentheses in a def statement. Arguments are the values passed in a function call, which are then assigned to the parameters."
      ],
      "metadata": {
        "id": "rQfDodjlcWss"
      }
    },
    {
      "cell_type": "code",
      "source": [
        "def greeting(name,species):\n",
        "    print(name + ' is a ' + species)\n",
        "\n",
        "greeting('Zophie','Cat')"
      ],
      "metadata": {
        "colab": {
          "base_uri": "https://localhost:8080/"
        },
        "id": "l8phWzjqcd0Y",
        "outputId": "da713c28-864a-43ff-8ffe-14cc947f0b67"
      },
      "execution_count": 24,
      "outputs": [
        {
          "output_type": "stream",
          "name": "stdout",
          "text": [
            "Zophie is a Cat\n"
          ]
        }
      ]
    },
    {
      "cell_type": "markdown",
      "source": [
        "##In the def statement, name and species are parameters 1. In the function call, 'Zophie' and 'cat' are arguments 2. These two terms are often confused with each other. Remember that parameters and arguments are just other names for variables and values, respectively, when they are used in this context."
      ],
      "metadata": {
        "id": "uBs-32OqdBMc"
      }
    },
    {
      "cell_type": "markdown",
      "source": [
        "#**Type Coercion vs. Type Casting**#\n",
        "##You can convert an object of one type to an object of another type. For example, int('42') converts a string '42' to an integer 42. In actuality, the string object '42' isn’t converted so much as the int() function creates a new integer object based on the original object. When conversion is done explicitly like this, we’re casting the object, although programmers often still refer to this process as converting the object.\n",
        "\n",
        "##Python will often implicitly do a type conversion, such as when evaluating the expression 2 + 3.0 to 5.0. Values, such as the 2 and 3.0, are coerced to a common data type that the operator can work with. This conversion, which is done implicitly, is called type coercion.\n",
        "\n",
        "##Coercion can sometimes lead to surprising results. The Boolean True and False values in Python can be coerced to the integer values 1 and 0, respectively. Although you’d never write Booleans as those values in real-world code, this means that the expression True + False + True is the equivalent of 1 + 0 + 1 and evaluates to 2. After learning this, you might think that passing a list of Booleans to sum() would be a good way to count the number of True values in a list. But it turns out that calling the count() list method is faster."
      ],
      "metadata": {
        "id": "0prKlPKDdqB9"
      }
    },
    {
      "cell_type": "markdown",
      "source": [
        "#**Properties vs. Attributes**#\n",
        "##In many languages, the terms property and attribute are used synonymously, but in Python these words have distinct meanings. An attribute, explained in “Variable vs. Attribute” on page 124, is a name associated with an object. Attributes include the object’s member variables and methods.\n",
        "\n",
        "##Other languages, such as Java, have getter and setter methods for classes. Instead of being able to directly assign an attribute a (potentially invalid) value, a program must call the setter method for that attribute. The code inside the setter method can ensure that the member variable only has a valid value assigned to it. The getter method reads an attribute’s value. If an attribute is named, say, accountBalance, the setter and getter methods are usually named setAccountBalance() and getAccountBalance(), respectively."
      ],
      "metadata": {
        "id": "3okDwoZSeMpe"
      }
    },
    {
      "cell_type": "markdown",
      "source": [
        "#**Script vs. Program, ScriptingLanguage vs. Programming Language**#\n",
        "##The differences between a script and a program, or even a scripting language and a programming language, are vague and arbitrary. It’s fair to say that all scripts are programs and all scripting languages are programming languages. But scripting languages are sometimes regarded as easier or “not real” programming languages.\n",
        "\n",
        "##One way to distinguish scripts from programs is by how the code executes. Scripts written in scripting languages are interpreted directly from the source code, whereas programs written in programming languages are compiled into binaries. But Python is commonly thought of as a scripting language, even though there is a compilation step to bytecode when a Python program is run. Meanwhile, Java isn’t commonly thought of as a scripting language, even though it produces bytecode instead of machine code binaries, just like Python. Technically, languages aren’t compiled or interpreted; rather, there are compiler or interpreter implementations of a language, and it’s possible to create a compiler or interpreter for any language.\n",
        "\n",
        "##The differences can be argued but ultimately aren’t very important. Scripting languages aren’t necessarily less powerful, nor are compiled programming languages more difficult to work with."
      ],
      "metadata": {
        "id": "HSHZxvPzemLv"
      }
    }
  ]
}