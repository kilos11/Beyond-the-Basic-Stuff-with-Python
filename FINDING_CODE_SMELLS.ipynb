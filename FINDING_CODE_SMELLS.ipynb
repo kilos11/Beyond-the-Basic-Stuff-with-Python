{
  "cells": [
    {
      "cell_type": "markdown",
      "metadata": {
        "id": "view-in-github",
        "colab_type": "text"
      },
      "source": [
        "<a href=\"https://colab.research.google.com/github/kilos11/Beyond-the-Basic-Stuff-with-Python/blob/main/FINDING_CODE_SMELLS.ipynb\" target=\"_parent\"><img src=\"https://colab.research.google.com/assets/colab-badge.svg\" alt=\"Open In Colab\"/></a>"
      ]
    },
    {
      "cell_type": "code",
      "execution_count": null,
      "metadata": {
        "id": "Ebki_m1Whw0v"
      },
      "outputs": [],
      "source": []
    },
    {
      "cell_type": "markdown",
      "metadata": {
        "id": "JljomOi4iaHu"
      },
      "source": [
        "#**Duplicate Code**#\n",
        "##The most common code smell is duplicate code. Duplicate code is any source code that you could have created by copying and pasting some other code into your program. For example, this short program contains duplicate code. Notice that it asks how the user is feeling three times:"
      ]
    },
    {
      "cell_type": "code",
      "execution_count": null,
      "metadata": {
        "colab": {
          "base_uri": "https://localhost:8080/"
        },
        "id": "oZGBCAdSi1Xz",
        "outputId": "9ffc4972-1cc3-4a8d-d485-df7fec021fca"
      },
      "outputs": [
        {
          "name": "stdout",
          "output_type": "stream",
          "text": [
            "Good morning!\n",
            "How are you feeling?\n",
            "I am happy to hear that you are feeling Not good.\n",
            "Good afternoon!\n",
            "How are you feeling?\n"
          ]
        }
      ],
      "source": [
        "print('Good morning!')\n",
        "print('How are you feeling?')\n",
        "feeling = input()\n",
        "print('I am happy to hear that you are feeling ' + feeling + '.')\n",
        "print('Good afternoon!')\n",
        "print('How are you feeling?')\n",
        "feeling = input()\n",
        "print('I am happy to hear that you are feeling ' + feeling + '.')\n",
        "print('Good evening!')\n",
        "print('How are you feeling?')\n",
        "feeling = input()\n",
        "print('I am happy to hear that you are feeling ' + feeling + '.')"
      ]
    },
    {
      "cell_type": "markdown",
      "metadata": {
        "id": "Q2n6CRI7lLI4"
      },
      "source": [
        "##Duplicate code is a problem because it makes changing the code difficult; a change you make to one copy of the duplicate code must be made to every copy of it in the program. If you forget to make a change somewhere, or if you make different changes to different copies, your program will likely end up with bugs.\n",
        "\n",
        "##The solution to duplicate code is to deduplicate it; that is, make it appear once in your program by placing the code in a function or loop. In the following example, I’ve moved the duplicate code into a function and then repeatedly called that function:"
      ]
    },
    {
      "cell_type": "code",
      "execution_count": null,
      "metadata": {
        "colab": {
          "base_uri": "https://localhost:8080/"
        },
        "id": "8CqaerzolYTr",
        "outputId": "b2f15f3d-75f5-4596-8695-e728746ceef5"
      },
      "outputs": [
        {
          "name": "stdout",
          "output_type": "stream",
          "text": [
            "Good morning!\n",
            "How are you feeling?\n",
            "Good \n",
            "I am happy to hear that you are feeling Good .\n"
          ]
        }
      ],
      "source": [
        "def askFeeling():\n",
        "    print('How are you feeling?')\n",
        "    feeling = input()\n",
        "    print('I am happy to hear that you are feeling ' + feeling + '.')\n",
        "\n",
        "print('Good morning!')\n",
        "askFeeling()\n",
        "print('Good afternoon!')\n",
        "askFeeling()\n",
        "print('Good evening!')\n",
        "askFeeling()"
      ]
    },
    {
      "cell_type": "markdown",
      "metadata": {
        "id": "v3OksKvVmXbS"
      },
      "source": [
        "##In this next example, I’ve moved the duplicate code into a loop:"
      ]
    },
    {
      "cell_type": "code",
      "execution_count": null,
      "metadata": {
        "colab": {
          "base_uri": "https://localhost:8080/"
        },
        "id": "tboHghZ9mdYJ",
        "outputId": "79640bbe-4d31-4e7f-ec89-2b11987e851a"
      },
      "outputs": [
        {
          "name": "stdout",
          "output_type": "stream",
          "text": [
            "Good morning!\n",
            "How are you feeling?\n",
            "Okay \n",
            "I am happy to hear that you are feeling Okay .\n",
            "Good afternoon!\n",
            "How are you feeling?\n",
            "Nice \n",
            "I am happy to hear that you are feeling Nice .\n",
            "Good evening!\n",
            "How are you feeling?\n",
            "Nige\n",
            "I am happy to hear that you are feeling Nige.\n"
          ]
        }
      ],
      "source": [
        "for timeOfDay in ['morning', 'afternoon', 'evening']:\n",
        "    print('Good ' + timeOfDay + '!')\n",
        "    print('How are you feeling?')\n",
        "    feeling = input()\n",
        "    print('I am happy to hear that you are feeling ' + feeling + '.')"
      ]
    },
    {
      "cell_type": "markdown",
      "metadata": {
        "id": "AH_ncFVHnQo-"
      },
      "source": [
        "##You could also combine these two techniques and use a function and a loop:"
      ]
    },
    {
      "cell_type": "code",
      "execution_count": null,
      "metadata": {
        "colab": {
          "base_uri": "https://localhost:8080/"
        },
        "id": "3o4k9JYrneVh",
        "outputId": "98fcfd14-5ef8-481a-a275-be507568023d"
      },
      "outputs": [
        {
          "name": "stdout",
          "output_type": "stream",
          "text": [
            "Good morning!\n",
            "How are you feeling?\n",
            "Goodbye \n",
            "I am happy to hear that you are feeling Goodbye .\n",
            "Good afternoon!\n",
            "How are you feeling?\n",
            "Beer \n",
            "I am happy to hear that you are feeling Beer .\n",
            "Good evening!\n",
            "How are you feeling?\n",
            "Nice \n",
            "I am happy to hear that you are feeling Nice .\n"
          ]
        }
      ],
      "source": [
        "def askFeeling(timeOfDay):\n",
        "    print('Good ' + timeOfDay + '!')\n",
        "    print('How are you feeling?')\n",
        "    feeling = input()\n",
        "    print('I am happy to hear that you are feeling ' + feeling + '.')\n",
        "\n",
        "for timeOfDay in ['morning', 'afternoon', 'evening']:\n",
        "    askFeeling(timeOfDay)\n"
      ]
    },
    {
      "cell_type": "markdown",
      "metadata": {
        "id": "cy8J3b5IoV8G"
      },
      "source": [
        "#**Magic Numbers**#\n",
        "##It’s no surprise that programming involves numbers. But some of the numbers that appear in your source code can confuse other programmers (or you a couple weeks after writing them). For example, consider the number 604800 in the following line:"
      ]
    },
    {
      "cell_type": "code",
      "execution_count": null,
      "metadata": {
        "id": "derUXXK3ofu-"
      },
      "outputs": [],
      "source": [
        "expiration = time.time() + 604800"
      ]
    },
    {
      "cell_type": "markdown",
      "metadata": {
        "id": "IB8tLf-upI3z"
      },
      "source": [
        "##The time.time() function returns an integer representing the current time. We can assume that the expiration variable will represent some point 604,800 seconds into the future. But 604800 is rather mysterious: what’s the significance of this expiration date? A comment can help clarify:"
      ]
    },
    {
      "cell_type": "code",
      "execution_count": null,
      "metadata": {
        "id": "sy5SEj63pSyY"
      },
      "outputs": [],
      "source": [
        "expiration = time.time() + 604800  # Expire in one week."
      ]
    },
    {
      "cell_type": "markdown",
      "metadata": {
        "id": "XeyoA2VBplPO"
      },
      "source": [
        "##This is a good solution, but an even better one is to replace these “magic” numbers with constants. Constants are variables whose names are written in uppercase letters to indicate that their values shouldn’t change after their initial assignment. Usually, constants are defined as global variables at the top of the source code file:"
      ]
    },
    {
      "cell_type": "code",
      "execution_count": null,
      "metadata": {
        "id": "d8PvI4MNpuni"
      },
      "outputs": [],
      "source": [
        "# Set up constants for different time amounts:\n",
        "SECONDS_PER_MINUTE = 60\n",
        "SECONDS_PER_HOUR   = 60 * SECONDS_PER_MINUTE\n",
        "SECONDS_PER_DAY    = 24 * SECONDS_PER_HOUR\n",
        "SECONDS_PER_WEEK   = 7  * SECONDS_PER_DAY\n",
        "\n",
        "expiration = time.time() + SECONDS_PER_WEEK  # Expire in one week."
      ]
    },
    {
      "cell_type": "markdown",
      "metadata": {
        "id": "7st88rIUqkre"
      },
      "source": [
        "##You should use separate constants for magic numbers that serve different purposes, even if the magic number is the same. For example, there are 52 cards in a deck of playing cards and 52 weeks in a year. But if you have both amounts in your program, you should do something like the following:"
      ]
    },
    {
      "cell_type": "code",
      "execution_count": null,
      "metadata": {
        "colab": {
          "base_uri": "https://localhost:8080/"
        },
        "id": "xXNyVVhcqteF",
        "outputId": "7e884ad8-b879-48d1-e541-a4a500148658"
      },
      "outputs": [
        {
          "name": "stdout",
          "output_type": "stream",
          "text": [
            "The 2-year contract lasts for 104 weeks.\n",
            "This deck contains 52 cards.\n"
          ]
        }
      ],
      "source": [
        "NUM_CARDS_IN_DECK = 52\n",
        "NUM_WEEKS_IN_YEAR = 52\n",
        "\n",
        "print('The 2-year contract lasts for', 2 * NUM_WEEKS_IN_YEAR, 'weeks.')\n",
        "print('This deck contains', NUM_CARDS_IN_DECK, 'cards.')"
      ]
    },
    {
      "cell_type": "markdown",
      "metadata": {
        "id": "3257qTNdrT_W"
      },
      "source": [
        "##Using separate constants allows you to change them independently in the future. Note that constant variables should never change values while the program is running. But this doesn’t mean that the programmer can never update them in the source code. For example, if a future version of the code includes a joker card, you can change the cards constant without affecting the weeks one:"
      ]
    },
    {
      "cell_type": "code",
      "execution_count": null,
      "metadata": {
        "id": "JUqx-cypreN3"
      },
      "outputs": [],
      "source": [
        "NUM_CARDS_IN_DECK = 53\n",
        "NUM_WEEKS_IN_YEAR = 52"
      ]
    },
    {
      "cell_type": "markdown",
      "metadata": {
        "id": "M3okycVXrngs"
      },
      "source": [
        "##The term magic number can also apply to non-numeric values. For example, you might use string values as constants. Consider the following program, which asks the user to enter a direction and displays a warning if the direction is north. A 'nrth' typo causes a bug that prevents the program from displaying the warning:"
      ]
    },
    {
      "cell_type": "code",
      "execution_count": null,
      "metadata": {
        "colab": {
          "background_save": true
        },
        "id": "co9zxS72r0Cl"
      },
      "outputs": [],
      "source": [
        "while True:\n",
        "    print('Set solar panel direction:')\n",
        "    direction = input().lower()\n",
        "    if direction in ('north', 'south', 'east', 'west'):\n",
        "        break\n",
        "\n",
        "\n",
        "print('Solar panel heading set to:', direction)\n",
        "if direction == 'nrth':\n",
        "    print('Warning: Facing north is inefficient for this panel.')"
      ]
    },
    {
      "cell_type": "markdown",
      "source": [
        "##This bug can be hard to detect: the typo in the 'nrth' string 1 is still syntactically correct Python. The program doesn’t crash, and it’s easy to overlook the lack of a warning message. But if we used constants and made this same typo, the typo would cause the program to crash because Python would notice that a NRTH constant doesn’t exist:"
      ],
      "metadata": {
        "id": "B2-PnNf7uVKu"
      }
    },
    {
      "cell_type": "code",
      "source": [
        "# Set up constants for each cardinal direction:\n",
        "NORTH = 'north'\n",
        "SOUTH = 'south'\n",
        "EAST = 'east'\n",
        "WEST = 'west'\n",
        "\n",
        "while True:\n",
        "    print('Set solar panel direction:')\n",
        "    direction = input().lower()\n",
        "    if direction in (NORTH, SOUTH, EAST, WEST):\n",
        "        break\n",
        "\n",
        "print('Solar panel heading set to:', direction)\n",
        "if direction == NRTH:\n",
        "    print('Warning: Facing north is inefficient for this panel.')"
      ],
      "metadata": {
        "colab": {
          "base_uri": "https://localhost:8080/",
          "height": 349
        },
        "id": "szdjt_D9umqF",
        "outputId": "18f1ef8c-3d8c-424b-b734-bf0e6325641a"
      },
      "execution_count": null,
      "outputs": [
        {
          "output_type": "stream",
          "name": "stdout",
          "text": [
            "Set solar panel direction:\n",
            "North \n",
            "Set solar panel direction:\n",
            "East \n",
            "Set solar panel direction:\n",
            "West \n",
            "Set solar panel direction:\n",
            "South\n",
            "Solar panel heading set to: south\n"
          ]
        },
        {
          "output_type": "error",
          "ename": "NameError",
          "evalue": "name 'NRTH' is not defined",
          "traceback": [
            "\u001b[0;31m---------------------------------------------------------------------------\u001b[0m",
            "\u001b[0;31mNameError\u001b[0m                                 Traceback (most recent call last)",
            "\u001b[0;32m<ipython-input-9-0e81b95dd8d9>\u001b[0m in \u001b[0;36m<cell line: 14>\u001b[0;34m()\u001b[0m\n\u001b[1;32m     12\u001b[0m \u001b[0;34m\u001b[0m\u001b[0m\n\u001b[1;32m     13\u001b[0m \u001b[0mprint\u001b[0m\u001b[0;34m(\u001b[0m\u001b[0;34m'Solar panel heading set to:'\u001b[0m\u001b[0;34m,\u001b[0m \u001b[0mdirection\u001b[0m\u001b[0;34m)\u001b[0m\u001b[0;34m\u001b[0m\u001b[0;34m\u001b[0m\u001b[0m\n\u001b[0;32m---> 14\u001b[0;31m \u001b[0;32mif\u001b[0m \u001b[0mdirection\u001b[0m \u001b[0;34m==\u001b[0m \u001b[0mNRTH\u001b[0m\u001b[0;34m:\u001b[0m\u001b[0;34m\u001b[0m\u001b[0;34m\u001b[0m\u001b[0m\n\u001b[0m\u001b[1;32m     15\u001b[0m     \u001b[0mprint\u001b[0m\u001b[0;34m(\u001b[0m\u001b[0;34m'Warning: Facing north is inefficient for this panel.'\u001b[0m\u001b[0;34m)\u001b[0m\u001b[0;34m\u001b[0m\u001b[0;34m\u001b[0m\u001b[0m\n",
            "\u001b[0;31mNameError\u001b[0m: name 'NRTH' is not defined"
          ]
        }
      ]
    },
    {
      "cell_type": "markdown",
      "source": [
        "#**Commented-Out Code and Dead Code**#\n",
        "##Commenting out code so it doesn’t run is fine as a temporary measure. You might want to skip some lines to test other functionality, and commenting them out makes them easy to add back in later. But if commented-out code remains in place, it’s a complete mystery why it was removed and under what condition it might ever be needed again. Consider the following example:"
      ],
      "metadata": {
        "id": "4YZ8X4-NvhUa"
      }
    },
    {
      "cell_type": "code",
      "source": [
        "doSomething()\n",
        "#doAnotherThing()\n",
        "doSomeImportantTask()\n",
        "doAnotherThing()"
      ],
      "metadata": {
        "id": "b4gUywRVwYMf"
      },
      "execution_count": null,
      "outputs": []
    },
    {
      "cell_type": "markdown",
      "source": [
        "##This code prompts many unanswered questions: Why was doAnotherThing() commented out? Will we ever include it again? Why wasn’t the second call to doAnotherThing() commented out? Were there originally two calls to doAnotherThing(), or was there one call that was moved after doSomeImportantTask()? Is there a reason we shouldn’t remove the commented-out code? There are no readily available answers to these questions.\n",
        "\n",
        "##Dead code is code that is unreachable or logically can never run. For example, code inside a function but after a return statement, code in an if statement block with an always False condition, or code in a function that is never called is all dead code. To see this in practice, enter the following into the interactive shell:"
      ],
      "metadata": {
        "id": "lGa-e7Wawoto"
      }
    },
    {
      "cell_type": "code",
      "source": [
        "import random\n",
        "\n",
        "def coinFlip():\n",
        "    if random.randint(0, 1):\n",
        "        return 'Heads!'\n",
        "    else:\n",
        "        return 'Tails!'\n",
        "    return 'The coin landed on its edge!'\n",
        "print(coinFlip())"
      ],
      "metadata": {
        "colab": {
          "base_uri": "https://localhost:8080/"
        },
        "id": "xZlnNtiExJUB",
        "outputId": "dd6b5d62-6e0f-418d-b042-2a3984575828"
      },
      "execution_count": null,
      "outputs": [
        {
          "output_type": "stream",
          "name": "stdout",
          "text": [
            "Heads!\n"
          ]
        }
      ]
    },
    {
      "cell_type": "markdown",
      "source": [
        "##The return 'The coin landed on its edge!' line is dead code because the code in the if and else blocks returns before the execution could ever reach that line. Dead code is misleading because programmers reading it assume that it’s an active part of the program when it’s effectively the same as commented-out code.\n",
        "\n",
        "##Stubs are an exception to these code smell rules. These are placeholders for future code, such as functions or classes that have yet to be implemented. In lieu of real code, a stub contains a pass statement, which does nothing. (It’s also called a no operation or no-op.) The pass statement exists so you can create stubs in places where the language syntax requires some code:"
      ],
      "metadata": {
        "id": "uqqsnV1qyRfS"
      }
    },
    {
      "cell_type": "code",
      "source": [
        "def exampleFunction():\n",
        "    pass"
      ],
      "metadata": {
        "id": "fsbnZrwlyymb"
      },
      "execution_count": null,
      "outputs": []
    },
    {
      "cell_type": "markdown",
      "source": [
        "##When this function is called, it does nothing. Instead, it indicates that code will eventually be added in.\n",
        "\n",
        "##Alternatively, to avoid accidentally calling an unimplemented function, you can stub it with a raiseNotImplementedError statement. This will immediately indicate that the function isn’t yet ready to be called:"
      ],
      "metadata": {
        "id": "j8RVagSLzhMm"
      }
    },
    {
      "cell_type": "code",
      "source": [
        "def exampleFunction():\n",
        "    raise NotImplementedError\n",
        "\n",
        "exampleFunction()"
      ],
      "metadata": {
        "colab": {
          "base_uri": "https://localhost:8080/",
          "height": 280
        },
        "id": "ejAt5Vl2zplb",
        "outputId": "c615bed9-fa81-44b9-acd0-abbf601bf8c0"
      },
      "execution_count": null,
      "outputs": [
        {
          "output_type": "error",
          "ename": "NotImplementedError",
          "evalue": "",
          "traceback": [
            "\u001b[0;31m---------------------------------------------------------------------------\u001b[0m",
            "\u001b[0;31mNotImplementedError\u001b[0m                       Traceback (most recent call last)",
            "\u001b[0;32m<ipython-input-19-e5c7105ca977>\u001b[0m in \u001b[0;36m<cell line: 4>\u001b[0;34m()\u001b[0m\n\u001b[1;32m      2\u001b[0m     \u001b[0;32mraise\u001b[0m \u001b[0mNotImplementedError\u001b[0m\u001b[0;34m\u001b[0m\u001b[0;34m\u001b[0m\u001b[0m\n\u001b[1;32m      3\u001b[0m \u001b[0;34m\u001b[0m\u001b[0m\n\u001b[0;32m----> 4\u001b[0;31m \u001b[0mexampleFunction\u001b[0m\u001b[0;34m(\u001b[0m\u001b[0;34m)\u001b[0m\u001b[0;34m\u001b[0m\u001b[0;34m\u001b[0m\u001b[0m\n\u001b[0m",
            "\u001b[0;32m<ipython-input-19-e5c7105ca977>\u001b[0m in \u001b[0;36mexampleFunction\u001b[0;34m()\u001b[0m\n\u001b[1;32m      1\u001b[0m \u001b[0;32mdef\u001b[0m \u001b[0mexampleFunction\u001b[0m\u001b[0;34m(\u001b[0m\u001b[0;34m)\u001b[0m\u001b[0;34m:\u001b[0m\u001b[0;34m\u001b[0m\u001b[0;34m\u001b[0m\u001b[0m\n\u001b[0;32m----> 2\u001b[0;31m     \u001b[0;32mraise\u001b[0m \u001b[0mNotImplementedError\u001b[0m\u001b[0;34m\u001b[0m\u001b[0;34m\u001b[0m\u001b[0m\n\u001b[0m\u001b[1;32m      3\u001b[0m \u001b[0;34m\u001b[0m\u001b[0m\n\u001b[1;32m      4\u001b[0m \u001b[0mexampleFunction\u001b[0m\u001b[0;34m(\u001b[0m\u001b[0;34m)\u001b[0m\u001b[0;34m\u001b[0m\u001b[0;34m\u001b[0m\u001b[0m\n",
            "\u001b[0;31mNotImplementedError\u001b[0m: "
          ]
        }
      ]
    },
    {
      "cell_type": "markdown",
      "source": [
        "#**Print Debugging**#\n",
        "##Print debugging is the practice of placing temporary print() calls in a program to display the values of variables and then rerunning the program. The process often follows these steps:\n",
        "\n",
        "##Notice a bug in your program.\n",
        "##**Add print() calls for some variables to find out what they contain.*\n",
        "##**Rerun the program.*\n",
        "##**Add some more print() calls because the earlier ones didn’t show enough information.*\n",
        "##**Rerun the program.*\n",
        "##**Repeat the previous two steps a few more times before finally figuring out the bug.*\n",
        "##**Rerun the program.*\n",
        "##**Realize you forgot to remove some of the print() calls and remove them.*\n",
        "##Print debugging is deceptively quick and simple. But it often requires multiple iterations of rerunning the program before you display the information you need to fix your bug. The solution is to use a debugger or set up logfiles for your program. By using a debugger, you can run your programs one line of code at a time and inspect any variable. Using a debugger might seem slower than simply inserting a print() call, but it saves you time in the long run.\n",
        "\n",
        "##Logfiles can record large amounts of information from your program so you can compare one run of it to previous runs. In Python, the built-in logging module provides the functionality you need to easily create logfiles by using just three lines of code:"
      ],
      "metadata": {
        "id": "1BSbldQ71SeC"
      }
    },
    {
      "cell_type": "code",
      "source": [
        "# Import the logging module\n",
        "import logging\n",
        "\n",
        "# Configure the logging settings\n",
        "logging.basicConfig(\n",
        "    # Specify the filename to write the logs to\n",
        "        filename='log_filename.txt',\n",
        "            # Set the logging level to DEBUG (logs everything)\n",
        "                level=logging.DEBUG,\n",
        "                    # Define the format for log messages\n",
        "                        format='%(asctime)s - %(levelname)s - %(message)s'\n",
        "                        )\n",
        "\n",
        "# Log a DEBUG-level message\n",
        "logging.debug('This is a log message.')"
      ],
      "metadata": {
        "id": "96tOpEZ72nCS"
      },
      "execution_count": null,
      "outputs": []
    },
    {
      "cell_type": "markdown",
      "source": [
        "#**Variables with Numeric Suffixes**#\n",
        "##When writing programs, you might need multiple variables that store the same kind of data. In those cases, you might be tempted to reuse a variable name by adding a numeric suffix to it. For example, if you’re handling a signup form that asks users to enter their password twice to prevent typos, you might store those password strings in variables named password1 and password2. These numeric suffixes aren’t good descriptions of what the variables contain or the differences between them. They also don’t indicate how many of these variables there are: is there a password3 or a password4 as well? Try to create distinct names rather than lazily adding numeric suffixes. A better set of names for this password example would be password and confirm_password.\n",
        "\n",
        "##Let’s look at another example: if you have a function that deals with start and destination coordinates, you might have the parameters x1, y1, x2, and y2. But the numeric suffix names don’t convey as much information as the names start_x, start_y, end_x, and end_y. It’s also clearer that the start_x and start_y variables are related to each other, compared to x1 and y1.\n",
        "\n",
        "##If your numeric suffixes extend past 2, you might want to use a list or set data structure to store your data as a collection. For example, you could store the values of pet1Name, pet2Name, pet3Name, and so on in a list called petNames.\n",
        "\n",
        "##This code smell doesn’t apply to every variable that simply ends with a number. For example, it’s perfectly fine to have a variable named enableIPv6, because “6” is part of the “IPv6” proper name, not a numeric suffix. But if you’re using numeric suffixes for a series of variables, consider replacing them with a data structure, such as a list or dictionary."
      ],
      "metadata": {
        "id": "uc58WNzMim0c"
      }
    },
    {
      "cell_type": "markdown",
      "source": [
        "#**Classes That Should Just Be Functions or Modules**#\n",
        "##Programmers who use languages such as Java are used to creating classes to organize their program’s code. For example, let’s look at this example Dice class, which has a roll() method:"
      ],
      "metadata": {
        "id": "WlphYeNAjFDK"
      }
    },
    {
      "cell_type": "code",
      "source": [
        "import random\n",
        "\n",
        "class Dice:\n",
        "    def __init__(self, sides=6):\n",
        "        self.sides = sides\n",
        "    def roll(self):\n",
        "        return random.randint(1, self.sides)\n",
        "\n",
        "#two dices\n",
        "dice1 = Dice()\n",
        "dice2 = Dice()\n",
        "\n",
        "roll1 = dice1.roll()\n",
        "roll2 = dice2.roll()\n",
        "\n",
        "print('You rolled a', roll1, 'and', roll2)"
      ],
      "metadata": {
        "colab": {
          "base_uri": "https://localhost:8080/"
        },
        "id": "7vfPC7HzjPqW",
        "outputId": "cc95fd95-006b-4736-93ab-d185f1ccdc2e"
      },
      "execution_count": null,
      "outputs": [
        {
          "output_type": "stream",
          "name": "stdout",
          "text": [
            "You rolled a 6 and 3\n"
          ]
        }
      ]
    },
    {
      "cell_type": "markdown",
      "source": [
        "##This might seem like well-organized code, but think about what our actual needs are: a random number between 1 and 6. We could replace this entire class with a simple function call:"
      ],
      "metadata": {
        "id": "E1aC3zEWo16C"
      }
    },
    {
      "cell_type": "code",
      "source": [
        "print('You rolled a', random.randint(1, 6))"
      ],
      "metadata": {
        "colab": {
          "base_uri": "https://localhost:8080/"
        },
        "id": "R3RTu1jZo9in",
        "outputId": "c5a3e210-bd06-4d3a-ecca-48c8b5928b70"
      },
      "execution_count": null,
      "outputs": [
        {
          "output_type": "stream",
          "name": "stdout",
          "text": [
            "You rolled a 6\n"
          ]
        }
      ]
    },
    {
      "cell_type": "markdown",
      "source": [
        "\n",
        "#**List Comprehensions Within List Comprehensions**#\n",
        "##List comprehensions are a concise way to create complex list values. For example, to create a list of strings of digits for the numbers 0 through 100, excluding all multiples of 5, you’d typically need a for loop:"
      ],
      "metadata": {
        "id": "gKSvVcsIqd1D"
      }
    },
    {
      "cell_type": "code",
      "source": [
        "spam = []\n",
        "\n",
        "for number in range(100):\n",
        "    if number % 5 != 0:\n",
        "        spam.append(str(number))\n",
        "spam"
      ],
      "metadata": {
        "id": "Q49OKXWqqtcL"
      },
      "execution_count": null,
      "outputs": []
    },
    {
      "cell_type": "markdown",
      "source": [
        "##Alternatively, you can create this same list in a single line of code by using the list comprehension syntax:"
      ],
      "metadata": {
        "id": "ruVmDTJ8sFA6"
      }
    },
    {
      "cell_type": "code",
      "source": [
        "spam = [str(number) for number in range(100) if number % 5 != 0]\n",
        "spam"
      ],
      "metadata": {
        "id": "hY2veF57sORK"
      },
      "execution_count": null,
      "outputs": []
    },
    {
      "cell_type": "markdown",
      "source": [
        "##Python also has syntax for set comprehensions and dictionary comprehensions:"
      ],
      "metadata": {
        "id": "tRkb-9Y3tQVW"
      }
    },
    {
      "cell_type": "code",
      "source": [
        "# Create a set of strings representing numbers from 0 to 99 that are not divisible by 5\n",
        "spam = {str(number) for number in range(100) if number % 5 != 0}\n",
        "print(spam)\n",
        "\n",
        "\n",
        "# Create a dictionary with strings representing numbers from 0 to 99 that are not divisible by 5 as keys and the corresponding numbers as values\n",
        "spam = {str(number): number for number in range(100) if number % 5 != 0}\n",
        "print(spam)\n"
      ],
      "metadata": {
        "colab": {
          "base_uri": "https://localhost:8080/"
        },
        "id": "yKsw7QlsvDjD",
        "outputId": "d992f777-8d85-468e-8a5c-e476d867de58"
      },
      "execution_count": null,
      "outputs": [
        {
          "output_type": "stream",
          "name": "stdout",
          "text": [
            "{'72', '2', '19', '4', '88', '92', '64', '89', '71', '8', '83', '11', '77', '57', '63', '16', '67', '54', '76', '56', '58', '98', '6', '1', '52', '41', '36', '46', '93', '51', '87', '86', '3', '34', '94', '22', '47', '37', '18', '33', '49', '91', '28', '44', '12', '79', '13', '69', '38', '61', '21', '42', '62', '9', '74', '59', '39', '43', '99', '82', '23', '97', '84', '26', '78', '73', '48', '66', '17', '81', '24', '29', '96', '32', '53', '31', '68', '14', '27', '7'}\n",
            "{'1': 1, '2': 2, '3': 3, '4': 4, '6': 6, '7': 7, '8': 8, '9': 9, '11': 11, '12': 12, '13': 13, '14': 14, '16': 16, '17': 17, '18': 18, '19': 19, '21': 21, '22': 22, '23': 23, '24': 24, '26': 26, '27': 27, '28': 28, '29': 29, '31': 31, '32': 32, '33': 33, '34': 34, '36': 36, '37': 37, '38': 38, '39': 39, '41': 41, '42': 42, '43': 43, '44': 44, '46': 46, '47': 47, '48': 48, '49': 49, '51': 51, '52': 52, '53': 53, '54': 54, '56': 56, '57': 57, '58': 58, '59': 59, '61': 61, '62': 62, '63': 63, '64': 64, '66': 66, '67': 67, '68': 68, '69': 69, '71': 71, '72': 72, '73': 73, '74': 74, '76': 76, '77': 77, '78': 78, '79': 79, '81': 81, '82': 82, '83': 83, '84': 84, '86': 86, '87': 87, '88': 88, '89': 89, '91': 91, '92': 92, '93': 93, '94': 94, '96': 96, '97': 97, '98': 98, '99': 99}\n"
          ]
        }
      ]
    },
    {
      "cell_type": "markdown",
      "source": [
        "##A set comprehension 1 uses braces instead of square brackets and produces a set value. A dictionary comprehension 2 produces a dictionary value and uses a colon to separate the key and value in the comprehension.\n",
        "\n",
        "##These comprehensions are concise and can make your code more readable. But notice that the comprehensions produce a list, set, or dictionary based on an iterable object (in this example, the range object returned by the range(100) call). Lists, sets, and dictionaries are iterable objects, which means you could have comprehensions nested inside of comprehensions, as in the following example:"
      ],
      "metadata": {
        "id": "gyrC_C2RboYk"
      }
    },
    {
      "cell_type": "code",
      "source": [
        "nestedIntList = [[0, 1, 2, 3], [4], [5, 6], [7, 8, 9]]\n",
        "nestedStrList = [[str(i) for i in sublist] for sublist in nestedIntList]\n",
        "nestedStrList"
      ],
      "metadata": {
        "colab": {
          "base_uri": "https://localhost:8080/"
        },
        "id": "QHV-adhyb2ND",
        "outputId": "98685075-62aa-4ed3-e742-fac4ead0af0f"
      },
      "execution_count": 1,
      "outputs": [
        {
          "output_type": "execute_result",
          "data": {
            "text/plain": [
              "[['0', '1', '2', '3'], ['4'], ['5', '6'], ['7', '8', '9']]"
            ]
          },
          "metadata": {},
          "execution_count": 1
        }
      ]
    },
    {
      "cell_type": "markdown",
      "source": [
        "##But nested list comprehensions (or nested set and dictionary comprehensions) cram a lot of complexity into a small amount of code, making your code hard to read. It’s better to expand the list comprehension into one or more for loops instead:"
      ],
      "metadata": {
        "id": "oAepthOIdh8v"
      }
    },
    {
      "cell_type": "code",
      "source": [
        "nestedIntList = [[0, 1, 2, 3], [4], [5, 6], [7, 8, 9]]\n",
        "nestedStrList = []\n",
        "for sublist in nestedIntList:\n",
        "    nestedStrList.append([str(i) for i in sublist])\n",
        "\n",
        "nestedStrList"
      ],
      "metadata": {
        "colab": {
          "base_uri": "https://localhost:8080/"
        },
        "id": "baeF0sCkdwUH",
        "outputId": "df3f8878-bdd9-49f8-ffec-7062d808272b"
      },
      "execution_count": 3,
      "outputs": [
        {
          "output_type": "execute_result",
          "data": {
            "text/plain": [
              "[['0', '1', '2', '3'], ['4'], ['5', '6'], ['7', '8', '9']]"
            ]
          },
          "metadata": {},
          "execution_count": 3
        }
      ]
    },
    {
      "cell_type": "markdown",
      "source": [
        "##This list comprehension contains two for expressions, but it’s difficult for even experienced Python developers to understand. The expanded form, which uses two for loops, creates the same flattened list but is much easier to read:"
      ],
      "metadata": {
        "id": "oj7msI-zeV17"
      }
    },
    {
      "cell_type": "code",
      "source": [
        "nestedList = [[0, 1, 2, 3], [4], [5, 6], [7, 8, 9]]\n",
        "flatList = []\n",
        "for sublist in nestedList:\n",
        "    for num in sublist:\n",
        "        flatList.append(num)\n",
        "flatList"
      ],
      "metadata": {
        "colab": {
          "base_uri": "https://localhost:8080/"
        },
        "id": "3_HtxHXtedh5",
        "outputId": "b9997822-71fd-41ca-89b0-4d71a7454d7d"
      },
      "execution_count": 4,
      "outputs": [
        {
          "output_type": "execute_result",
          "data": {
            "text/plain": [
              "[0, 1, 2, 3, 4, 5, 6, 7, 8, 9]"
            ]
          },
          "metadata": {},
          "execution_count": 4
        }
      ]
    },
    {
      "cell_type": "markdown",
      "source": [
        "#**Empty except Blocks and Poor Error Messages**#\n",
        "##Catching exceptions is one of the primary ways to ensure that your programs will continue to function even when problems arise. When an exception is raised but there is no except block to handle it, the Python program crashes by immediately stopping. This could result in losing your unsaved work or leaving files in a half-finished state.\n",
        "\n",
        "##You can prevent crashes by supplying an except block that contains code for handling the error. But it can be difficult to decide how to handle an error, and programmers can be tempted to simply leave the except block blank with a pass statement. For example, in the following code we use pass to create an except block that does nothing:"
      ],
      "metadata": {
        "id": "5dVVbtcTfMeM"
      }
    },
    {
      "cell_type": "code",
      "source": [
        "try:\n",
        "    num = input('Enter a number: ')\n",
        "    num = int(num)\n",
        "except ValueError:\n",
        "    pass"
      ],
      "metadata": {
        "colab": {
          "base_uri": "https://localhost:8080/"
        },
        "id": "rvqU9vdSfyx6",
        "outputId": "2ec4b297-0ca9-4683-ed84-4c2cc90f4ceb"
      },
      "execution_count": 6,
      "outputs": [
        {
          "name": "stdout",
          "output_type": "stream",
          "text": [
            "Enter a number: Forty\n"
          ]
        }
      ]
    },
    {
      "cell_type": "markdown",
      "source": [
        "##This code doesn’t crash when 'forty two' is passed to int() because the ValueError that int() raises is handled by the except statement. But doing nothing in response to an error might be worse than a crash. Programs crash so they don’t continue to run with bad data or in incomplete states, which could lead to even worse bugs later on. Our code doesn’t crash when nondigit characters are entered. But now the num variable contains a string instead of an integer, which could cause issues whenever the num variable gets used. Our except statement isn’t handling errors so much as hiding them.\n",
        "\n",
        "##Handling exceptions with poor error messages is another code smell. Look at this example:\n",
        "\n"
      ],
      "metadata": {
        "id": "z9OWsH8Jgjqg"
      }
    },
    {
      "cell_type": "code",
      "source": [
        "try:\n",
        "    num = input('Enter a number: ')\n",
        "    num = int(num)\n",
        "except ValueError:\n",
        "    print('An incorrect value was passed to int()')"
      ],
      "metadata": {
        "colab": {
          "base_uri": "https://localhost:8080/"
        },
        "id": "an11SRkghJnN",
        "outputId": "6535f985-bc53-4ea4-dab2-7c16c41ef6f7"
      },
      "execution_count": 8,
      "outputs": [
        {
          "name": "stdout",
          "output_type": "stream",
          "text": [
            "Enter a number: 23\n"
          ]
        }
      ]
    },
    {
      "cell_type": "markdown",
      "source": [
        "#**Myth: Functions Should Have at Most One try Statement**#\n",
        "##“Functions and methods should do one thing” is good advice in general. But taking this to mean that exception handling should occur in a separate function goes too far. For example, let’s look at a function that indicates whether a file we want to delete is already nonexistent:"
      ],
      "metadata": {
        "id": "K3L6VbkZi4TW"
      }
    },
    {
      "cell_type": "code",
      "source": [
        "import os\n",
        "\n",
        "def deleteWithConfirmation(filename):\n",
        "    try:\n",
        "        if (input('Delete ' + filename + ', are you sure? Y/N') == 'Y'):\n",
        "            os.unlink(filename)\n",
        "    except FileNotFoundError:\n",
        "        print('That file already did not exist.')"
      ],
      "metadata": {
        "id": "REBZ58szjDlQ"
      },
      "execution_count": 9,
      "outputs": []
    },
    {
      "cell_type": "markdown",
      "source": [
        "##Proponents of this code smell myth argue that because functions should always do just one thing, and error handling is one thing, we should split this function into two functions. They argue that if you use a try-except statement, it should be the first statement in a function and envelop all of the function’s code to look like this:"
      ],
      "metadata": {
        "id": "ADrhnSq4kCeb"
      }
    },
    {
      "cell_type": "code",
      "source": [
        "import os\n",
        "\n",
        "def handleErrorForDeleteWithConfirmation(filename):\n",
        "    try:\n",
        "        _deleteWithConfirmation(filename)"
      ],
      "metadata": {
        "id": "qt6YHNwZkJLv"
      },
      "execution_count": null,
      "outputs": []
    }
  ],
  "metadata": {
    "colab": {
      "provenance": [],
      "authorship_tag": "ABX9TyMMSfoXFh3ag+vqZY0LwH/B",
      "include_colab_link": true
    },
    "kernelspec": {
      "display_name": "Python 3",
      "name": "python3"
    },
    "language_info": {
      "name": "python"
    }
  },
  "nbformat": 4,
  "nbformat_minor": 0
}